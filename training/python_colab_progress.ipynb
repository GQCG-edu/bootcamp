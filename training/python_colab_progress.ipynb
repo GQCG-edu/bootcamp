{
  "nbformat": 4,
  "nbformat_minor": 0,
  "metadata": {
    "colab": {
      "name": "Untitled1.ipynb",
      "provenance": [],
      "toc_visible": true
    },
    "kernelspec": {
      "name": "python3",
      "display_name": "Python 3"
    }
  },
  "cells": [
    {
      "cell_type": "code",
      "metadata": {
        "id": "x5ybwbf3w3Dw"
      },
      "source": [
        "import numpy as np\n",
        "import matplotlib.pyplot as plt"
      ],
      "execution_count": 1,
      "outputs": []
    },
    {
      "cell_type": "markdown",
      "metadata": {
        "id": "GdLuaDE8xdVz"
      },
      "source": [
        "## Diagonalize a random 40x40 matrix"
      ]
    },
    {
      "cell_type": "code",
      "metadata": {
        "colab": {
          "base_uri": "https://localhost:8080/"
        },
        "id": "J-oWG61fw7ne",
        "outputId": "255c49eb-dd66-4413-a8e7-795435ed0e62"
      },
      "source": [
        "M = np.random.rand(40,40)\n",
        "M"
      ],
      "execution_count": 2,
      "outputs": [
        {
          "output_type": "execute_result",
          "data": {
            "text/plain": [
              "array([[0.93775717, 0.11499045, 0.24766786, ..., 0.22044187, 0.8017586 ,\n",
              "        0.89067637],\n",
              "       [0.61888809, 0.20333072, 0.91553304, ..., 0.22497385, 0.69823832,\n",
              "        0.78892363],\n",
              "       [0.52941895, 0.62495496, 0.64852597, ..., 0.75455534, 0.55460316,\n",
              "        0.24261503],\n",
              "       ...,\n",
              "       [0.92850461, 0.76983325, 0.20431452, ..., 0.99272703, 0.81512591,\n",
              "        0.87358454],\n",
              "       [0.72263717, 0.54975114, 0.2200366 , ..., 0.26247648, 0.4097444 ,\n",
              "        0.00449474],\n",
              "       [0.96650136, 0.87439452, 0.61333755, ..., 0.06236041, 0.24786597,\n",
              "        0.11862522]])"
            ]
          },
          "metadata": {
            "tags": []
          },
          "execution_count": 2
        }
      ]
    },
    {
      "cell_type": "code",
      "metadata": {
        "id": "aXlsHwqIxcoh",
        "colab": {
          "base_uri": "https://localhost:8080/"
        },
        "outputId": "495b7be4-20ed-45c9-d629-dcb68ee92358"
      },
      "source": [
        "eigenvalues = np.linalg.eig(M)[0]\n",
        "M_diag = np.diag(eigenvalues)\n",
        "M_diag"
      ],
      "execution_count": 3,
      "outputs": [
        {
          "output_type": "execute_result",
          "data": {
            "text/plain": [
              "array([[20.17716942+0.j        ,  0.        +0.j        ,\n",
              "         0.        +0.j        , ...,  0.        +0.j        ,\n",
              "         0.        +0.j        ,  0.        +0.j        ],\n",
              "       [ 0.        +0.j        ,  1.07764045+1.42666672j,\n",
              "         0.        +0.j        , ...,  0.        +0.j        ,\n",
              "         0.        +0.j        ,  0.        +0.j        ],\n",
              "       [ 0.        +0.j        ,  0.        +0.j        ,\n",
              "         1.07764045-1.42666672j, ...,  0.        +0.j        ,\n",
              "         0.        +0.j        ,  0.        +0.j        ],\n",
              "       ...,\n",
              "       [ 0.        +0.j        ,  0.        +0.j        ,\n",
              "         0.        +0.j        , ..., -0.28932996-0.33327948j,\n",
              "         0.        +0.j        ,  0.        +0.j        ],\n",
              "       [ 0.        +0.j        ,  0.        +0.j        ,\n",
              "         0.        +0.j        , ...,  0.        +0.j        ,\n",
              "        -0.11857914+0.10506972j,  0.        +0.j        ],\n",
              "       [ 0.        +0.j        ,  0.        +0.j        ,\n",
              "         0.        +0.j        , ...,  0.        +0.j        ,\n",
              "         0.        +0.j        , -0.11857914-0.10506972j]])"
            ]
          },
          "metadata": {
            "tags": []
          },
          "execution_count": 3
        }
      ]
    },
    {
      "cell_type": "markdown",
      "metadata": {
        "id": "FWFaq17sxr0T"
      },
      "source": [
        "## Diagonalize a random symmetric 40x40 matrix\n"
      ]
    },
    {
      "cell_type": "code",
      "metadata": {
        "id": "zrb3pBxAxrZb",
        "colab": {
          "base_uri": "https://localhost:8080/"
        },
        "outputId": "86df6d78-4264-46f2-ce36-74cd5500c9f8"
      },
      "source": [
        "M = M + M.T \n",
        "M"
      ],
      "execution_count": 4,
      "outputs": [
        {
          "output_type": "execute_result",
          "data": {
            "text/plain": [
              "array([[1.87551434, 0.73387854, 0.77708681, ..., 1.14894648, 1.52439577,\n",
              "        1.85717773],\n",
              "       [0.73387854, 0.40666145, 1.54048801, ..., 0.9948071 , 1.24798947,\n",
              "        1.66331814],\n",
              "       [0.77708681, 1.54048801, 1.29705194, ..., 0.95886986, 0.77463976,\n",
              "        0.85595258],\n",
              "       ...,\n",
              "       [1.14894648, 0.9948071 , 0.95886986, ..., 1.98545407, 1.07760239,\n",
              "        0.93594494],\n",
              "       [1.52439577, 1.24798947, 0.77463976, ..., 1.07760239, 0.81948881,\n",
              "        0.25236071],\n",
              "       [1.85717773, 1.66331814, 0.85595258, ..., 0.93594494, 0.25236071,\n",
              "        0.23725043]])"
            ]
          },
          "metadata": {
            "tags": []
          },
          "execution_count": 4
        }
      ]
    },
    {
      "cell_type": "code",
      "metadata": {
        "colab": {
          "base_uri": "https://localhost:8080/"
        },
        "id": "7YOGXzMwRRyF",
        "outputId": "53bf7f2a-9cd9-431f-b153-b7c2a67ea54f"
      },
      "source": [
        "eigenvalues = np.linalg.eigh(M)[0]\n",
        "M_diag = np.diag(eigenvalues)\n",
        "M_diag"
      ],
      "execution_count": 5,
      "outputs": [
        {
          "output_type": "execute_result",
          "data": {
            "text/plain": [
              "array([[40.48072095,  0.        ,  0.        , ...,  0.        ,\n",
              "         0.        ,  0.        ],\n",
              "       [ 0.        , -4.67319643,  0.        , ...,  0.        ,\n",
              "         0.        ,  0.        ],\n",
              "       [ 0.        ,  0.        , -4.3525062 , ...,  0.        ,\n",
              "         0.        ,  0.        ],\n",
              "       ...,\n",
              "       [ 0.        ,  0.        ,  0.        , ..., -0.83049555,\n",
              "         0.        ,  0.        ],\n",
              "       [ 0.        ,  0.        ,  0.        , ...,  0.        ,\n",
              "        -0.69910315,  0.        ],\n",
              "       [ 0.        ,  0.        ,  0.        , ...,  0.        ,\n",
              "         0.        , -0.65625712]])"
            ]
          },
          "metadata": {
            "tags": []
          },
          "execution_count": 5
        }
      ]
    },
    {
      "cell_type": "markdown",
      "metadata": {
        "id": "bpz0-QzxRHqY"
      },
      "source": [
        "## Graph"
      ]
    },
    {
      "cell_type": "code",
      "metadata": {
        "id": "ZspNtMAaxBlZ"
      },
      "source": [
        "%matplotlib inline"
      ],
      "execution_count": 7,
      "outputs": []
    },
    {
      "cell_type": "code",
      "metadata": {
        "id": "fY1X0JDrxGUT"
      },
      "source": [
        "x = np.linspace(-np.pi, np.pi, 256)\n",
        "C, S = np.cos(x), np.sin(x)"
      ],
      "execution_count": 8,
      "outputs": []
    },
    {
      "cell_type": "code",
      "metadata": {
        "id": "vrHADQ2ixK_a"
      },
      "source": [
        "def annotate(x, f, text, color=\"black\", textpos=(10, 10)):\n",
        "  # Annotate x on the function f\n",
        "  plt.plot([x, x], [0, f(x)], linestyle=\"--\", color=color)\n",
        "  plt.scatter(x, f(x), 50, color=color)\n",
        "  plt.annotate(text, xy=(x, f(x)), xycoords=\"data\",\n",
        "              xytext=textpos, textcoords=\"offset points\", fontsize=20,\n",
        "              arrowprops=dict(arrowstyle=\"->\", connectionstyle=\"arc3, rad=.2\"))"
      ],
      "execution_count": 12,
      "outputs": []
    },
    {
      "cell_type": "code",
      "metadata": {
        "colab": {
          "base_uri": "https://localhost:8080/",
          "height": 500
        },
        "id": "InxvRLSSxO7r",
        "outputId": "b2eec328-1873-446a-df63-f6f47a1bb46a"
      },
      "source": [
        "plt.figure(figsize=(12, 10), dpi=60)\n",
        "\n",
        "plt.subplot(1, 1, 1)\n",
        "\n",
        "plt.xlim(-1.1*np.pi, 1.1*np.pi)\n",
        "plt.xticks([-np.pi, -np.pi/2, 0, np.pi/2, np.pi], \n",
        "           [r\"$-\\pi$\", r\"$-\\pi/2$\", 0, r\"$+\\pi/2$\", r\"$+\\pi$\"])\n",
        "plt.ylim(-1.1, 1.1)\n",
        "plt.yticks(np.linspace(-1, 1, 3))\n",
        "\n",
        "ax = plt.gca()\n",
        "ax.xaxis.set_ticks_position(\"bottom\")\n",
        "ax.spines[\"bottom\"].set_position((\"data\",0))\n",
        "ax.yaxis.set_ticks_position(\"left\")\n",
        "ax.spines[\"left\"].set_position((\"data\", 0))\n",
        "ax.tick_params(axis=\"both\", labelsize=20)\n",
        "\n",
        "ax.spines["right"].set_visible(False)\n",
        "ax.spines["top"].set_visible(False)\n"
        "\n",
        "plt.plot(x, C, color=\"blue\", label=\"cosine\", linewidth=2)\n",
        "plt.plot(x, S, color=\"red\", label=\"sine\", linewidth=2)\n",
        "\n",
        "annotate(2*np.pi/3, np.cos, r\"$cos(\\frac{2\\pi}{3})=-\\frac{1}{2}$\", \"blue\", (-120, -50))\n",
        "annotate(2*np.pi/3, np.sin, r\"$sin(\\frac{2\\pi}{3})=-\\frac{\\sqrt{3}}{2}$\", \"red\", (10, 30))\n",
        "\n",
        "\n",
        "plt.legend(loc=\"upper left\", fontsize=20)"
      ],
      "execution_count": 20,
      "outputs": [
        {
          "output_type": "execute_result",
          "data": {
            "text/plain": [
              "<matplotlib.legend.Legend at 0x7f9607aedda0>"
            ]
          },
          "metadata": {
            "tags": []
          },
          "execution_count": 20
        },
          "metadata": {
            "tags": [],
            "needs_background": "light"
          }
        }
      ]
    }
  ]
}
