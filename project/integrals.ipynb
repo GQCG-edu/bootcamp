{
 "cells": [
  {
   "cell_type": "markdown",
   "metadata": {},
   "source": [
    "# Computing integrals: overlap and kinetic\n",
    "\n",
    "In this tutorial we will compute the overlap and kinetic energy integrals encountered in Hartree-Fock. Here, we will use the [Obara-Saika recursion scheme](https://aip.scitation.org/doi/10.1063/1.450106)."
   ]
  },
  {
   "cell_type": "markdown",
   "metadata": {},
   "source": [
    "## Theory"
   ]
  },
  {
   "cell_type": "markdown",
   "metadata": {},
   "source": [
    "### Cartesian Gaussian functions\n",
    "\n",
    "Denote the origin of a 3-dimensional cartesian gaussian function by the coordinates $\\mathbf{R} = (R_x, R_y, R_z)$.\n",
    "Let $\\mathbf{r} = (x, y, z)$ be the coordinates of the electron, and $\\alpha$ be the orbital exponent. We can now define an *unnormalized* Cartesian Gaussian function as:\n",
    "\n",
    "\\begin{equation}\n",
    "\\phi(\\mathbf r; \\alpha, \\mathbf n, \\mathbf R) = (x - R_x)^{n_x} (y - R_y)^{n_y} (z - R_z)^{n_z} \\exp[-\\alpha (\\mathbf r - \\mathbf R)^2]\n",
    "\\end{equation}\n",
    "\n",
    "where $\\alpha$ is the orbital exponent, and $\\mathbf{n} = (n_x, n_y, n_z)$ is the angular momentum index vector. The sum $n_x + n_y + n_z = \\lambda$ will hereafter be referred to as the **angular momentum**. We define a **shell** to be a set of functions (*components*) which share the same origin $\\mathbf{R}$, and angular momentum $\\lambda$.\n",
    "\n",
    "The shells with $\\lambda$  equal to $0, 1, 2,...,$ are referred to as the $s, p, d, ...$ shell. Each shell has $(\\lambda + 1) (\\lambda + 2)/2$ components. The $s$ shell, with angular momentum $\\lambda = 0$ has one component usually designated as $s$. The $p$ shell ($\\lambda = 1$) has three components, designated as $p_x, p_y, p_z$. The $d$ shell ($\\lambda = 2$) has six components, designated as $d_{xx}, d_{yy}, d_{zz}, d_{xy}, d_{xz}, d_{yz}$."
   ]
  },
  {
   "cell_type": "markdown",
   "metadata": {},
   "source": [
    "### Contractions\n",
    "\n",
    "We represent a single component (an **atomic orbital**) by a linear combination of Gaussians ($c_1 \\phi_1 + c_2 \\phi_2 + c_3 \\phi_3 ...$) hereon referred to as **primitives**. For example, the STO-3G basis set uses three primitives for each atomic orbital basis function. Each primitive is weighted by a coefficient $c$.\n",
    "\n",
    "Using our angular momentum index vector $\\mathbf{n}$ we denote the single component of the $s$ shell to have angular momentum index $\\mathbf{n} = \\mathbf{0} = (0, 0, 0)$. Since the $p$ shell has three components, we may compactly express the angular momentum index vector as $\\mathbf{1}_i$ where $i$ may be $x$, $y$, or $z$, and $\\mathbf{1}_i = (\\delta_{ix}, \\delta_{iy}, \\delta_{iz})$. For example, $p_x$ may be represented as $\\mathbf{1}_x = (1, 0, 0)$. For the six components of the $d$ shell, we require a sum of two angular momentum index vectors $\\mathbf{1}_i + \\mathbf{1}_j$, where $(i,j = x,y,z)$. In this notation, the $d_{xy}$ component is $\\mathbf{1}_x + \\mathbf{1}_y = (1,0,0) + (0,1,0) = (1,1,0)$. To obtain higher order angular momentum components, we add the appropriate number of $\\mathbf{1}_i$'s ($\\mathbf{n}$'s)."
   ]
  },
  {
   "cell_type": "markdown",
   "metadata": {},
   "source": [
    "### Normalization\n",
    "\n",
    "Basis sets on the [basis set exchange](https://www.basissetexchange.org/) return coefficients corresponding to normalized primitives and unnormalized contractions (format: Gaussian). As we will see, the underlying recursions are valid for unnormalized primitives and, in the end, we should compute integrals over normalized contractions. As such, we \n",
    "1. denormalize the primitives by multiplying the contraction coefficients by the norms of the underlying primitives\n",
    "1. normalize the basis functions by dividing the contraction coefficients by the (square root of the) norm of the basis function"
   ]
  },
  {
   "attachments": {},
   "cell_type": "markdown",
   "metadata": {},
   "source": [
    "### Two-center overlap integrals\n",
    "Two-center overlap integrals over unnormalized cartesian gaussian functions are of the form:\n",
    "\n",
    "\\begin{equation}\n",
    "(\\mathbf a|\\mathbf b) = \\int d\\mathbf r\\ \\phi(\\mathbf r; \\alpha_a, \\mathbf a, \\mathbf A)\\phi(\\mathbf r; \\alpha_b, \\mathbf b, \\mathbf B)\n",
    "\\end{equation}\n",
    "\n",
    "Given $(\\mathbf 0_A | \\mathbf 0_B)$, we can use the Obara-Saika recursion relation to obtain overlap integrals between all basis functions. The overlap over $s$ functions is given by:\n",
    "\n",
    "\\begin{equation}\n",
    "(\\mathbf 0_A | \\mathbf 0_B) = \\left(\\frac{\\pi}{\\alpha}\\right)^{3/2} \\exp[-\\zeta (\\mathbf A-\\mathbf B)^2]\n",
    "\\end{equation}\n",
    "\n",
    "where $\\alpha = \\alpha_a + \\alpha_b$ and $\\zeta = \\frac{\\alpha_a\\alpha_b}{\\alpha}$.\n",
    "The recursion relations are given below. For a full derivation, see the [original paper](http://aip.scitation.org/doi/abs/10.1063/1.450106) by Obara and Saika. To increment the left side angular momentum:\n",
    "\n",
    "\\begin{equation}\n",
    "(\\mathbf a+\\mathbf 1_i|\\mathbf b) = (\\mathbf{P - A})(\\mathbf a|\\mathbf b) + \\frac{1}{2\\alpha} N_i(\\mathbf a)(\\mathbf a-\\mathbf 1_i|\\mathbf b) + \\frac{1}{2\\alpha} N_i(\\mathbf b)(\\mathbf a|\\mathbf b-\\mathbf 1_i)\n",
    "\\end{equation}\n",
    "\n",
    "and similarily, to increment the right side:\n",
    "\n",
    "\\begin{equation}\n",
    "(\\mathbf a|\\mathbf b+\\mathbf 1_i) = (\\mathbf{P - B})(\\mathbf a|\\mathbf b) + \\frac{1}{2\\alpha} N_i(\\mathbf a)(\\mathbf a-\\mathbf 1_i|\\mathbf b) + \\frac{1}{2\\alpha} N_i(\\mathbf b)(\\mathbf a|\\mathbf b-\\mathbf 1_i)\n",
    "\\end{equation}\n",
    "\n",
    "where \n",
    "\n",
    "\\begin{equation}\n",
    "\\mathbf{P} = \\frac{\\alpha_a \\mathbf{A} + \\alpha_b \\mathbf{B}} {\\alpha} \n",
    "\\end{equation}\n",
    "\n",
    "and ${N}_i(\\mathbf{a})$, ${N}_i(\\mathbf{b})$ are just the angular momenta of $\\mathbf{a}$ and $\\mathbf{b}$.\n",
    "\n",
    "To fill in the first row, the second term goes to zero, since we cannot have a negative angular momentum (cannot subtract $\\mathbf 1_i$). To fill in the first column, the third term goes to zero for the same reason."
   ]
  },
  {
   "cell_type": "markdown",
   "metadata": {
    "collapsed": true
   },
   "source": [
    "## Implementation"
   ]
  },
  {
   "cell_type": "code",
   "execution_count": null,
   "metadata": {},
   "outputs": [],
   "source": [
    "# Check if notebook is running on Colab\n",
    "try:\n",
    "  import google.colab\n",
    "  IN_COLAB = True\n",
    "except:\n",
    "  IN_COLAB = False\n",
    "    \n",
    "if IN_COLAB:\n",
    "    !pip install pyscf # If asked, restart runtime after PySCF has been installed"
   ]
  },
  {
   "cell_type": "code",
   "execution_count": null,
   "metadata": {},
   "outputs": [],
   "source": [
    "# ==> Import Psi4 & NumPy <==\n",
    "from pyscf import gto, scf\n",
    "import numpy as np\n",
    "import scipy"
   ]
  },
  {
   "cell_type": "markdown",
   "metadata": {},
   "source": [
    "Construct a (highly strained) water molecule."
   ]
  },
  {
   "cell_type": "code",
   "execution_count": null,
   "metadata": {},
   "outputs": [],
   "source": [
    "mol = gto.M(\n",
    "    verbose = 0,\n",
    "    atom = 'H 1.0 0.0 0.0; H 0.0 1.0 0.0; O 0.0 0.0 0.0',\n",
    "    basis = 'sto-3g',\n",
    "    unit = 'bohr',\n",
    "    cart = True\n",
    ")"
   ]
  },
  {
   "cell_type": "markdown",
   "metadata": {},
   "source": [
    "PySCF offers the following methods to access information on the underlying basis:"
   ]
  },
  {
   "cell_type": "code",
   "execution_count": null,
   "metadata": {},
   "outputs": [],
   "source": [
    "print(f\"Number of basis functions/shells: {mol.nbas}\")\n",
    "print(\"For the first basis function:\")\n",
    "print(f\"Number of primitives: {mol.bas_nprim(0)}\")\n",
    "print(f\"Exponents: {mol.bas_exp(0)}\")\n",
    "print(f\"Normalized contraction coefficients: {mol.bas_ctr_coeff(0)}\")\n",
    "print(f\"Angular momentum: {mol.bas_angular(0)}\")\n",
    "print(f\"Coordinates of center basis function: {mol.bas_coord(0)}\")\n",
    "print(f\"Norm of primitive with angular momentum 0 and exponent 1.0: {mol.gto_norm(0, 1.0)}\")"
   ]
  },
  {
   "cell_type": "markdown",
   "metadata": {},
   "source": [
    "\n",
    "### Write the recursion function\n",
    "\n",
    "The Obara-Saika recursion relationships depend on $\\mathbf{P-A}$,  $\\mathbf{P-B}$, $\\alpha$, and the angular momentum values for $\\mathbf a$ and $\\mathbf b$, which we will denote as `PA`, `PB`, `alpha`, `AMa`, and `AMb`. \n",
    "Let's write a function that takes these parameters and returns three matrices containing the x, y and z components of our unnormalized overlap integrals. These same components also can be used to construct the kinetic energy as we will see.\n",
    "\n",
    "For now, we will set $(\\mathbf 0_A | \\mathbf 0_B)$ to $1.0$ for simplicity. Later, we will set the value as defined above. "
   ]
  },
  {
   "cell_type": "code",
   "execution_count": null,
   "metadata": {},
   "outputs": [],
   "source": [
    "def os_recursion(PA, PB, alpha, AMa, AMb):\n",
    "    if len(PA) != 3 or len(PB) != 3:\n",
    "        raise \"PA and PB must be xyz coordinates.\"\n",
    "   \n",
    "    # Allocate space x, y, and z matrices\n",
    "    # We add one because the equation for the kinetic energy\n",
    "    # integrals require terms one beyond those in the overlap\n",
    "    x = np.zeros((AMa + 1, AMb + 1))\n",
    "    y = np.zeros((AMa + 1, AMb + 1))\n",
    "    z = np.zeros((AMa + 1, AMb + 1))\n",
    "\n",
    "    # Define 1/2alpha factor for convenience\n",
    "    oo2a = 1.0 / (2.0 * alpha)\n",
    "\n",
    "    # Set initial conditions (0a|0b) to 1.0 for each cartesian component\n",
    "    x[0, 0] = y[0, 0] = z[0, 0] = 1.0\n",
    "    \n",
    "    # BEGIN RECURSION\n",
    "    # Fill in the [0,1] position with PB\n",
    "    if AMb > 0:\n",
    "        #  ADD CODE HERE\n",
    "\n",
    "    # Fill in the rest of row zero\n",
    "    for b in range(1, AMb):\n",
    "        # ADD CODE HERE\n",
    "    \n",
    "    # Now, we have for each cartesian component\n",
    "    # | 1.0  PB #  #|\n",
    "    # |  0   0  0  0|\n",
    "    # |  0   0  0  0| \n",
    "    # |  0   0  0  0|\n",
    "\n",
    "    # Upward recursion in a for all b's\n",
    "    # Fill in the [1,0] position with PA\n",
    "    if AMa > 0:                                                 \n",
    "        # ADD CODE HERE\n",
    "        \n",
    "    # Now, we have for each cartesian component\n",
    "    # | 1.0  PB #  #|\n",
    "    # |  PA  0  0  0|\n",
    "    # |  0   0  0  0| \n",
    "    # |  0   0  0  0|\n",
    "\n",
    "        # Fill in the rest of row one\n",
    "        for b in range(1, AMb + 1):\n",
    "            # ADD CODE HERE\n",
    "            \n",
    "        # Now, we have for each cartesian component\n",
    "        # | 1.0  PB #  #|\n",
    "        # |  PA  #  #  #|\n",
    "        # |  0   0  0  0| \n",
    "        # |  0   0  0  0|\n",
    "\n",
    "        # Fill in the rest of column 0\n",
    "        for a in range(1, AMa):\n",
    "            # ADD CODE HERE\n",
    "            \n",
    "        # Now, we have for each cartesian component\n",
    "        # | 1.0  PB #  #|\n",
    "        # |  PA  #  #  #|\n",
    "        # |  #   0  0  0| \n",
    "        # |  #   0  0  0|\n",
    "    \n",
    "        # Fill in the rest of the a'th row\n",
    "            for b in range(1, AMb + 1):\n",
    "                # ADD CODE HERE\n",
    "\n",
    "        # Now, we have for each cartesian component\n",
    "        # | 1.0  PB #  #|\n",
    "        # |  PA  #  #  #|\n",
    "        # |  #   #  #  #| \n",
    "        # |  #   #  #  #|\n",
    "        \n",
    "    # Return the results\n",
    "    return (x, y, z)"
   ]
  },
  {
   "cell_type": "markdown",
   "metadata": {},
   "source": [
    "### Normalize the basis functions"
   ]
  },
  {
   "cell_type": "code",
   "execution_count": null,
   "metadata": {},
   "outputs": [],
   "source": [
    "bas_norms = np.zeros(mol.nbas)\n",
    "for i in range(mol.nbas):\n",
    "    # each shell has some number of primitives which make up each component of a shell\n",
    "    nprimi = # ADD CODE HERE\n",
    "    # loop over the primitives within a shell\n",
    "    for a in range(nprimi):\n",
    "        for b in range(nprimi):\n",
    "            # get exponents primitives\n",
    "            expa = # ADD CODE HERE\n",
    "            expb = # ADD CODE HERE\n",
    "\n",
    "            # the contraction coefficients associated to the normalized GTOs, corresponding to the data from the EMSL basis set exchange\n",
    "            coefa = # ADD CODE HERE\n",
    "            coefb = # ADD CODE HERE\n",
    "\n",
    "            # get angular momenta\n",
    "            AMa = # ADD CODE HERE\n",
    "            AMb = # ADD CODE HERE\n",
    "\n",
    "            # denormalize coefficients\n",
    "            coefa = coefa * # ADD CODE HERE\n",
    "            coefb = coefb * # ADD CODE HERE\n",
    "\n",
    "            # defining centers for each basis function \n",
    "            A = # ADD CODE HERE\n",
    "            B = # ADD CODE HERE\n",
    "\n",
    "            alpha = # ADD CODE HERE\n",
    "            zeta = # ADD CODE HERE\n",
    "            P = # ADD CODE HERE\n",
    "            PA = P - A\n",
    "            PB = # ADD CODE HERE\n",
    "            AB = # ADD CODE HERE\n",
    "            start = (np.pi / alpha)**(3. / 2.) * np.exp(-zeta * (AB[0]**2 + AB[1]**2 + AB[2]**2))\n",
    "            \n",
    "            # call the recursion\n",
    "            x, y, z = os_recursion(PA, PB, alpha, AMa+1, AMb+1)\n",
    "            \n",
    "            # We only need to look at one component to determine the normalization.\n",
    "            # We take the component with the highest x momentum\n",
    "            la = AMa\n",
    "            lb = AMb \n",
    "            ma = 0\n",
    "            mb = 0\n",
    "            na = 0\n",
    "            nb = 0\n",
    "            bas_norms[i] += # ADD CODE HERE\n",
    "\n",
    "\n",
    "bas_prefactor = 1.0 / np.sqrt(bas_norms)"
   ]
  },
  {
   "cell_type": "markdown",
   "metadata": {},
   "source": [
    "### Overlap Integrals"
   ]
  },
  {
   "cell_type": "markdown",
   "metadata": {},
   "source": [
    "Now that we have our recursion set up and our basis functions normalized, we are ready to compute the integrals, starting with the overlap integrals."
   ]
  },
  {
   "cell_type": "code",
   "execution_count": null,
   "metadata": {},
   "outputs": [],
   "source": [
    "# make space to store the overlap integral matrix\n",
    "S = # ADD CODE HERE\n",
    "\n",
    "# loop over the shells\n",
    "for i in range(mol.nbas):\n",
    "    for j in range(mol.nbas):\n",
    "        # ADD CODE HERE\n",
    "\n",
    "        for a in range(nprimi):  \n",
    "            for b in range(nprimj):\n",
    "                # ADD CODE HERE\n",
    "               \n",
    "                # call the recursion\n",
    "                x, y, z = os_recursion(PA, PB, alpha, AMa+1, AMb+1)\n",
    "                \n",
    "                # We use counters to keep track of which component (e.g., p_x, p_y, p_z)\n",
    "                # within the shell we are on\n",
    "                counta = 0\n",
    "                \n",
    "                for p in range(AMa + 1):\n",
    "                    la = AMa - p                    # Let l take on all values, and p be the leftover a.m.\n",
    "                    for q in range(p + 1):\n",
    "                        ma = p - q                  # distribute all leftover a.m. to m and n\n",
    "                        na = q\n",
    "                        countb = 0\n",
    "                        for r in range(AMb + 1):\n",
    "                            lb = AMb - r            # Let l take on all values, and r the leftover a.m.\n",
    "                            for s in range(r + 1):\n",
    "                                mb = r - s          # distribute all leftover a.m. to m and n\n",
    "                                nb = s\n",
    "                                \n",
    "                                # set the value in the full overlap matrix\n",
    "                                S[i + counta, j + countb] += # ADD CODE HERE\n",
    " \n",
    "                                countb += 1\n",
    "                        counta += 1"
   ]
  },
  {
   "cell_type": "code",
   "execution_count": null,
   "metadata": {},
   "outputs": [],
   "source": [
    "# Check our overlap against PySCF\n",
    "S_ref = mol.intor('int1e_ovlp')\n",
    "np.allclose(S, S_ref, 6)"
   ]
  },
  {
   "cell_type": "markdown",
   "metadata": {},
   "source": [
    "\n",
    "### Kinetic energy integrals "
   ]
  },
  {
   "cell_type": "markdown",
   "metadata": {},
   "source": [
    "Before proceeding to an analysis of the kinetic energy integral, it will prove convenient to establish a short-hand notation for integrals related to the overlap integral:\n",
    "\\begin{equation}\n",
    "(0 \\mid 0) = \\int G(\\alpha_a, \\mathbf A, l_a, m_a, n_a) G(\\alpha_b, \\mathbf B, l_b, m_b, n_b)\\ d\\tau\n",
    "\\end{equation}\n",
    "The symbol $(+1 \\mid 0)_{\\mathrm{x}}$ will denote an integral of the form given by the above equation, except that the quantum number $l_a$ has been incremented by 1. Similarly, $(0 \\mid +1)_{\\mathrm{x}}$ increments $l_b$ by 1. Quantum numbers $m$ and $n$ are incremented in the same way with subscripts $y$ and $z$.\n",
    "\n",
    "The kinetic energy integral is defined as\n",
    "\n",
    "\\begin{equation}\n",
    "T = - \\frac{1}{2}  \\int G(\\alpha_a, \\mathbf A, l_a, m_a, n_a) \\left(\\frac{\\partial^2}{\\partial x^2} + \\frac{\\partial^2}{\\partial y^2} + \\frac{\\partial^2}{\\partial z^2}\\right) G(\\alpha_b, \\mathbf B, l_b, m_b, n_b)\\ d\\tau\n",
    "\\end{equation}\n",
    "\n",
    "The equation for this integral is \"unsymmetric\" because the quantum numbers of the Gaussian-type function centered on $\\mathbf B$ are altered by the Laplacian while those of the Gaussian-type function centered on $\\mathbf A$ are not. The symmetric $x$, $y$, and $z$ components are given by:\n",
    "\n",
    "\n",
    "\\begin{equation}\n",
    "T_x = \\frac{1}{2}\\Big\\{l_a l_b (-1|-1)_{\\mathrm{x}} + 4\\alpha_a \\alpha_b (+1|+1)_{\\mathrm{x}} - 2\\alpha_a l_b (+1|-1)_{\\mathrm{x}} - 2\\alpha_b l_a (-1|+1)_{\\mathrm{x}}\\Big\\}\n",
    "\\end{equation}\n",
    "\n",
    "\\begin{equation}\n",
    "T_y = \\frac{1}{2}\\Big\\{l_a l_b (-1|-1)_{\\mathrm{y}} + 4\\alpha_a \\alpha_b (+1|+1)_{\\mathrm{y}} - 2\\alpha_a l_b (+1|-1)_{\\mathrm{y}} - 2\\alpha_b l_a (-1|+1)_{\\mathrm{y}}\\Big\\}\n",
    "\\end{equation}\n",
    "\n",
    "\\begin{equation}\n",
    "T_z = \\frac{1}{2}\\Big\\{l_a l_b (-1|-1)_{\\mathrm{z}} + 4\\alpha_a \\alpha_b (+1|+1)_{\\mathrm{z}} - 2\\alpha_a l_b (+1|-1)_{\\mathrm{z}} - 2\\alpha_b l_a (-1|+1)_{\\mathrm{z}}\\Big\\}\n",
    "\\end{equation}\n",
    "\n",
    "and the full kinetic energy integral is:\n",
    "\n",
    "\\begin{equation}\n",
    "T =  (T_x + T_y + T_z)\n",
    "\\end{equation}\n"
   ]
  },
  {
   "cell_type": "code",
   "execution_count": null,
   "metadata": {},
   "outputs": [],
   "source": [
    "T = np.zeros_like(S)\n",
    "\n",
    "# ADD CODE HERE"
   ]
  },
  {
   "cell_type": "markdown",
   "metadata": {},
   "source": [
    "Check the kinetic energy integrals:"
   ]
  },
  {
   "cell_type": "code",
   "execution_count": null,
   "metadata": {},
   "outputs": [],
   "source": [
    "T_ref = mol.intor('int1e_kin')\n",
    "print(np.allclose(T, T_ref, 6))"
   ]
  }
 ],
 "metadata": {
  "anaconda-cloud": {},
  "kernelspec": {
   "display_name": "Python 3.8.9 64-bit",
   "language": "python",
   "name": "python3"
  },
  "language_info": {
   "codemirror_mode": {
    "name": "ipython",
    "version": 3
   },
   "file_extension": ".py",
   "mimetype": "text/x-python",
   "name": "python",
   "nbconvert_exporter": "python",
   "pygments_lexer": "ipython3",
   "version": "3.8.10"
  },
  "vscode": {
   "interpreter": {
    "hash": "31f2aee4e71d21fbe5cf8b01ff0e069b9275f58929596ceb00d14d90e3e16cd6"
   }
  }
 },
 "nbformat": 4,
 "nbformat_minor": 2
}
