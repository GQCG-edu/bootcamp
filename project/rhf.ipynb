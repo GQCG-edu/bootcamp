{
 "cells": [
  {
   "cell_type": "markdown",
   "metadata": {
    "collapsed": true
   },
   "source": [
    "# Restricted Hartree-Fock"
   ]
  },
  {
   "cell_type": "markdown",
   "metadata": {},
   "source": [
    "## Theory\n",
    "\n",
    "In this tutorial, we will seek to introduce the theory and implementation of the quantum chemical method known as Hartree-Fock Self-Consistent Field Theory (HF-SCF) with restricted orbitals and closed-shell systems (RHF).  This theory seeks to solve the pseudo-eigenvalue matrix equation \n",
    "\n",
    "$$\\sum_{\\nu} F_{\\mu\\nu}C_{\\nu i} = \\epsilon_i\\sum_{\\nu}S_{\\mu\\nu}C_{\\nu i}$$\n",
    "$${\\bf FC} = {\\bf SC\\epsilon},$$\n",
    "\n",
    "called the Roothan equations, which can be solved self-consistently for the orbital coefficient matrix **C** to and the orbital energy eigenvalues $\\epsilon_i$.  The Fock matrix, **F**, has elements $F_{\\mu\\nu}$ given (in the atomic orbital basis) as\n",
    "\n",
    "$$F_{\\mu\\nu} = H_{\\mu\\nu} + 2(\\mu\\,\\nu\\left|\\,\\lambda\\,\\sigma)D_{\\lambda\\sigma} - (\\mu\\,\\lambda\\,\\right|\\nu\\,\\sigma)D_{\\lambda\\sigma},$$\n",
    "\n",
    "where $D_{\\lambda\\sigma}$ is an element of the one-particle density matrix **D**, constructed from the orbital coefficient matrix **C**:\n",
    "\n",
    "$$D_{\\lambda\\sigma} = C_{\\sigma i}C_{\\lambda i}$$\n",
    "\n",
    "Formally, the orbital coefficient matrix **C** is a $N\\times M$ matrix, where $N$ is the number of atomic basis functions, and $M$ is the total number of molecular orbitals.  Physically, this matrix describes the contribution of every atomic basis function (columns) to a particular molecular orbital (e.g., the $i^{\\rm th}$ row).  The density matrix **D** is a square matrix describing the electron density contained in each orbital.  In the molecular orbital basis, the density matrix has elements\n",
    "\n",
    "$$D_{pq} = \\left\\{\\begin{array}{ll} 2\\delta_{pq} & p\\; {\\rm occupied} \\\\ 0 & p\\; {\\rm virtual} \\\\ \\end{array}\\right .$$\n",
    "\n",
    "The total RHF energy is given by\n",
    "\n",
    "$$E^{\\rm RHF}_{\\rm total} = E^{\\rm RHF}_{\\rm elec} + E^{\\rm BO}_{\\rm nuc},$$\n",
    "\n",
    "where $E^{\\rm RHF}_{\\rm elec}$ is the final electronic RHF energy, and $E^{\\rm BO}_{\\rm nuc}$ is the total nuclear repulsion energy within the Born-Oppenheimer approximation.  To compute the electronic energy, we may use the density matrix in the AO basis:\n",
    "\n",
    "$$E^{\\rm RHF}_{\\rm elec} = (F_{\\mu\\nu} + H_{\\mu\\nu})D_{\\mu\\nu},$$\n",
    "\n",
    "and the nuclear repulsion energy is simply\n",
    "\n",
    "$$E^{\\rm BO}_{\\rm nuc} = \\sum_{A>B}\\frac{Z_AZ_B}{r_{AB}}$$\n",
    "\n",
    "where $Z_A$ is the nuclear charge of atom $A$, and the sum runs over all unique nuclear pairs."
   ]
  },
  {
   "cell_type": "markdown",
   "metadata": {},
   "source": [
    "## Implementation\n",
    "\n",
    "Using the above overview, let's write a RHF program using PySCF and NumPy.  First, we need to import these Python modules: "
   ]
  },
  {
   "cell_type": "code",
   "execution_count": 1,
   "metadata": {},
   "outputs": [],
   "source": [
    "# Check if notebook is running on Colab\n",
    "try:\n",
    "  import google.colab\n",
    "  IN_COLAB = True\n",
    "except:\n",
    "  IN_COLAB = False\n",
    "    \n",
    "if IN_COLAB:\n",
    "    !pip install pyscf # If asked, restart runtime after PySCF has been installed"
   ]
  },
  {
   "cell_type": "code",
   "execution_count": 2,
   "metadata": {},
   "outputs": [],
   "source": [
    "# ==> Import Psi4 & NumPy <==\n",
    "from pyscf import gto, scf\n",
    "import numpy as np\n",
    "import scipy"
   ]
  },
  {
   "cell_type": "markdown",
   "metadata": {},
   "source": [
    "Next, we construct a water molecule using a cc-pVDZ [basis set](https://en.wikipedia.org/wiki/Basis_set_(chemistry)).\n"
   ]
  },
  {
   "cell_type": "code",
   "execution_count": 3,
   "metadata": {},
   "outputs": [],
   "source": [
    "mol = gto.M(atom = 'O 0.0 0.0 0.0; H 1.0 0.0 0.0; H 0.0 1.0 0.0', basis = 'ccpvdz')"
   ]
  },
  {
   "cell_type": "markdown",
   "metadata": {},
   "source": [
    "Since we will be writing our own, iterative RHF procedure, we will need to define options that we can use to tweak our convergence behavior.  For example, if something goes wrong and our SCF doesn't converge, we don't want to spiral into an infinite loop.  Instead, we can specify the maximum number of iterations allowed, and store this value in a variable called `maxiter`.  Here are some good default options for our program:\n",
    "~~~python\n",
    "MAXITER = 40\n",
    "E_conv = 1.0e-6\n",
    "~~~\n",
    "These are by no means the only possible values for these options, and it's encouraged to try different values and see for yourself how different choices affect the performance of our program.  For now, let's use the above as our default."
   ]
  },
  {
   "cell_type": "code",
   "execution_count": 4,
   "metadata": {},
   "outputs": [],
   "source": [
    "MAXITER = 40\n",
    "E_conv = 1.0e-6"
   ]
  },
  {
   "cell_type": "markdown",
   "metadata": {},
   "source": [
    "Before we can build our Fock matrix, we'll need to compute the following static one- and two-electron quantities:\n",
    "\n",
    "- Electron repulsion integrals (ERIs) **ERI** between our AOs in [chemical notation](http://vergil.chemistry.gatech.edu/notes/permsymm/permsymm.html)\n",
    "- Overlap matrix **S**\n",
    "- Core Hamiltonian matrix **H**"
   ]
  },
  {
   "cell_type": "code",
   "execution_count": 5,
   "metadata": {},
   "outputs": [],
   "source": [
    "S = mol.intor('int1e_ovlp')\n",
    "T = mol.intor('int1e_kin')\n",
    "V = mol.intor('int1e_nuc')\n",
    "H_core = T + V\n",
    "eri = mol.intor('int2e')"
   ]
  },
  {
   "cell_type": "markdown",
   "metadata": {},
   "source": [
    "We also need the Born-Oppenheimer nuclear repulsion energy, $E^{\\rm BO}_{\\rm nuc}$ and the number of doubly occupied orbitals (which is equal to the number of $\\alpha$-spin electrons)."
   ]
  },
  {
   "cell_type": "code",
   "execution_count": 14,
   "metadata": {},
   "outputs": [],
   "source": [
    "enuc = mol.get_enuc()\n",
    "ndocc = mol.nelec[0]"
   ]
  },
  {
   "cell_type": "markdown",
   "metadata": {},
   "source": [
    "The Roothaan equations\n",
    "\n",
    "$${\\bf FC} = {\\bf SC\\epsilon}$$\n",
    "\n",
    "are only *pseudo*-eigenvalue equations due to the presence of the overlap matrix **S** on the right hand side of the equation.  As such, we need to use the generalized eigensolver of [scipy](https://docs.scipy.org/doc/scipy/reference/generated/scipy.linalg.eigh.html). Before we can get down to the business of using the Fock matrix **F** to compute the RHF energy, we first need to compute the orbital coefficient **C** matrix.  But, before we compute the **C** matrix, we first need to build **F**.  Wait...hold on a second.  Which comes first, **C** or **F**?  Looking at the Roothan equations more closely, we see that that both sides depend on the **C** matrix, since **F** is a function of the orbitals:\n",
    "\n",
    "$${\\bf F}({\\bf C}){\\bf C} = {\\bf SC\\epsilon}\\,;\\;\\;F_{\\mu\\nu} = H_{\\mu\\nu} + 2(\\mu\\,\\nu\\mid\\lambda\\,\\sigma)C_{\\sigma i}C_{\\lambda i} - (\\mu\\,\\lambda\\,\\mid\\nu\\,\\sigma)C_{\\sigma i}C_{\\lambda i}.$$\n",
    "\n",
    "Therefore technically, *neither* **F** nor **C** can come first!  In order to proceed, we instead begin with a *guess* for the Fock matrix, from which we obtain a guess at the **C** matrix.  Without orbital coefficients (and therefore without electron densities), the most logical starting point for obtaining a guess at the Fock matrix is to begin with the only component of **F** that does *not* involve densities: the core Hamiltonian, $\\mathbf{H}_{\\text{core}}$."
   ]
  },
  {
   "cell_type": "code",
   "execution_count": 15,
   "metadata": {},
   "outputs": [],
   "source": [
    "eps, C = scipy.linalg.eigh(H_core, S)"
   ]
  },
  {
   "cell_type": "markdown",
   "metadata": {},
   "source": [
    "To construct density matrix $\\mathbf{D}$ from the **occupied** molecular orbitals, we'll have to perform a number of so-called **tensor contractions**. These can be implemented using [numpy's einsum](https://numpy.org/doc/stable/reference/generated/numpy.einsum.html). For example, the following matrix multiplication\n",
    "$$C_{ij} = \\sum_{k} A_{ik} * B_{kj}$$\n",
    "can be implemented as\n",
    "```python\n",
    "C = np.einsum('ik,kj->ij', A, B, optimize=True)\n",
    "```\n",
    "where we tell `einsum` to optimize the way in which it computes this contraction."
   ]
  },
  {
   "cell_type": "code",
   "execution_count": 16,
   "metadata": {},
   "outputs": [],
   "source": [
    "C_occ = C[:, :ndocc]\n",
    "D = np.einsum('pi,qi->pq', C_occ, C_occ, optimize=True)"
   ]
  },
  {
   "cell_type": "markdown",
   "metadata": {},
   "source": [
    "From this density matrix, we can compute the Coulomb and Exchange matrices **J** and **K**, with elements\n",
    "\\begin{align}\n",
    "J[D_{rs}]_{pq} &= (p,q \\mid r,s)D_{rs}\\\\\n",
    "K[D_{rs}]_{pq} &= (p,r \\mid q,s)D_{rs},\n",
    "\\end{align}\n",
    "can be built with\n",
    "```python\n",
    "J = np.einsum('pqrs,rs->pq', eri, D, optimize=True)\n",
    "K = np.einsum('prqs,rs->pq', eri, D, optimize=True)\n",
    "```\n",
    "Fortunately, once **J** and **K** have been built, the Fock matrix may be computed as a simple matrix addition\n",
    "\n",
    "$$ {\\bf F} = {\\bf H} + 2{\\bf J} - {\\bf K}.$$"
   ]
  },
  {
   "cell_type": "markdown",
   "metadata": {},
   "source": [
    "Let's now write our SCF iterations according to the following algorithm:\n",
    "\n",
    "for scf_iter less than MAXITER, do:\n",
    "1. Build Fock matrix\n",
    "    - Build the Coulomb matrix **J** \n",
    "    - Build the Exchange matrix **K** \n",
    "    - Form the Fock matrix\n",
    "2. RHF Energy\n",
    "    - Compute total RHF energy   \n",
    "    - If change in RHF energy less than E_conv, break    \n",
    "    - Save latest RHF energy as E_old\n",
    "3. Compute new orbital guess\n",
    "    - Diagonalize ${\\bf F}$ for $\\epsilon$ and ${\\bf C}$    \n",
    "    - Form **D** from occupied orbital slice of **C**"
   ]
  },
  {
   "cell_type": "code",
   "execution_count": null,
   "metadata": {},
   "outputs": [],
   "source": [
    "# ==> SCF Iterations <==\n",
    "# Pre-iteration energy declarations\n",
    "SCF_E = 0.0\n",
    "E_old = 0.0\n",
    "\n",
    "print('==> Starting SCF Iterations <==\\n')\n",
    "\n",
    "# Begin Iterations\n",
    "for scf_iter in range(1, MAXITER + 1):\n",
    "    # Build Fock matrix\n",
    "\n",
    "    \n",
    "    # Compute RHF energy\n",
    "\n",
    "    \n",
    "    # SCF Converged?\n",
    "    if (abs(SCF_E - E_old) < E_conv):\n",
    "        break\n",
    "    E_old = SCF_E\n",
    "    \n",
    "    # Compute new orbital guess\n",
    "\n",
    "    \n",
    "    # MAXITER exceeded?\n",
    "    if (scf_iter == MAXITER):\n",
    "        raise Exception(\"Maximum number of SCF iterations exceeded.\")\n",
    "\n",
    "# Post iterations\n",
    "print('\\nSCF converged.')\n",
    "print('Final RHF Energy: %.8f [Eh]' % (SCF_E))"
   ]
  },
  {
   "cell_type": "markdown",
   "metadata": {},
   "source": [
    "Congratulations! You've written your very own Restricted Hartree-Fock program!  Finally, let's check your final RHF energy against PySCF"
   ]
  },
  {
   "cell_type": "code",
   "execution_count": null,
   "metadata": {},
   "outputs": [],
   "source": [
    "mf = scf.RHF(mol)\n",
    "SCF_E_pyscf = mf.kernel()\n",
    "np.isclose(SCF_E_pyscf, SCF_E, rtol=0., atol=1e-06)"
   ]
  }
 ],
 "metadata": {
  "kernelspec": {
   "display_name": "Python 3.8.10 64-bit",
   "language": "python",
   "name": "python3"
  },
  "language_info": {
   "codemirror_mode": {
    "name": "ipython",
    "version": 3
   },
   "file_extension": ".py",
   "mimetype": "text/x-python",
   "name": "python",
   "nbconvert_exporter": "python",
   "pygments_lexer": "ipython3",
   "version": "3.8.10"
  },
  "latex_envs": {
   "LaTeX_envs_menu_present": true,
   "bibliofile": "biblio.bib",
   "cite_by": "apalike",
   "current_citInitial": 1,
   "eqLabelWithNumbers": true,
   "eqNumInitial": 1,
   "labels_anchors": false,
   "latex_user_defs": false,
   "report_style_numbering": false,
   "user_envs_cfg": false
  },
  "vscode": {
   "interpreter": {
    "hash": "31f2aee4e71d21fbe5cf8b01ff0e069b9275f58929596ceb00d14d90e3e16cd6"
   }
  }
 },
 "nbformat": 4,
 "nbformat_minor": 1
}
