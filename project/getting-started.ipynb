{
 "cells": [
  {
   "cell_type": "markdown",
   "metadata": {},
   "source": [
    "# Introduction to PSI4"
   ]
  },
  {
   "cell_type": "markdown",
   "metadata": {},
   "source": [
    "PSI4 provides a wide variety of quantum chemical methods using state-of-the-art numerical methods and algorithms. You can run PSI4 as an executable using [Psithon](https://psicode.org/psi4manual/master/tutorial.html) or as a Python module. Here, we will explore the basics of using Psi4 in the interactive PsiAPI style where it is loaded directly as a Python module."
   ]
  },
  {
   "cell_type": "markdown",
   "metadata": {},
   "source": [
    "## Importing PSI4\n",
    "\n"
   ]
  },
  {
   "cell_type": "code",
   "execution_count": 1,
   "metadata": {
    "collapsed": false
   },
   "outputs": [],
   "source": [
    "import psi4\n",
    "import numpy as np"
   ]
  },
  {
   "cell_type": "markdown",
   "metadata": {},
   "source": [
    "## Directing output and scratch\n",
    "\n",
    "Psi4 is now able to be controlled directly from Python. By default, Psi4 will print any output to the screen; this can be changed by giving a file name (with path if not in the current working directory) to the `set_output_file` function."
   ]
  },
  {
   "source": [
    "psi4.set_output_file(\"output.dat\", True)"
   ],
   "cell_type": "code",
   "metadata": {
    "collapsed": true
   },
   "execution_count": 2,
   "outputs": []
  },
  {
   "source": [
    "Now the output of PSI4 will go to the file `output.dat` where the boolean directs overwriting (`True`) rather than appending (`False`)."
   ],
   "cell_type": "markdown",
   "metadata": {}
  },
  {
   "cell_type": "markdown",
   "metadata": {},
   "source": [
    "## Setting memory limits\n",
    "\n",
    "* Give 500 Mb of memory to PSI4.\n",
    "* Give 2 Gb of memory for NumPy arrays (quantity for Psi4NumPy project, *not* passed to NumPy).\n",
    "* Sum of these two should nowhere approach the RAM of your computer."
   ]
  },
  {
   "cell_type": "code",
   "execution_count": 3,
   "metadata": {
    "collapsed": true
   },
   "outputs": [],
   "source": [
    "psi4.set_memory(int(5e8))\n",
    "numpy_memory = 2"
   ]
  },
  {
   "cell_type": "markdown",
   "metadata": {},
   "source": [
    "## Molecule and Basis\n",
    "\n",
    "In our first example, we will construct a water molecule using a cc-pVDZ [basis set](https://en.wikipedia.org/wiki/Basis_set_(chemistry)). Our molecular geometry is passed as a string into psi4.geometry() API. We may input this geometry in either Z-matrix or Cartesian format; to allow the string to break over multiple lines, use Python’s triple-quote \"\"\"string\"\"\" syntax. Setting the symmetry to `c1` is the same as running _without_ symmetry and is generally recommended for method development (can introduce difficult to diagnose bugs). "
   ]
  },
  {
   "cell_type": "code",
   "execution_count": 4,
   "metadata": {
    "collapsed": true
   },
   "outputs": [],
   "source": [
    "mol = psi4.geometry(\"\"\"\n",
    "O 0.0 0.0 0.0 \n",
    "H 1.0 0.0 0.0\n",
    "H 0.0 1.0 0.0\n",
    "symmetry c1\n",
    "\"\"\")\n",
    "\n",
    "psi4.set_options({'basis': 'cc-pvdz'})"
   ]
  },
  {
   "source": [
    "Many quantum chemical methods have already been implemented in PSI4 and can provide very handy reference data for your own implementations. As such, we will compute the Hartree-Fock SCF energy for this molecule by calling the psi4.energy() function."
   ],
   "cell_type": "markdown",
   "metadata": {}
  },
  {
   "cell_type": "code",
   "execution_count": 5,
   "metadata": {},
   "outputs": [
    {
     "output_type": "execute_result",
     "data": {
      "text/plain": [
       "-76.01676142577614"
      ]
     },
     "metadata": {},
     "execution_count": 5
    }
   ],
   "source": [
    "psi4.energy('SCF')"
   ]
  },
  {
   "source": [
    "You should get an energy of -76.016 au (check that you can also find this energy in the `output.dat` file). Note that when _reporting_ energies, you should (normally) only report them to the millihartree range. However, during _debugging_ you should aim to reproduce energies up to six digits. "
   ],
   "cell_type": "markdown",
   "metadata": {}
  },
  {
   "cell_type": "code",
   "execution_count": null,
   "metadata": {},
   "outputs": [],
   "source": []
  }
 ],
 "metadata": {
  "kernelspec": {
   "name": "python3",
   "display_name": "Python 3.7.9 64-bit ('base': conda)",
   "metadata": {
    "interpreter": {
     "hash": "e4c6ce54e6d1ccff551279c9aafc06b78c48fd9e60d6b4e74c0583a74ec1d1f9"
    }
   }
  },
  "language_info": {
   "codemirror_mode": {
    "name": "ipython",
    "version": 2
   },
   "file_extension": ".py",
   "mimetype": "text/x-python",
   "name": "python",
   "nbconvert_exporter": "python",
   "pygments_lexer": "ipython2",
   "version": "3.7.9-final"
  }
 },
 "nbformat": 4,
 "nbformat_minor": 0
}