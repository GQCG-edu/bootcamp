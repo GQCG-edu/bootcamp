{
 "cells": [
  {
   "cell_type": "markdown",
   "metadata": {},
   "source": [
    "# Introduction to PySCF"
   ]
  },
  {
   "cell_type": "markdown",
   "metadata": {},
   "source": [
    "[PySCF](https://pyscf.org/quickstart.html) provides a wide variety of quantum chemical methods using state-of-the-art numerical methods and algorithms. Here, we will explore the basics of using PySCF."
   ]
  },
  {
   "cell_type": "markdown",
   "metadata": {},
   "source": [
    "## Importing PySCF\n",
    "\n"
   ]
  },
  {
   "cell_type": "code",
   "execution_count": 1,
   "metadata": {
    "collapsed": false
   },
   "outputs": [],
   "source": [
    "from pyscf import gto, scf\n",
    "import numpy as np"
   ]
  },
  {
   "cell_type": "markdown",
   "metadata": {},
   "source": [
    "## Molecules and methods"
   ]
  },
  {
   "cell_type": "markdown",
   "metadata": {},
   "source": [
    "In our first example, we will construct a water molecule using a cc-pVDZ [basis set](https://en.wikipedia.org/wiki/Basis_set_(chemistry))."
   ]
  },
  {
   "cell_type": "code",
   "execution_count": 2,
   "metadata": {
    "collapsed": true
   },
   "outputs": [],
   "source": [
    "mol = gto.M(atom = 'O 0.0 0.0 0.0; H 1.0 0.0 0.0; H 0.0 1.0 0.0', basis = 'ccpvdz')"
   ]
  },
  {
   "cell_type": "markdown",
   "metadata": {},
   "source": [
    "Many quantum chemical methods have already been implemented in PySCF and can provide very handy reference data for your own implementations. As such, we will compute the Hartree-Fock SCF energy for this molecule by building the RHF self-consistent field method (scf) and solving for that method (kernel)."
   ]
  },
  {
   "cell_type": "code",
   "execution_count": 3,
   "metadata": {},
   "outputs": [
    {
     "name": "stdout",
     "output_type": "stream",
     "text": [
      "converged SCF energy = -76.0167894720692\n",
      "-76.01678947206922\n"
     ]
    }
   ],
   "source": [
    "mf = scf.RHF(mol)\n",
    "e = mf.kernel()\n",
    "print(e)"
   ]
  },
  {
   "cell_type": "markdown",
   "metadata": {},
   "source": [
    "You should get an energy of -76.016 au. Note that when _reporting_ energies, you should (normally) only report them to the millihartree range. However, during _debugging_ you should aim to reproduce energies up to six digits. "
   ]
  },
  {
   "cell_type": "code",
   "execution_count": null,
   "metadata": {},
   "outputs": [],
   "source": []
  }
 ],
 "metadata": {
  "kernelspec": {
   "display_name": "Python 3.8.13 ('base')",
   "language": "python",
   "name": "python3"
  },
  "language_info": {
   "codemirror_mode": {
    "name": "ipython",
    "version": 3
   },
   "file_extension": ".py",
   "mimetype": "text/x-python",
   "name": "python",
   "nbconvert_exporter": "python",
   "pygments_lexer": "ipython3",
   "version": "3.8.13"
  },
  "vscode": {
   "interpreter": {
    "hash": "4654e147d6fe676f31a9f86e2485eea716359f8709963986145f7c2d0088ba8c"
   }
  }
 },
 "nbformat": 4,
 "nbformat_minor": 0
}
