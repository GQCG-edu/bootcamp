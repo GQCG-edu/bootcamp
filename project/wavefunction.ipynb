{
 "cells": [
  {
   "cell_type": "markdown",
   "metadata": {
    "run_control": {
     "frozen": false,
     "read_only": false
    }
   },
   "source": [
    "# Wavefunction: building and passing wavefunction objects, and returning wavefunction properties\n",
    "\n",
    "One very advantageous feature of PSI4 is the ability to generate, return, and manipulate wavefunctions both from computations and as independent entities. This is particularly useful because of the depth of information carried by a wavefunction -- which is formally an instance of the [`psi4.core.Wavefunction`](http://psicode.org/psi4manual/master/psi4api.html#psi4.core.Wavefunction \"Go to API\") class.  This tutorial introduces these objects and provides an overview of their capabilities that will be leveraged in future tutorials.\n",
    "\n",
    "Let's begin our discussion by importing PSI4 and NumPy, and setting some basic options for <span style='font-variant: small-caps'> Psi4</span>, like the memory, to direct output to a file named `output.dat`, and options to be used when performing a computation."
   ]
  },
  {
   "cell_type": "code",
   "execution_count": 1,
   "metadata": {
    "collapsed": true,
    "run_control": {
     "frozen": false,
     "read_only": false
    }
   },
   "outputs": [],
   "source": [
    "# ==> Basic Options <==\n",
    "import psi4\n",
    "import numpy as np\n",
    "\n",
    "# Memory & Output File\n",
    "psi4.set_memory(int(2e9))\n",
    "psi4.core.set_output_file('output.dat', False)\n",
    "\n",
    "# Computation options\n",
    "psi4.set_options({'basis': 'aug-cc-pvdz',\n",
    "                  'scf_type': 'df',\n",
    "                  'e_convergence': 1e-8,\n",
    "                  'd_convergence': 1e-8})"
   ]
  },
  {
   "cell_type": "markdown",
   "metadata": {
    "run_control": {
     "frozen": false,
     "read_only": false
    }
   },
   "source": [
    "Now that we've set the basics, let's use what we learned in the Molecule tutorial to define a water molecule, in Z-matrix\n",
    "format, specifying that we want $C_1$ symmetry (instead of letting <span style='font-variant: small-caps'> Psi4\n",
    "</span> detect the real symmetry $C_{\\text{2v}}$):"
   ]
  },
  {
   "cell_type": "code",
   "execution_count": 2,
   "metadata": {
    "collapsed": true,
    "run_control": {
     "frozen": false,
     "read_only": false
    }
   },
   "outputs": [],
   "source": [
    "# ==> Define C_1 Water Molecule <==\n",
    "h2o = psi4.geometry(\"\"\"\n",
    "O\n",
    "H 1 0.96\n",
    "H 1 0.96 2 104.5\n",
    "symmetry c1\n",
    "\"\"\")"
   ]
  },
  {
   "cell_type": "markdown",
   "metadata": {
    "run_control": {
     "frozen": false,
     "read_only": false
    }
   },
   "source": [
    "Other than molecules, of course, the quintessential object within quantum chemistry is the _wavefunction_.  Every method in quantum mechanics seeks to find the wavefunction which describes the state of the system of interest.  So, how can we create these objects with Psi4?  If we simply wish to perform a computation (e.g., Hartree–Fock or MP2), all we need to do is to define the molecule, call [``psi4.energy()``](http://psicode.org/psi4manual/master/api/psi4.driver.energy.html#psi4.driver.energy \"Go to API\"), and PSI4 will do the rest.  What about if we need a wavefunction _before_ performing a computation, or in order to implement a method?  Fortunately, the class method [`Wavefunction.build()`](http://psicode.org/psi4manual/master/psi4api.html#psi4.core.Wavefunction.build \"Go to Documentation\") allows us to build one from scratch, given a molecule and a basis set.  In the cell below, we've illustrated how to invoke this function:"
   ]
  },
  {
   "cell_type": "code",
   "execution_count": 3,
   "metadata": {
    "collapsed": true,
    "run_control": {
     "frozen": false,
     "read_only": false
    }
   },
   "outputs": [],
   "source": [
    "# ==> Build wavefunction for H2O from scratch with Wavefunction.build() <==\n",
    "h2o_wfn = psi4.core.Wavefunction.build(h2o, psi4.core.get_global_option('basis'))"
   ]
  },
  {
   "cell_type": "markdown",
   "metadata": {
    "run_control": {
     "frozen": false,
     "read_only": false
    }
   },
   "source": [
    "Notice that we have passed the variable `h2o` (itself an instance of the `psi4.core.Molecule` class) and the AO basis set we wish to use to construct the wavefunction for this molecule.  We could have just as easily passed the string `'aug-cc-pvdz'` as an argument, but then we would have to remember to change the argument if we ever changed the PSI4 option in the `psi4.set_options()` block above. \n",
    "\n",
    "Now that we have built an instance of the `Wavefunction` class, we can access our wavefunction's information by calling any of the member functions of the `Wavefunction` class on our object.  For instance, the number of spin-up ($\\alpha$) electrons in our wavefuntion can be found using the [`Wavefunction.nalpha()`](http://psicode.org/psi4manual/master/psi4api.html#psi4.core.Wavefunction.nalpha \"Go to Documentation\") function:  \n",
    "~~~python\n",
    "h2o_wfn.nalpha()\n",
    "~~~\n",
    "Since the water molecule above was defined to be a neutral singlet, we expect that the total number of electrons in our wavefunction should be $\\alpha + \\beta = 2\\alpha$.  Let's check:"
   ]
  },
  {
   "cell_type": "code",
   "execution_count": 4,
   "metadata": {
    "collapsed": false
   },
   "outputs": [
    {
     "output_type": "stream",
     "name": "stdout",
     "text": [
      "Water has 10 electrons, according to our wavefunction.\n"
     ]
    }
   ],
   "source": [
    "# Compute the number of electrons in water \n",
    "print('Water has %d electrons, according to our wavefunction.' % (int(2 * h2o_wfn.nalpha())))"
   ]
  },
  {
   "cell_type": "markdown",
   "metadata": {
    "run_control": {
     "frozen": false,
     "read_only": false
    }
   },
   "source": [
    "What other information can be gleaned from our wavefunction object? For now, not a whole lot.  Since we have built our wavefunction from our molecule and choice of basis set but haven't yet computed anything, the wavefunction doesn't have the orbitals, electron density, energy, or Psi variables attributes set.  Once a computation has been performed, however, all this information may be accessed.  This may be accomplised by _returning the wavefunction_ from a successful computation, a concept referred to in <span style='font-variant: small-caps'> Psi4</span>-lingo as _wavefunction passing_.  To run a computation with <span style='font-variant: small-caps'> Psi4</span>, the function [`psi4.energy()`](http://psicode.org/psi4manual/master/api/psi4.driver.energy.html#psi4.driver.energy \"Go to Documentation\") is invoked with a particular quantum chemical method, like `'scf'`, `'mp2'`, or `'ccsd(t)`'. To return the wavefunction from that method, the additional argument `return_wfn=True` can be specified:\n",
    "~~~python\n",
    "# Returning a CCSD(T) wavefunction\n",
    "energy, wfn = psi4.energy('ccsd(t)', return_wfn=True)\n",
    "~~~\n",
    "Then, both the energy and the wavefunction are returned.  Give it a try yourself, for the Hartree–Fock computation in the cell below:"
   ]
  },
  {
   "cell_type": "code",
   "execution_count": 5,
   "metadata": {
    "collapsed": false,
    "run_control": {
     "frozen": false,
     "read_only": false
    }
   },
   "outputs": [
    {
     "output_type": "stream",
     "name": "stdout",
     "text": [
      "A float and a Wavefunction object returned: -76.04123648668809 <psi4.core.RHF object at 0x7f89b9a3b410>\n"
     ]
    }
   ],
   "source": [
    "# Get the SCF wavefunction & energies for H2O\n",
    "scf_e, scf_wfn = psi4.energy('scf', return_wfn=True)\n",
    "print(\"A float and a Wavefunction object returned:\", scf_e, scf_wfn)"
   ]
  },
  {
   "cell_type": "markdown",
   "metadata": {
    "collapsed": true,
    "run_control": {
     "frozen": false,
     "read_only": false
    }
   },
   "source": [
    "Now, we can access information you would expect a wavefunction to carry — basically everything we couldn't before.\n",
    "Below is summarized several quantities which will be used throughout the modules and tutorials to come.  All these  wavefunction attributes are available after a Hartree–Fock computation; make sure to try them out on our `scf_wfn`!\n",
    "\n",
    "| Quantity | Function(s) | Description |\n",
    "|----------|-------------|-------------|\n",
    "| Orbital Coefficients, **C** | [wfn.Ca()](http://psicode.org/psi4manual/master/psi4api.html#psi4.core.Wavefunction.Ca \"Go to Documentation\"), [wfn.Cb()](http://psicode.org/psi4manual/master/psi4api.html#psi4.core.Wavefunction.Cb \"Go to Documentation\") | Returns orbital coefficient matrix for $\\alpha$ (Ca) or $\\beta$ (Cb) orbitals. (Identical for restricted orbitals) |\n",
    "| Electron Density, **D** | [wfn.Da()](http://psicode.org/psi4manual/master/psi4api.html#psi4.core.Wavefunction.Da \"Go to Documentation\"), [wfn.Db()](http://psicode.org/psi4manual/master/psi4api.html#psi4.core.Wavefunction.Db \"Go to Documentation\") | One-particle density matrices for $\\alpha$ (Da) and $\\beta$ (Db) electrons. (Identical for restricted orbitals) |\n",
    "| Fock Matrix, **F** | [wfn.Fa()](http://psicode.org/psi4manual/master/psi4api.html#psi4.core.Wavefunction.Fa \"Go to Documentation\"), [wfn.Fb()](http://psicode.org/psi4manual/master/psi4api.html#psi4.core.Wavefunction.Fb \"Go to Documentation\") | Returns the Fock matrix. For wavefunction with unrestricted orbitals, distinct Fock matrices $F^{\\alpha}$ and $F^{\\beta}$ for $\\alpha$ and $\\beta$ orbitals, respectively, are created.|\n",
    "| Basis Set | [wfn.basisset()](http://psicode.org/psi4manual/master/psi4api.html#psi4.core.Wavefunction.basisset \"Go to Documentation\") | Returns basis set associated with the wavefunction. |\n",
    "| $\\alpha$ ($\\beta$) electrons | [wfn.nalpha()](http://psicode.org/psi4manual/master/psi4api.html#psi4.core.Wavefunction.nalpha \"Go to Documentation\"), [wfn.nbeta()](http://psicode.org/psi4manual/master/psi4api.html#psi4.core.Wavefunction.nbeta \"Go to Documentation\") | Returns number of $\\alpha$ ($\\beta$) electrons of the wavefunction. |\n",
    "| Irreducible Representations | [wfn.nirrep()](http://psicode.org/psi4manual/master/psi4api.html#psi4.core.Wavefunction.nirrep \"Go to Documentation\") | Returns number of irreducible representations (number of symmetry elements). Several objects can utilize molecular symmetry in the wavefunction. |\n",
    "| Occupied Orbitals | [wfn.doccpi()](http://psicode.org/psi4manual/master/psi4api.html#psi4.core.Wavefunction.doccpi \"Go to Documentation\") | Returns number of doubly occupied orbitals per irrep in the wavefunction. |\n",
    "| Psi Variables | [wfn.variables()](http://psicode.org/psi4manual/master/psi4api.html#psi4.core.Wavefunction.variables \"Go to Documentation\") | Returns all Psi variables associated with the method which computed the wavefunction. |\n",
    "| Energy   | [wfn.energy()](http://psicode.org/psi4manual/master/psi4api.html#psi4.core.Wavefunction.energy \"Go to Documentation\") | Returns current energy of the wavefunction. |\n",
    "| Orbital Energies, $\\boldsymbol{\\epsilon}$ | [wfn.epsilon_a()](http://psicode.org/psi4manual/master/psi4api.html#psi4.core.Wavefunction.epsilon_a \"Go to Documentation\"), [wfn.epsilon_b()](http://psicode.org/psi4manual/master/psi4api.html#psi4.core.Wavefunction.epsilon_b \"Go to Documentation\") | Returns $\\alpha$ (a) and $\\beta$ (b) orbital energies. (Identical for restricted orbitals) |\n",
    "\n",
    "Note: The functions returning any of the matrices mentioned above (**C**, **D**, $\\boldsymbol{\\epsilon}$), actually return instances of the `psi4.core.Matrix` class (noticing a pattern here?) and not viewable arrays.  Fortunately,\n",
    "the previous tutorial introduced how to modify these arrays Python-side, using NumPy views created through `np.asarray()` or `.np`."
   ]
  },
  {
   "cell_type": "code",
   "execution_count": null,
   "metadata": {
    "collapsed": true,
    "run_control": {
     "frozen": false,
     "read_only": false
    }
   },
   "outputs": [],
   "source": [
    "# Try out the wavefunction class member functions!"
   ]
  }
 ],
 "metadata": {
  "kernelspec": {
   "name": "python3",
   "display_name": "Python 3.7.9 64-bit ('base': conda)",
   "metadata": {
    "interpreter": {
     "hash": "e4c6ce54e6d1ccff551279c9aafc06b78c48fd9e60d6b4e74c0583a74ec1d1f9"
    }
   }
  },
  "language_info": {
   "codemirror_mode": {
    "name": "ipython",
    "version": 2
   },
   "file_extension": ".py",
   "mimetype": "text/x-python",
   "name": "python",
   "nbconvert_exporter": "python",
   "pygments_lexer": "ipython2",
   "version": "3.7.9-final"
  },
  "latex_envs": {
   "LaTeX_envs_menu_present": true,
   "bibliofile": "biblio.bib",
   "cite_by": "apalike",
   "current_citInitial": 1,
   "eqLabelWithNumbers": true,
   "eqNumInitial": 1,
   "labels_anchors": false,
   "latex_user_defs": false,
   "report_style_numbering": false,
   "user_envs_cfg": false
  }
 },
 "nbformat": 4,
 "nbformat_minor": 0
}