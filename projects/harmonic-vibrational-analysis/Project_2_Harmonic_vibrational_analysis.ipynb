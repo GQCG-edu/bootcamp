{
 "cells": [
  {
   "cell_type": "markdown",
   "metadata": {},
   "source": [
    "# Programming project 2: Harmonic Vibrational analysis"
   ]
  },
  {
   "cell_type": "markdown",
   "metadata": {},
   "source": [
    "In this project you will be doing a harmonic vibrational analysis on water, benzene and 3-chloro-1-butene. All the necessary input files present in the `input` directory, and you can check your answers with the numerical solutions in the `solutions` folder."
   ]
  },
  {
   "cell_type": "markdown",
   "metadata": {},
   "source": [
    "## Step 1: Read the coordinate data"
   ]
  },
  {
   "cell_type": "markdown",
   "metadata": {},
   "source": [
    "You can use 'Step 1' from Project 1 to read in your coordinate data.\n",
    "\n",
    "_(Bonus: Can you write a small Python library that provides this functionality so it can be reused?)_"
   ]
  },
  {
   "cell_type": "code",
   "execution_count": null,
   "metadata": {},
   "outputs": [],
   "source": [
    "import pandas as pd\n",
    "from google.colab import files\n",
    "import numpy as np\n",
    "import math\n",
    "\n",
    "# Read files as dataframe\n",
    "tri_chloro_1_butene = pd.read_fwf('3_chloro_1_butene.txt', header = None)\n",
    "water = pd.read_fwf('water.txt', header = None)\n",
    "benzene = pd.read_fwf('benzene.txt', header = None)\n",
    "\n",
    "# Reducing dataframes into positions of each atom\n",
    "tri_chloro_1_butene_pos = tri_chloro_1_butene.loc[1: , 1:]\n",
    "water_pos = water.loc[1: , 0:]\n",
    "benzene_pos = benzene.loc[1: , 0:]\n",
    "\n",
    "# Reducing dataframes into masses of each atom\n",
    "tri_chloro_1_butene_mass = tri_chloro_1_butene.loc[1: , 1]\n",
    "water_mass = water.loc[1: , 0]\n",
    "benzene_mass = benzene.loc[1: , 0]\n",
    "\n",
    "# Converting to numpy array\n",
    "tri_chloro_1_butene_pos_np = tri_chloro_1_butene_pos.to_numpy()\n",
    "water_pos_np = water_pos.to_numpy()\n",
    "benzene_pos_np = benzene_pos.to_numpy()\n",
    "\n",
    "tri_chloro_1_butene_mass_np = tri_chloro_1_butene_mass.to_numpy()\n",
    "water_mass_np = water_mass.to_numpy()\n",
    "benzene_mass_np = benzene_mass.to_numpy()"
   ]
  },
  {
   "cell_type": "markdown",
   "metadata": {},
   "source": [
    "## Step 2: Read the cartesian Hessian data"
   ]
  },
  {
   "cell_type": "markdown",
   "metadata": {},
   "source": [
    "In the directory there are also some `*_hessian.txt` files, which contain a Hessian matrix, which consists of second derivatives of the energy with respect to two atomic positions:\n",
    "\n",
    "$$F_{ij} = \\frac{\\partial^2 V}{\\partial q_i \\partial q_j} \\, .$$\n",
    "\n",
    "The first integer is the number of atoms of the system and the rest of the lines have the following format:\n",
    "\n",
    "$$\\begin{array}{ccc} F_{x_1,x_1} & F_{x_1,y_1} & F_{x_1,z_1} \\\\ F_{x_1,x_2} & F_{x_1,y_2} & F_{x_1,z_2} \\\\ & \\\\ \\ldots & \\ldots & \\dots \\\\ & \\\\ F_{x_2,x_1} & F_{x_2,y_1} & F_{x_2,z_1} \\\\ & \\\\ \\ldots & \\ldots & \\ldots \\end{array} \\, .$$\n",
    "\n",
    "Note that the units of this Hessian matrix are given as $\\text{Hartree} \\, \\text{bohr}^{-2}$."
   ]
  },
  {
   "cell_type": "code",
   "execution_count": null,
   "metadata": {},
   "outputs": [],
   "source": [
    "import pandas as pd\n",
    "from google.colab import files\n",
    "import numpy as np\n",
    "import math\n",
    "\n",
    "# Read files as dataframe\n",
    "tri_chloro_1_butene_hes = pd.read_fwf('3_chloro_1_butene_hessian.txt', header = None)\n",
    "water_hes = pd.read_fwf('water_hessian.txt', header = None)\n",
    "benzene_hes = pd.read_fwf('benzene_hessian.txt', header = None)\n",
    "\n",
    "# Reducing dataframes into positions of each atom\n",
    "tri_chloro_1_butene_hes = tri_chloro_1_butene_hes.loc[1: , 1:]\n",
    "water_hes = water_hes.loc[1: , 1:]\n",
    "benzene_hes = benzene_hes.loc[1: , 1:]\n",
    "\n",
    "# Converting to numpy array\n",
    "tri_chloro_1_butene_hes_np = tri_chloro_1_butene_hes.to_numpy()\n",
    "water_hes_np = water_hes.to_numpy()\n",
    "benzene_hes_np = benzene_hes.to_numpy()"
   ]
  },
  {
   "cell_type": "markdown",
   "metadata": {},
   "source": [
    "## Step 3: Mass-weigh the Hessian matrix"
   ]
  },
  {
   "cell_type": "markdown",
   "metadata": {},
   "source": [
    "The mass-weighted Hessian matrix is calculated by dividing each element of the Hessian matrix by the product of the square roots of the masses of the atoms associated with the given coordinates:\n",
    "\n",
    "$$F^M_{ij} = \\frac{F_{ij}}{\\sqrt{m_i m_j}}$$\n",
    "\n",
    "Like the previous exercise, we are working in amu.\n"
   ]
  },
  {
   "cell_type": "code",
   "execution_count": null,
   "metadata": {},
   "outputs": [],
   "source": [
    "import numpy as np\n",
    "\n",
    "# Create matrices of square root of the product of masses\n",
    "tri_chloro_1_butene_mass_hes = []\n",
    "for i in range(12):\n",
    "  for j in range(12):\n",
    "    tri_chloro_1_butene_mass_hes.append([tri_chloro_1_butene_mass_np[i]*tri_chloro_1_butene_mass_np[j], tri_chloro_1_butene_mass_np[i]*tri_chloro_1_butene_mass_np[j], tri_chloro_1_butene_mass_np[i]*tri_chloro_1_butene_mass_np[j]])\n",
    "for i in range(12):\n",
    "  for j in range(12):\n",
    "    tri_chloro_1_butene_mass_hes.append([tri_chloro_1_butene_mass_np[i]*tri_chloro_1_butene_mass_np[j], tri_chloro_1_butene_mass_np[i]*tri_chloro_1_butene_mass_np[j], tri_chloro_1_butene_mass_np[i]*tri_chloro_1_butene_mass_np[j]])\n",
    "for i in range(12):\n",
    "  for j in range(12):\n",
    "    tri_chloro_1_butene_mass_hes.append([tri_chloro_1_butene_mass_np[i]*tri_chloro_1_butene_mass_np[j], tri_chloro_1_butene_mass_np[i]*tri_chloro_1_butene_mass_np[j], tri_chloro_1_butene_mass_np[i]*tri_chloro_1_butene_mass_np[j]])\n",
    "tri_chloro_1_butene_mass_hes = np.sqrt(np.asarray(tri_chloro_1_butene_mass_hes))\n",
    "\n",
    "benzene_mass_hes = []\n",
    "for i in range(12):\n",
    "  for j in range(12):\n",
    "    benzene_mass_hes.append([benzene_mass_np[i]*benzene_mass_np[j], benzene_mass_np[i]*benzene_mass_np[j], benzene_mass_np[i]*benzene_mass_np[j]])\n",
    "for i in range(12):\n",
    "  for j in range(12):\n",
    "    benzene_mass_hes.append([benzene_mass_np[i]*benzene_mass_np[j], benzene_mass_np[i]*benzene_mass_np[j], benzene_mass_np[i]*benzene_mass_np[j]])\n",
    "for i in range(12):\n",
    "  for j in range(12):\n",
    "    benzene_mass_hes.append([benzene_mass_np[i]*benzene_mass_np[j], benzene_mass_np[i]*benzene_mass_np[j], benzene_mass_np[i]*benzene_mass_np[j]])\n",
    "benzene_mass_hes = np.sqrt(np.asarray(benzene_mass_hes))\n",
    "\n",
    "water_mass_hes = []\n",
    "for i in range(3):\n",
    "  for j in range(3):\n",
    "    water_mass_hes.append([water_mass_np[i]*water_mass_np[j], water_mass_np[i]*water_mass_np[j], water_mass_np[i]*water_mass_np[j]])\n",
    "for i in range(3):\n",
    "  for j in range(3):\n",
    "    water_mass_hes.append([water_mass_np[i]*water_mass_np[j], water_mass_np[i]*water_mass_np[j], water_mass_np[i]*water_mass_np[j]])\n",
    "for i in range(3):\n",
    "  for j in range(3):\n",
    "    water_mass_hes.append([water_mass_np[i]*water_mass_np[j], water_mass_np[i]*water_mass_np[j], water_mass_np[i]*water_mass_np[j]])\n",
    "water_mass_hes = np.sqrt(np.asarray(water_mass_hes))\n",
    "\n",
    "# Divide Hessian matrix by mass matrix\n",
    "tri_chloro_1_butene_hes_wt = tri_chloro_1_butene_hes_np /tri_chloro_1_butene_mass_hes\n",
    "water_hes_wt = water_hes_np / water_mass_hes\n",
    "benzene_hes_wt = benzene_hes_np / benzene_mass_hes"
   ]
  },
  {
   "cell_type": "markdown",
   "metadata": {},
   "source": [
    "## Step 4: Diagonalize the mass-weighted Hessian matrix"
   ]
  },
  {
   "cell_type": "markdown",
   "metadata": {},
   "source": [
    "In this step, you should calculate the eigenvalues of the previously calculated mass-weighted Hessian:\n",
    "\n",
    "$$\\mathbf{F}^M \\mathbf{L} = \\mathbf{L} \\Lambda \\, .$$"
   ]
  },
  {
   "cell_type": "code",
   "execution_count": null,
   "metadata": {},
   "outputs": [],
   "source": []
  },
  {
   "cell_type": "markdown",
   "metadata": {},
   "source": [
    "## Step 5: Compute the harmonic vibrational frequencies"
   ]
  },
  {
   "cell_type": "markdown",
   "metadata": {},
   "source": [
    "Finally, the vibrational frequencies are proportional to the square root of the eigenvalues of the mass-weighted Hessian:\n",
    "\n",
    "$$\\omega_i = \\text{constant} \\,  \\sqrt{\\lambda_i} \\, .$$\n",
    "\n",
    "In the solution, frequencies are reported in $\\text{cm}^{-1}$."
   ]
  },
  {
   "cell_type": "code",
   "execution_count": null,
   "metadata": {},
   "outputs": [],
   "source": []
  }
 ],
 "metadata": {
  "kernelspec": {
   "display_name": "Python 3",
   "language": "python",
   "name": "python3"
  },
  "language_info": {
   "codemirror_mode": {
    "name": "ipython",
    "version": 3
   },
   "file_extension": ".py",
   "mimetype": "text/x-python",
   "name": "python",
   "nbconvert_exporter": "python",
   "pygments_lexer": "ipython3",
   "version": "3.7.6"
  }
 },
 "nbformat": 4,
 "nbformat_minor": 4
}