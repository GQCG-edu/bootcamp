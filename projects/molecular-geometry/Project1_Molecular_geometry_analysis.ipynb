{
  "nbformat": 4,
  "nbformat_minor": 0,
  "metadata": {
    "kernelspec": {
      "display_name": "Python 3",
      "language": "python",
      "name": "python3"
    },
    "language_info": {
      "codemirror_mode": {
        "name": "ipython",
        "version": 3
      },
      "file_extension": ".py",
      "mimetype": "text/x-python",
      "name": "python",
      "nbconvert_exporter": "python",
      "pygments_lexer": "ipython3",
      "version": "3.7.6-final"
    },
    "colab": {
      "name": "Project1_Molecular_geometry_analysis.ipynb",
      "provenance": [],
      "collapsed_sections": [],
      "toc_visible": true
    }
  },
  "cells": [
    {
      "cell_type": "markdown",
      "metadata": {
        "id": "7M2jmQCSb6DW"
      },
      "source": [
        "# Programming Project 1: Molecular Geometry Analysis"
      ]
    },
    {
      "cell_type": "markdown",
      "metadata": {
        "id": "U25Hif6Yb6DY"
      },
      "source": [
        "In this project you will be running a molecular geometry analysis on three test systems: acetaldehyde, benzene and allene. The input files and solutions can be found in the directory for project 1."
      ]
    },
    {
      "cell_type": "markdown",
      "metadata": {
        "id": "s645SPJWb6DZ"
      },
      "source": [
        "## Step 1: Read the Coordinate Data from Input"
      ]
    },
    {
      "cell_type": "markdown",
      "metadata": {
        "id": "_sEB43mlb6Db"
      },
      "source": [
        "In the `input` directory there are some `.txt` files, which contain the coordinates (in Bohr) of a chemical system. The first line is the total number of atoms in the molecular system and the remaining lines are the Z-values and x-,y-,z-coordinates of each atom. The Z-value is an integer and the three coordinates are floating-point numbers."
      ]
    },
    {
      "cell_type": "code",
      "metadata": {
        "id": "x52nkVXKb6Dc"
      },
      "source": [
        "import pandas as pd\n",
        "import numpy as np\n",
        "import math\n",
        "\n",
        "# Read files as dataframe\n",
        "acetaldehyde = pd.read_fwf('acetaldehyde.txt', header = None)\n",
        "allene = pd.read_fwf('allene.txt', header = None)\n",
        "benzene = pd.read_fwf('benzene.txt', header = None)\n",
        "\n",
        "# Reducing dataframes into positions of each atom\n",
        "acetaldehyde_pos = acetaldehyde.loc[1: , 1:]\n",
        "allene_pos = allene.loc[1: , 1:]\n",
        "benzene_pos = benzene.loc[1: , 1:]\n",
        "\n",
        "# Converting to numpy array\n",
        "acetaldehyde_pos_np = acetaldehyde_pos.to_numpy()\n",
        "allene_pos_np = allene_pos.to_numpy()\n",
        "benzene_pos_np = benzene_pos.to_numpy()"
      ],
      "execution_count": null,
      "outputs": []
    },
    {
      "cell_type": "markdown",
      "metadata": {
        "id": "tNd-nzTNb6Dg"
      },
      "source": [
        "To complete this step, you will need to calculate the interatomic distances $R_{ij}$\n",
        "\n",
        "$$R_{ij}=\\sqrt{(x_i-x_j)^2 + (y_i - y_j)^2 + (z_i - z_j)^2}$$\n",
        "\n",
        "between all pairs of atoms $i$ and $j$."
      ]
    },
    {
      "cell_type": "code",
      "metadata": {
        "id": "OJxJepvzb6Dh"
      },
      "source": [
        "# Calculate Rij for each atom i and j\n",
        "print('Benzene')\n",
        "for n in range(12):\n",
        "  for z in range(n):\n",
        "    print('['+str(n)+','+str(z)+'] '+str(math.sqrt(((benzene_pos_np[n,0]-benzene_pos_np[z,0])**2)+((benzene_pos_np[n,1]-benzene_pos_np[z,1])**2)+((benzene_pos_np[n,2]-benzene_pos_np[z,2])**2))))\n",
        "print('Allene')\n",
        "for n in range(7):\n",
        "  for z in range(n):\n",
        "    print('['+str(n)+','+str(z)+'] '+str(math.sqrt(((allene_pos_np[n,0]-allene_pos_np[z,0])**2)+((allene_pos_np[n,1]-allene_pos_np[z,1])**2)+((allene_pos_np[n,2]-allene_pos_np[z,2])**2))))\n",
        "print('Acetaldehyde')\n",
        "for n in range(7):\n",
        "  for z in range(n):\n",
        "    print('['+str(n)+','+str(z)+'] '+str(math.sqrt(((acetaldehyde_pos_np[n,0]-acetaldehyde_pos_np[z,0])**2)+((acetaldehyde_pos_np[n,1]-acetaldehyde_pos_np[z,1])**2)+((acetaldehyde_pos_np[n,2]-acetaldehyde_pos_np[z,2])**2))))"
      ],
      "execution_count": null,
      "outputs": []
    },
    {
      "cell_type": "markdown",
      "metadata": {
        "id": "9h7wA4Rsb6Dk"
      },
      "source": [
        "## Step 3: Bond angles"
      ]
    },
    {
      "cell_type": "markdown",
      "metadata": {
        "id": "z8qCxcqVb6Dl"
      },
      "source": [
        "Calculate the all bond angles $\\phi_{ijk}$ between three atoms, for atoms less than 4 Bohr apart. For the triple of atoms $i$, $j$ (the central atom) and $k$, the bond angle can be calculated by: \n",
        "\n",
        "$$\\cos \\phi_{ijk} = \\mathbf{e}_{ji} \\cdot \\mathbf{e}_{jk} \\,$$\n",
        "\n",
        "with $\\mathbf{e}_{ij}$ the unit vector between the pair of atoms $i$ and $j$:\n",
        "\n",
        "$$\\mathbf{e}_{ij} = \\frac{ \\mathbf{R}_j - \\mathbf{R}_i }{R_{ij}} \\, ,$$\n",
        "\n",
        "where the $i$-th atom has the position vector $\\mathbf{R}_i$."
      ]
    },
    {
      "cell_type": "code",
      "metadata": {
        "id": "KjZNBe2tb6Dm"
      },
      "source": [
        "# Calculate bond length (x and y) and bond angle\n",
        "print('Benzene')\n",
        "for n in range(12):\n",
        "  for m in range(n):\n",
        "    x = math.sqrt(((benzene_pos_np[n,0]-benzene_pos_np[m,0])**2)+((benzene_pos_np[n,1]-benzene_pos_np[m,1])**2)+((benzene_pos_np[n,2]-benzene_pos_np[m,2])**2))\n",
        "    a = (benzene_pos_np[m] - benzene_pos_np[n])/x\n",
        "    for o in range(m):\n",
        "      y = math.sqrt(((benzene_pos_np[o,0]-benzene_pos_np[m,0])**2)+((benzene_pos_np[o,1]-benzene_pos_np[m,1])**2)+((benzene_pos_np[o,2]-benzene_pos_np[m,2])**2))\n",
        "      if y < 4 and x < 4:\n",
        "        b = (benzene_pos_np[m] - benzene_pos_np[o])/y\n",
        "        print('['+str(n)+','+str(m)+','+str(o)+'] '+str(math.degrees(np.arccos(a@b))))\n",
        "print('Allene')\n",
        "for n in range(7):\n",
        "  for m in range(n):\n",
        "    x = math.sqrt(((allene_pos_np[n,0]-allene_pos_np[m,0])**2)+((allene_pos_np[n,1]-allene_pos_np[m,1])**2)+((allene_pos_np[n,2]-allene_pos_np[m,2])**2))\n",
        "    a = (allene_pos_np[m] - allene_pos_np[n])/x\n",
        "    for o in range(m):\n",
        "      y = math.sqrt(((allene_pos_np[o,0]-allene_pos_np[m,0])**2)+((allene_pos_np[o,1]-allene_pos_np[m,1])**2)+((allene_pos_np[o,2]-allene_pos_np[m,2])**2))\n",
        "      if y < 4 and x < 4:\n",
        "        b = (allene_pos_np[m] - allene_pos_np[o])/y\n",
        "        print('['+str(n)+','+str(m)+','+str(o)+'] '+str(math.degrees(np.arccos(a@b))))\n",
        "print('Acetaldehyde')\n",
        "for n in range(7):\n",
        "  for m in range(n):\n",
        "    x = math.sqrt(((acetaldehyde_pos_np[n,0]-acetaldehyde_pos_np[m,0])**2)+((acetaldehyde_pos_np[n,1]-acetaldehyde_pos_np[m,1])**2)+((acetaldehyde_pos_np[n,2]-acetaldehyde_pos_np[m,2])**2))\n",
        "    a = (acetaldehyde_pos_np[m] - acetaldehyde_pos_np[n])/x\n",
        "    for o in range(m):\n",
        "      y = math.sqrt(((acetaldehyde_pos_np[o,0]-acetaldehyde_pos_np[m,0])**2)+((acetaldehyde_pos_np[o,1]-acetaldehyde_pos_np[m,1])**2)+((acetaldehyde_pos_np[o,2]-acetaldehyde_pos_np[m,2])**2))\n",
        "      if y < 4 and x < 4:\n",
        "        b = (acetaldehyde_pos_np[m] - acetaldehyde_pos_np[o])/y\n",
        "        print('['+str(n)+','+str(m)+','+str(o)+'] '+str(math.degrees(np.arccos(a@b))))"
      ],
      "execution_count": null,
      "outputs": []
    },
    {
      "cell_type": "markdown",
      "metadata": {
        "id": "d4WkG63kb6Dp"
      },
      "source": [
        "## Step 4: Out-of-plane angles"
      ]
    },
    {
      "cell_type": "markdown",
      "metadata": {
        "id": "TQxhvJ-Rb6Dq"
      },
      "source": [
        "Calculate the out-of-plane angles $\\theta_{ijkl}$ between every quadruple of four atoms $i$, $j$, $k$ and $l$ that are less than 4 Bohr apart. The out-of-plane angles can be calculated using the following formula:\n",
        "\n",
        "$$\\sin \\theta_{ijkl} = \\frac{ \\mathbf{e}_{kj} \\times \\mathbf{e}_{kl}}{ \\sin\\phi_{jkl} } \\cdot \\mathbf{e}_{ki} \\, .$$"
      ]
    },
    {
      "cell_type": "code",
      "metadata": {
        "id": "nL35LFDkb6Dq"
      },
      "source": [
        "# Calculate out of plane angles\n",
        "print('Benzene')\n",
        "for a in range(12):\n",
        "  for b in range (12):\n",
        "     for c in range(12):\n",
        "       rki = math.sqrt(((benzene_pos_np[c,0]-benzene_pos_np[a,0])**2)+((benzene_pos_np[c,1]-benzene_pos_np[a,1])**2)+((benzene_pos_np[c,2]-benzene_pos_np[a,2])**2))\n",
        "       eki = (benzene_pos_np[a] - benzene_pos_np[c])/rki\n",
        "       rkj = math.sqrt(((benzene_pos_np[b,0]-benzene_pos_np[c,0])**2)+((benzene_pos_np[b,1]-benzene_pos_np[c,1])**2)+((benzene_pos_np[b,2]-benzene_pos_np[c,2])**2))\n",
        "       ekj = (benzene_pos_np[b] - benzene_pos_np[c])/rkj\n",
        "       for d in range(12):\n",
        "         rkl = math.sqrt(((benzene_pos_np[c,0]-benzene_pos_np[d,0])**2)+((benzene_pos_np[c,1]-benzene_pos_np[d,1])**2)+((benzene_pos_np[c,2]-benzene_pos_np[d,2])**2))\n",
        "         ekl = (benzene_pos_np[d] - benzene_pos_np[c])/rkj\n",
        "         sin = math.sin(np.arccos(ekj@ekl))\n",
        "         cross = np.cross(ekj, ekl)\n",
        "         ratio = cross/sin\n",
        "         teta = np.arcsin(ratio@eki)\n",
        "         if rki < 4 and rkj < 4 and rkl < 4 and a != b and a != c and a != d and b != c and b != d and c != d and np.isnan(teta) == False:\n",
        "           print('['+str(a)+','+str(b)+','+str(c)+','+str(d)+'] '+str(math.degrees(teta)))\n",
        "print('Acetaldehyde')\n",
        "for a in range(7):\n",
        "  for b in range (7):\n",
        "     for c in range(7):\n",
        "       rki = math.sqrt(((acetaldehyde_pos_np[c,0]-acetaldehyde_pos_np[a,0])**2)+((acetaldehyde_pos_np[c,1]-acetaldehyde_pos_np[a,1])**2)+((acetaldehyde_pos_np[c,2]-acetaldehyde_pos_np[a,2])**2))\n",
        "       eki = (acetaldehyde_pos_np[a] - acetaldehyde_pos_np[c])/rki\n",
        "       rkj = math.sqrt(((acetaldehyde_pos_np[b,0]-acetaldehyde_pos_np[c,0])**2)+((acetaldehyde_pos_np[b,1]-acetaldehyde_pos_np[c,1])**2)+((acetaldehyde_pos_np[b,2]-acetaldehyde_pos_np[c,2])**2))\n",
        "       ekj = (acetaldehyde_pos_np[b] - acetaldehyde_pos_np[c])/rkj\n",
        "       for d in range(7):\n",
        "         rkl = math.sqrt(((acetaldehyde_pos_np[c,0]-acetaldehyde_pos_np[d,0])**2)+((acetaldehyde_pos_np[c,1]-acetaldehyde_pos_np[d,1])**2)+((acetaldehyde_pos_np[c,2]-acetaldehyde_pos_np[d,2])**2))\n",
        "         ekl = (acetaldehyde_pos_np[d] - acetaldehyde_pos_np[c])/rkj\n",
        "         sin = math.sin(np.arccos(ekj@ekl))\n",
        "         cross = np.cross(ekj, ekl)\n",
        "         ratio = cross/sin\n",
        "         teta = np.arcsin(ratio@eki)\n",
        "         if rki < 4 and rkj < 4 and rkl < 4 and a != b and a != c and a != d and b != c and b != d and c != d and np.isnan(teta) == False:\n",
        "           print('['+str(a)+','+str(b)+','+str(c)+','+str(d)+'] '+str(math.degrees(teta)))\n",
        "print('Allene')\n",
        "for a in range(7):\n",
        "  for b in range (7):\n",
        "     for c in range(7):\n",
        "       rki = math.sqrt(((allene_pos_np[c,0]-allene_pos_np[a,0])**2)+((allene_pos_np[c,1]-allene_pos_np[a,1])**2)+((allene_pos_np[c,2]-allene_pos_np[a,2])**2))\n",
        "       eki = (allene_pos_np[a] - allene_pos_np[c])/rki\n",
        "       rkj = math.sqrt(((allene_pos_np[b,0]-allene_pos_np[c,0])**2)+((allene_pos_np[b,1]-allene_pos_np[c,1])**2)+((allene_pos_np[b,2]-allene_pos_np[c,2])**2))\n",
        "       ekj = (allene_pos_np[b] - allene_pos_np[c])/rkj\n",
        "       for d in range(7):\n",
        "         rkl = math.sqrt(((allene_pos_np[c,0]-allene_pos_np[d,0])**2)+((allene_pos_np[c,1]-allene_pos_np[d,1])**2)+((allene_pos_np[c,2]-allene_pos_np[d,2])**2))\n",
        "         ekl = (allene_pos_np[d] - allene_pos_np[c])/rkj\n",
        "         sin = math.sin(np.arccos(ekj@ekl))\n",
        "         cross = np.cross(ekj, ekl)\n",
        "         ratio = cross/sin\n",
        "         teta = np.arcsin(ratio@eki)\n",
        "         if rki < 4 and rkj < 4 and rkl < 4 and a != b and a != c and a != d and b != c and b != d and c != d and np.isnan(teta) == False:\n",
        "           print('['+str(a)+','+str(b)+','+str(c)+','+str(d)+'] '+str(math.degrees(teta)))"
      ],
      "execution_count": null,
      "outputs": []
    },
    {
      "cell_type": "markdown",
      "metadata": {
        "id": "xTE73dKib6Dt"
      },
      "source": [
        "## Step 5: Torsion/Dihedral angles"
      ]
    },
    {
      "cell_type": "markdown",
      "metadata": {
        "id": "7IkD7uizb6Du"
      },
      "source": [
        "As a last example of molecular angles, calculate the torsion angles $\\tau_{ijkl}$ between every quadruple of four atoms $i$, $j$, $k$ and $l$ that are less than 4 Bohr apart. The torsion angles can be calculated using:\n",
        "\n",
        "$$\\cos \\tau_{ijkl} = \\frac{ (\\mathbf{e}_{ij} \\times \\mathbf{e}_{jk}) \\cdot (\\mathbf{e}_{jk} \\times \\mathbf{e}_{kl}) }{ \\sin \\phi_{ijk} \\, \\sin \\phi_{jkl} } \\, .$$"
      ]
    },
    {
      "cell_type": "code",
      "metadata": {
        "id": "XJxiNJg5b6Dv"
      },
      "source": [
        "# Calculate dihedral angles\n",
        "print('Benzene')\n",
        "for i in range(12):\n",
        "  for j in range(12):\n",
        "    rij = math.sqrt(((benzene_pos_np[i,0]-benzene_pos_np[j,0])**2)+((benzene_pos_np[i,1]-benzene_pos_np[j,1])**2)+((benzene_pos_np[i,2]-benzene_pos_np[j,2])**2))\n",
        "    eij = (benzene_pos_np[j] - benzene_pos_np[i])/rij\n",
        "    eji = (benzene_pos_np[i] - benzene_pos_np[j])/rij\n",
        "    for k in range(12):\n",
        "      rjk = math.sqrt(((benzene_pos_np[j,0]-benzene_pos_np[k,0])**2)+((benzene_pos_np[j,1]-benzene_pos_np[k,1])**2)+((benzene_pos_np[j,2]-benzene_pos_np[k,2])**2))\n",
        "      ejk = (benzene_pos_np[k] - benzene_pos_np[j])/rjk\n",
        "      ekj = (benzene_pos_np[j] - benzene_pos_np[k])/rjk\n",
        "      for l in range(12):\n",
        "        rkl = math.sqrt(((benzene_pos_np[k,0]-benzene_pos_np[l,0])**2)+((benzene_pos_np[k,1]-benzene_pos_np[l,1])**2)+((benzene_pos_np[k,2]-benzene_pos_np[l,2])**2))\n",
        "        ekl = (benzene_pos_np[l] - benzene_pos_np[k])/rkl\n",
        "        cross1 = np.cross(eij, ejk)\n",
        "        cross2 = np.cross(ejk, ekl)\n",
        "        dot = cross1@cross2\n",
        "        sin1 = math.sin(np.arccos(eji@ejk))\n",
        "        sin2 = math.sin(np.arccos(ekj@ekl))\n",
        "        sinprod = sin1 * sin2\n",
        "        tau = np.arccos(dot/sinprod)\n",
        "        if rij < 4 and rjk < 4 and rkl < 4 and i != j and i != k and i != l and j != k and j != l and k != l and np.isnan(tau) == False:\n",
        "          print('['+str(i)+','+str(j)+','+str(k)+','+str(l)+'] '+str(math.degrees(tau)))\n",
        "print('Allene')\n",
        "for i in range(7):\n",
        "  for j in range(7):\n",
        "    rij = math.sqrt(((allene_pos_np[i,0]-allene_pos_np[j,0])**2)+((allene_pos_np[i,1]-allene_pos_np[j,1])**2)+((allene_pos_np[i,2]-allene_pos_np[j,2])**2))\n",
        "    eij = (allene_pos_np[j] - allene_pos_np[i])/rij\n",
        "    eji = (allene_pos_np[i] - allene_pos_np[j])/rij\n",
        "    for k in range(7):\n",
        "      rjk = math.sqrt(((allene_pos_np[j,0]-allene_pos_np[k,0])**2)+((allene_pos_np[j,1]-allene_pos_np[k,1])**2)+((allene_pos_np[j,2]-allene_pos_np[k,2])**2))\n",
        "      ejk = (allene_pos_np[k] - allene_pos_np[j])/rjk\n",
        "      ekj = (allene_pos_np[j] - allene_pos_np[k])/rjk\n",
        "      for l in range(7):\n",
        "        rkl = math.sqrt(((allene_pos_np[k,0]-allene_pos_np[l,0])**2)+((allene_pos_np[k,1]-allene_pos_np[l,1])**2)+((allene_pos_np[k,2]-allene_pos_np[l,2])**2))\n",
        "        ekl = (allene_pos_np[l] - allene_pos_np[k])/rkl\n",
        "        cross1 = np.cross(eij, ejk)\n",
        "        cross2 = np.cross(ejk, ekl)\n",
        "        dot = cross1@cross2\n",
        "        sin1 = math.sin(np.arccos(eji@ejk))\n",
        "        sin2 = math.sin(np.arccos(ekj@ekl))\n",
        "        sinprod = sin1 * sin2\n",
        "        tau = np.arccos(dot/sinprod)\n",
        "        if rij < 4 and rjk < 4 and rkl < 4 and i != j and i != k and i != l and j != k and j != l and k != l and np.isnan(tau) == False:\n",
        "          print('['+str(i)+','+str(j)+','+str(k)+','+str(l)+'] '+str(math.degrees(tau)))\n",
        "print('Acetaldehyde')\n",
        "for i in range(7):\n",
        "  for j in range(7):\n",
        "    rij = math.sqrt(((acetaldehyde_pos_np[i,0]-acetaldehyde_pos_np[j,0])**2)+((acetaldehyde_pos_np[i,1]-acetaldehyde_pos_np[j,1])**2)+((acetaldehyde_pos_np[i,2]-acetaldehyde_pos_np[j,2])**2))\n",
        "    eij = (acetaldehyde_pos_np[j] - acetaldehyde_pos_np[i])/rij\n",
        "    eji = (acetaldehyde_pos_np[i] - acetaldehyde_pos_np[j])/rij\n",
        "    for k in range(7):\n",
        "      rjk = math.sqrt(((acetaldehyde_pos_np[j,0]-acetaldehyde_pos_np[k,0])**2)+((acetaldehyde_pos_np[j,1]-acetaldehyde_pos_np[k,1])**2)+((acetaldehyde_pos_np[j,2]-acetaldehyde_pos_np[k,2])**2))\n",
        "      ejk = (acetaldehyde_pos_np[k] - acetaldehyde_pos_np[j])/rjk\n",
        "      ekj = (acetaldehyde_pos_np[j] - acetaldehyde_pos_np[k])/rjk\n",
        "      for l in range(7):\n",
        "        rkl = math.sqrt(((acetaldehyde_pos_np[k,0]-acetaldehyde_pos_np[l,0])**2)+((acetaldehyde_pos_np[k,1]-acetaldehyde_pos_np[l,1])**2)+((acetaldehyde_pos_np[k,2]-acetaldehyde_pos_np[l,2])**2))\n",
        "        ekl = (acetaldehyde_pos_np[l] - acetaldehyde_pos_np[k])/rkl\n",
        "        cross1 = np.cross(eij, ejk)\n",
        "        cross2 = np.cross(ejk, ekl)\n",
        "        dot = cross1@cross2\n",
        "        sin1 = math.sin(np.arccos(eji@ejk))\n",
        "        sin2 = math.sin(np.arccos(ekj@ekl))\n",
        "        sinprod = sin1 * sin2\n",
        "        tau = np.arccos(dot/sinprod)\n",
        "        if rij < 4 and rjk < 4 and rkl < 4 and i != j and i != k and i != l and j != k and j != l and k != l and np.isnan(tau) == False:\n",
        "          print('['+str(i)+','+str(j)+','+str(k)+','+str(l)+'] '+str(math.degrees(tau)))"
      ],
      "execution_count": null,
      "outputs": []
    },
    {
      "cell_type": "markdown",
      "metadata": {
        "id": "NrKRjjcEb6Dz"
      },
      "source": [
        "## Step 6: Center-of-mass translation"
      ]
    },
    {
      "cell_type": "markdown",
      "metadata": {
        "id": "BFYHpQgwb6Dz"
      },
      "source": [
        "In this step you will calculate the center of mass of the molecule, whose coordinates are defined as:\n",
        "    \n",
        "$$ \\mathbf{R}_{\\text{COM}} = \\frac{\\sum_i m_i \\mathbf{R}_i}{M} \\, $$\n",
        "\n",
        "where $M$ is the total mass of the molecule and the $i$-th atom has mass $m_i$. In order to prepare yourself for the next exercises, you should should use [atomic mass units (amu)](https://en.wikipedia.org/wiki/Dalton_(unit)) for the masses."
      ]
    },
    {
      "cell_type": "code",
      "metadata": {
        "id": "CtwIPB73b6D1"
      },
      "source": [
        "# Reducing dataframes into z of each atom\n",
        "acetaldehyde_z = acetaldehyde.loc[1: , 0]\n",
        "allene_z = allene.loc[1: , 0]\n",
        "benzene_z = benzene.loc[1: , 0]\n",
        "\n",
        "# Converting to numpy array\n",
        "acetaldehyde_z_np = acetaldehyde_z.to_numpy()\n",
        "allene_z_np = allene_z.to_numpy()\n",
        "benzene_z_np = benzene_z.to_numpy()\n",
        "\n",
        "# Calcucate center of mass\n",
        "print('Benzene')\n",
        "prod = []\n",
        "for i in range(12):\n",
        "  prod1 = benzene_z_np[i] * benzene_pos_np[i]\n",
        "  prod.append(prod1)\n",
        "prod2 = np.array(prod)\n",
        "sum = prod2.sum(axis=0)\n",
        "M = benzene_z_np.sum()\n",
        "Rcom = sum / M\n",
        "print(Rcom)\n",
        "\n",
        "print('Allene')\n",
        "prodallene = []\n",
        "for i in range(7):\n",
        "  prod1 = allene_z_np[i] * allene_pos_np[i]\n",
        "  prodallene.append(prod1)\n",
        "prodallene2 = np.array(prodallene)\n",
        "sumallene = prodallene2.sum(axis=0)\n",
        "Mallene = allene_z_np.sum()\n",
        "Rcomallene = sumallene / Mallene\n",
        "print(Rcomallene)\n",
        "\n",
        "print('Acetaldehyde')\n",
        "prodace = []\n",
        "for i in range(7):\n",
        "  prod1 = acetaldehyde_z_np[i] * acetaldehyde_pos_np[i]\n",
        "  prodace.append(prod1)\n",
        "prodace2 = np.array(prodace)\n",
        "sumace = prodace2.sum(axis=0)\n",
        "Mace = acetaldehyde_z_np.sum()\n",
        "Rcomace = sumace / Mace\n",
        "print(Rcomace)"
      ],
      "execution_count": null,
      "outputs": []
    },
    {
      "cell_type": "markdown",
      "metadata": {
        "id": "9wPIjy-ob6D3"
      },
      "source": [
        "## Step 7: Principal moments of inertia"
      ]
    },
    {
      "cell_type": "markdown",
      "metadata": {
        "id": "4COJ-xLnb6D4"
      },
      "source": [
        "Calculate all the elements of the moment of inertia tensor. Its diagonal elements are calculated using:\n",
        "\n",
        "$$I_{xx} = \\sum_i m_i \\left( y_i^2 + z_i^2 \\right) \\quad I_{yy} = \\sum_i m_i \\left(x_i^2 + z_i^2 \\right) \\quad I_{zz} = \\sum_i m_i \\left( x_i^2 + y_i^2 \\right)$$\n",
        "\n",
        "and the off-diagonal elements using:\n",
        "\n",
        "$$I_{xy} = \\sum_i m_i x_i y_i,\\ \\ \\ \\ I_{xz} = \\sum_i m_i x_i z_i,\\ \\ \\ \\ I_{yz} = \\sum_i m_i y_i z_i \\, .$$\n",
        "\n",
        "In this step it is important to use the coordinates __relative to the center of mass__. Next, you should find the eigenvalues of this tensor to obtain the principal moments of inertia:\n",
        "\n",
        "$$I_a \\leq I_b \\leq I_c$$\n",
        "\n",
        "Report these moments of inertia in $\\text{amu} \\, \\text{bohr}^2$, $\\text{amu} \\, \\overset{\\circ}{\\text{A}}^2$, and $\\text{g} \\, \\text{cm}^2$."
      ]
    },
    {
      "cell_type": "code",
      "metadata": {
        "id": "mhNmMGiYb6D4"
      },
      "source": [
        "# Calcucate center of mass\n",
        "prod = []\n",
        "for i in range(12):\n",
        "  prod1 = benzene_z_np[i] * benzene_pos_np[i]\n",
        "  prod.append(prod1)\n",
        "prod2 = np.array(prod)\n",
        "sum = prod2.sum(axis=0)\n",
        "M = benzene_z_np.sum()\n",
        "Rcombenzene = sum / M\n",
        "prodallene = []\n",
        "for i in range(7):\n",
        "  prod1 = allene_z_np[i] * allene_pos_np[i]\n",
        "  prodallene.append(prod1)\n",
        "prodallene2 = np.array(prodallene)\n",
        "sumallene = prodallene2.sum(axis=0)\n",
        "Mallene = allene_z_np.sum()\n",
        "Rcomallene = sumallene / Mallene\n",
        "prodace = []\n",
        "for i in range(7):\n",
        "  prod1 = acetaldehyde_z_np[i] * acetaldehyde_pos_np[i]\n",
        "  prodace.append(prod1)\n",
        "prodace2 = np.array(prodace)\n",
        "sumace = prodace2.sum(axis=0)\n",
        "Mace = acetaldehyde_z_np.sum()\n",
        "Rcomace = sumace / Mace\n",
        "\n",
        "# Make positions relative to COM\n",
        "benzene_pos_np_rel = benzene_pos_np - np.array([Rcombenzene, ]*12)\n",
        "allene_pos_np_rel = allene_pos_np - np.array([Rcomallene, ]*7)\n",
        "acetaldehyde_pos_np_rel = acetaldehyde_pos_np - np.array([Rcomace, ]*7)\n",
        "\n",
        "# Calculate elements\n",
        "print('Benzene')\n",
        "Ixxben = 0\n",
        "Iyyben = 0\n",
        "Izzben = 0\n",
        "Ixyben = 0\n",
        "Iyzben = 0\n",
        "Ixzben = 0\n",
        "for i in range(12):\n",
        "  Ixx = benzene_z_np[i]*((benzene_pos_np_rel[i, 1]**2)+(benzene_pos_np_rel[i, 2])**2)\n",
        "  Ixxben = Ixxben + Ixx\n",
        "  Iyy = benzene_z_np[i]*((benzene_pos_np_rel[i, 0]**2)+(benzene_pos_np_rel[i, 2])**2)\n",
        "  Iyyben = Iyyben + Iyy\n",
        "  Izz = benzene_z_np[i]*((benzene_pos_np_rel[i, 0]**2)+(benzene_pos_np_rel[i, 1])**2)\n",
        "  Izzben = Izzben + Izz\n",
        "  Ixy = benzene_z_np[i]*benzene_pos_np_rel[i, 0]*benzene_pos_np_rel[i, 1]\n",
        "  Ixyben = Ixyben + Ixy\n",
        "  Iyz = benzene_z_np[i]*benzene_pos_np_rel[i, 1]*benzene_pos_np_rel[i, 2]\n",
        "  Iyzben = Iyzben + Iyz\n",
        "  Ixz = benzene_z_np[i]*benzene_pos_np_rel[i, 0]*benzene_pos_np_rel[i, 2]\n",
        "  Ixzben = Ixzben + Ixz\n",
        "print('Ixx = '+str(Ixxben)+' amu Bohr²'+str(Ixxben*0.28)+' amu A²c'+str(Ixxben*(1.66e-24)*(2.8e-17))+' g cm²')\n",
        "print('Iyy = '+str(Iyyben)+' amu Bohr²'+str(Iyyben*0.28)+' amu A²c'+str(Iyyben*(1.66e-24)*(2.8e-17))+' g cm²')\n",
        "print('Izz = '+str(Izzben)+' amu Bohr²'+str(Izzben*0.28)+' amu A²c'+str(Izzben*(1.66e-24)*(2.8e-17))+' g cm²')\n",
        "print('Ixy = '+str(Ixyben)+' amu Bohr²'+str(Ixyben*0.28)+' amu A²c'+str(Ixyben*(1.66e-24)*(2.8e-17))+' g cm²')\n",
        "print('Iyz = '+str(Iyzben)+' amu Bohr²'+str(Iyzben*0.28)+' amu A²c'+str(Iyzben*(1.66e-24)*(2.8e-17))+' g cm²')\n",
        "print('Ixz = '+str(Ixzben)+' amu Bohr²'+str(Ixzben*0.28)+' amu A²c'+str(Ixzben*(1.66e-24)*(2.8e-17))+' g cm²')\n",
        "\n",
        "print('Allene')\n",
        "Ixxall = 0\n",
        "Iyyall = 0\n",
        "Izzall = 0\n",
        "Ixyall = 0\n",
        "Iyzall = 0\n",
        "Ixzall = 0\n",
        "for i in range(7):\n",
        "  Ixx = allene_z_np[i]*((allene_pos_np_rel[i, 1]**2)+(allene_pos_np_rel[i, 2])**2)\n",
        "  Ixxall = Ixxall + Ixx\n",
        "  Iyy = allene_z_np[i]*((allene_pos_np_rel[i, 0]**2)+(allene_pos_np_rel[i, 2])**2)\n",
        "  Iyyall = Iyyall + Iyy\n",
        "  Izz = allene_z_np[i]*((allene_pos_np_rel[i, 0]**2)+(allene_pos_np_rel[i, 1])**2)\n",
        "  Izzall = Izzall + Izz\n",
        "  Ixy = allene_z_np[i]*allene_pos_np_rel[i, 0]*allene_pos_np_rel[i, 1]\n",
        "  Ixyall = Ixyall + Ixy\n",
        "  Iyz = allene_z_np[i]*allene_pos_np_rel[i, 1]*allene_pos_np_rel[i, 2]\n",
        "  Iyzall = Iyzall + Iyz\n",
        "  Ixz = allene_z_np[i]*allene_pos_np_rel[i, 0]*allene_pos_np_rel[i, 2]\n",
        "  Ixzall = Ixzall + Ixz\n",
        "print('Ixx = '+str(Ixxall)+' amu Bohr²'+str(Ixxall*0.28)+' amu A²c'+str(Ixxall*(1.66e-24)*(2.8e-17))+' g cm²')\n",
        "print('Iyy = '+str(Iyyall)+' amu Bohr²'+str(Iyyall*0.28)+' amu A²c'+str(Iyyall*(1.66e-24)*(2.8e-17))+' g cm²')\n",
        "print('Izz = '+str(Izzall)+' amu Bohr²'+str(Izzall*0.28)+' amu A²c'+str(Izzall*(1.66e-24)*(2.8e-17))+' g cm²')\n",
        "print('Ixy = '+str(Ixyall)+' amu Bohr²'+str(Ixyall*0.28)+' amu A²c'+str(Ixyall*(1.66e-24)*(2.8e-17))+' g cm²')\n",
        "print('Iyz = '+str(Iyzall)+' amu Bohr²'+str(Iyzall*0.28)+' amu A²c'+str(Iyzall*(1.66e-24)*(2.8e-17))+' g cm²')\n",
        "print('Ixz = '+str(Ixzall)+' amu Bohr²'+str(Ixzall*0.28)+' amu A²c'+str(Ixzall*(1.66e-24)*(2.8e-17))+' g cm²')\n",
        "\n",
        "print('Acetaldehyde')\n",
        "Ixxace = 0\n",
        "Iyyace = 0\n",
        "Izzace = 0\n",
        "Ixyace = 0\n",
        "Iyzace = 0\n",
        "Ixzace = 0\n",
        "for i in range(7):\n",
        "  Ixx = acetaldehyde_z_np[i]*((acetaldehyde_pos_np_rel[i, 1]**2)+(acetaldehyde_pos_np_rel[i, 2])**2)\n",
        "  Ixxace = Ixxace + Ixx\n",
        "  Iyy = acetaldehyde_z_np[i]*((acetaldehyde_pos_np_rel[i, 0]**2)+(acetaldehyde_pos_np_rel[i, 2])**2)\n",
        "  Iyyace = Iyyace + Iyy\n",
        "  Izz = acetaldehyde_z_np[i]*((acetaldehyde_pos_np_rel[i, 0]**2)+(acetaldehyde_pos_np_rel[i, 1])**2)\n",
        "  Izzace = Izzace + Izz\n",
        "  Ixy = acetaldehyde_z_np[i]*acetaldehyde_pos_np_rel[i, 0]*acetaldehyde_pos_np_rel[i, 1]\n",
        "  Ixyce = Ixyace + Ixy\n",
        "  Iyz = acetaldehyde_z_np[i]*acetaldehyde_pos_np_rel[i, 1]*acetaldehyde_pos_np_rel[i, 2]\n",
        "  Iyzace = Iyzace + Iyz\n",
        "  Ixz = acetaldehyde_z_np[i]*acetaldehyde_pos_np_rel[i, 0]*acetaldehyde_pos_np_rel[i, 2]\n",
        "  Ixzace = Ixzace + Ixz\n",
        "print('Ixx = '+str(Ixxace)+' amu Bohr²'+str(Ixxace*0.28)+' amu A²c'+str(Ixxace*(1.66e-24)*(2.8e-17))+' g cm²')\n",
        "print('Iyy = '+str(Iyyace)+' amu Bohr²'+str(Iyyace*0.28)+' amu A²c'+str(Iyyace*(1.66e-24)*(2.8e-17))+' g cm²')\n",
        "print('Izz = '+str(Izzace)+' amu Bohr²'+str(Izzace*0.28)+' amu A²c'+str(Izzace*(1.66e-24)*(2.8e-17))+' g cm²')\n",
        "print('Ixy = '+str(Ixyace)+' amu Bohr²'+str(Ixyace*0.28)+' amu A²c'+str(Ixyace*(1.66e-24)*(2.8e-17))+' g cm²')\n",
        "print('Iyz = '+str(Iyzace)+' amu Bohr²'+str(Iyzace*0.28)+' amu A²c'+str(Iyzace*(1.66e-24)*(2.8e-17))+' g cm²')\n",
        "print('Ixz = '+str(Ixzace)+' amu Bohr²'+str(Ixzace*0.28)+' amu A²c'+str(Ixzace*(1.66e-24)*(2.8e-17))+' g cm²')"
      ],
      "execution_count": null,
      "outputs": []
    },
    {
      "cell_type": "markdown",
      "metadata": {
        "id": "FIBe-Yn3b6D7"
      },
      "source": [
        "## Step 8: Rotational constants"
      ]
    },
    {
      "cell_type": "markdown",
      "metadata": {
        "id": "L9FEN71Pb6D7"
      },
      "source": [
        "Finally, using the results from the previous step to calculate the rotational constants $A$, $B$ and $C$ in $\\text{cm}^{-1}$ and MHz:\n",
        "\n",
        "$$ A = \\frac{h}{8{\\pi^2} c I_a} \\quad  B = \\frac{h}{8\\pi^2 c I_b} \\quad C = \\frac{h}{8\\pi^2 c I_c} \\, ,$$\n",
        "\n",
        "with\n",
        "\n",
        "$$A \\geq B \\geq C \\, .$$\n",
        "\n"
      ]
    },
    {
      "cell_type": "code",
      "metadata": {
        "id": "KfbegOaMb6D8"
      },
      "source": [
        ""
      ],
      "execution_count": null,
      "outputs": []
    }
  ]
}