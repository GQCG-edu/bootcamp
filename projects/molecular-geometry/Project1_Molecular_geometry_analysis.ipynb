{
  "nbformat": 4,
  "nbformat_minor": 0,
  "metadata": {
    "kernelspec": {
      "display_name": "Python 3",
      "language": "python",
      "name": "python3"
    },
    "language_info": {
      "codemirror_mode": {
        "name": "ipython",
        "version": 3
      },
      "file_extension": ".py",
      "mimetype": "text/x-python",
      "name": "python",
      "nbconvert_exporter": "python",
      "pygments_lexer": "ipython3",
      "version": "3.7.7"
    },
    "colab": {
      "name": "Project1_Molecular_geometry_analysis.ipynb",
      "provenance": [],
      "collapsed_sections": [],
      "toc_visible": true
    }
  },
  "cells": [
    {
      "cell_type": "markdown",
      "metadata": {
        "id": "7M2jmQCSb6DW"
      },
      "source": [
        "# Programming Project 1: Molecular Geometry Analysis"
      ]
    },
    {
      "cell_type": "markdown",
      "metadata": {
        "id": "U25Hif6Yb6DY"
      },
      "source": [
        "In this project you will be running a molecular geometry analysis on three test systems: acetaldehyde, benzene and allene. The input files and solutions can be found in the directory for project 1."
      ]
    },
    {
      "cell_type": "markdown",
      "metadata": {
        "id": "s645SPJWb6DZ"
      },
      "source": [
        "## Step 1: Read the Coordinate Data from Input"
      ]
    },
    {
      "cell_type": "markdown",
      "metadata": {
        "id": "_sEB43mlb6Db"
      },
      "source": [
        "In the `input` directory there are some `.txt` files, which contain the coordinates (in Bohr) of a chemical system. The first line is the total number of atoms in the molecular system and the remaining lines are the Z-values and x-,y-,z-coordinates of each atom. The Z-value is an integer and the three coordinates are floating-point numbers."
      ]
    },
    {
      "cell_type": "code",
      "metadata": {
        "id": "x52nkVXKb6Dc"
      },
      "source": [
        ""
      ],
      "execution_count": null,
      "outputs": []
    },
    {
      "cell_type": "markdown",
      "metadata": {
        "id": "9bE_A0Aub6Dg"
      },
      "source": [
        "## Step 2: Bond lengths"
      ]
    },
    {
      "cell_type": "markdown",
      "metadata": {
        "id": "tNd-nzTNb6Dg"
      },
      "source": [
        "To complete this step, you will need to calculate the interatomic distances $R_{ij}$\n",
        "\n",
        "$$R_{ij}=\\sqrt{(x_i-x_j)^2 + (y_i - y_j)^2 + (z_i - z_j)^2}$$\n",
        "\n",
        "between all pairs of atoms $i$ and $j$."
      ]
    },
    {
      "cell_type": "code",
      "metadata": {
        "id": "OJxJepvzb6Dh"
      },
      "source": [
        "import pandas as pd\n",
        "from google.colab import files\n",
        "import numpy as np\n",
        "\n",
        "# Read files as dataframe\n",
        "acetaldehyde = pd.read_fwf('acetaldehyde.txt', header = None)\n",
        "allene = pd.read_fwf('allene.txt', header = None)\n",
        "benzene = pd.read_fwf('benzene.txt', header = None)\n",
        "\n",
        "# Reducing dataframes into positions of each atom\n",
        "acetaldehyde_pos = acetaldehyde.loc[1: , 1:]\n",
        "acetaldehyde_pos.columns = ['x', 'y', 'z']\n",
        "allene_pos = allene.loc[1: , 1:]\n",
        "allene_pos.columns = ['x', 'y', 'z']\n",
        "benzene_pos = benzene.loc[1: , 1:]\n",
        "benzene_pos.columns = ['x', 'y', 'z']\n",
        "\n",
        "# Converting to numpy array\n",
        "acetaldehyde_pos_np = acetaldehyde_pos.to_numpy()\n",
        "allene_pos_np = allene_pos.to_numpy()\n",
        "benzene_pos_np = benzene_pos.to_numpy()\n",
        "\n",
        "# Calculate Rij for each atom i and j\n",
        "print('Benzene')\n",
        "for n in range(12):\n",
        "  for z in range(n):\n",
        "    print('['+str(n)+','+str(z)+'] '+str(math.sqrt(((benzene_pos_np[n,0]-benzene_pos_np[z,0])**2)+((benzene_pos_np[n,1]-benzene_pos_np[z,1])**2)+((benzene_pos_np[n,2]-benzene_pos_np[z,2])**2))))\n",
        "print('Allene')\n",
        "for n in range(6):\n",
        "  for z in range(n):\n",
        "    print('['+str(n)+','+str(z)+'] '+str(math.sqrt(((allene_pos_np[n,0]-allene_pos_np[z,0])**2)+((allene_pos_np[n,1]-allene_pos_np[z,1])**2)+((allene_pos_np[n,2]-allene_pos_np[z,2])**2))))\n",
        "print('Acetaldehyde')\n",
        "for n in range(6):\n",
        "  for z in range(n):\n",
        "    print('['+str(n)+','+str(z)+'] '+str(math.sqrt(((acetaldehyde_pos_np[n,0]-acetaldehyde_pos_np[z,0])**2)+((acetaldehyde_pos_np[n,1]-acetaldehyde_pos_np[z,1])**2)+((acetaldehyde_pos_np[n,2]-acetaldehyde_pos_np[z,2])**2))))"
      ],
      "execution_count": null,
      "outputs": []
    },
    {
      "cell_type": "markdown",
      "metadata": {
        "id": "9h7wA4Rsb6Dk"
      },
      "source": [
        "## Step 3: Bond angles"
      ]
    },
    {
      "cell_type": "markdown",
      "metadata": {
        "id": "z8qCxcqVb6Dl"
      },
      "source": [
        "Calculate the all bond angles $\\phi_{ijk}$ between three atoms, for atoms less than 4 Bohr apart. For the triple of atoms $i$, $j$ (the central atom) and $k$, the bond angle can be calculated by: \n",
        "\n",
        "$$\\cos \\phi_{ijk} = \\mathbf{e}_{ji} \\cdot \\mathbf{e}_{jk} \\,$$\n",
        "\n",
        "with $\\mathbf{e}_{ij}$ the unit vector between the pair of atoms $i$ and $j$:\n",
        "\n",
        "$$\\mathbf{e}_{ij} = \\frac{ \\mathbf{R}_j - \\mathbf{R}_i }{R_{ij}} \\, ,$$\n",
        "\n",
        "where the $i$-th atom has the position vector $\\mathbf{R}_i$."
      ]
    },
    {
      "cell_type": "code",
      "metadata": {
        "id": "KjZNBe2tb6Dm"
      },
      "source": [
        "import pandas as pd\n",
        "from google.colab import files\n",
        "import numpy as np\n",
        "import math\n",
        "\n",
        "# Read files as dataframe\n",
        "acetaldehyde = pd.read_fwf('acetaldehyde.txt', header = None)\n",
        "allene = pd.read_fwf('allene.txt', header = None)\n",
        "benzene = pd.read_fwf('benzene.txt', header = None)\n",
        "\n",
        "# Reducing dataframes into positions of each atom\n",
        "acetaldehyde_pos = acetaldehyde.loc[1: , 1:]\n",
        "acetaldehyde_pos.columns = ['x', 'y', 'z']\n",
        "allene_pos = allene.loc[1: , 1:]\n",
        "allene_pos.columns = ['x', 'y', 'z']\n",
        "benzene_pos = benzene.loc[1: , 1:]\n",
        "benzene_pos.columns = ['x', 'y', 'z']\n",
        "\n",
        "# Converting to numpy array\n",
        "acetaldehyde_pos_np = acetaldehyde_pos.to_numpy()\n",
        "allene_pos_np = allene_pos.to_numpy()\n",
        "benzene_pos_np = benzene_pos.to_numpy()\n",
        "\n",
        "# Calculate bond angles\n",
        "print('Benzene')\n",
        "for n in range(12):\n",
        "  for m in range(n):\n",
        "    x = math.sqrt(((benzene_pos_np[n,0]-benzene_pos_np[m,0])**2)+((benzene_pos_np[n,1]-benzene_pos_np[m,1])**2)+((benzene_pos_np[n,2]-benzene_pos_np[m,2])**2))\n",
        "    a = (benzene_pos_np[m] - benzene_pos_np[n])/x\n",
        "    for o in range(m):\n",
        "      y = math.sqrt(((benzene_pos_np[o,0]-benzene_pos_np[m,0])**2)+((benzene_pos_np[o,1]-benzene_pos_np[m,1])**2)+((benzene_pos_np[o,2]-benzene_pos_np[m,2])**2))\n",
        "      if y < 4 and x < 4:\n",
        "        b = (benzene_pos_np[m] - benzene_pos_np[o])/y\n",
        "        print('['+str(n)+','+str(m)+','+str(o)+'] '+str(math.degrees(np.arccos(a@b))))\n",
        "print('Allene')\n",
        "for n in range(6):\n",
        "  for m in range(n):\n",
        "    x = math.sqrt(((allene_pos_np[n,0]-allene_pos_np[m,0])**2)+((allene_pos_np[n,1]-allene_pos_np[m,1])**2)+((allene_pos_np[n,2]-allene_pos_np[m,2])**2))\n",
        "    a = (allene_pos_np[m] - allene_pos_np[n])/x\n",
        "    for o in range(m):\n",
        "      y = math.sqrt(((allene_pos_np[o,0]-allene_pos_np[m,0])**2)+((allene_pos_np[o,1]-allene_pos_np[m,1])**2)+((allene_pos_np[o,2]-allene_pos_np[m,2])**2))\n",
        "      if y < 4 and x < 4:\n",
        "        b = (allene_pos_np[m] - allene_pos_np[o])/y\n",
        "        print('['+str(n)+','+str(m)+','+str(o)+'] '+str(math.degrees(np.arccos(a@b))))\n",
        "print('Acetaldehyde')\n",
        "for n in range(6):\n",
        "  for m in range(n):\n",
        "    x = math.sqrt(((acetaldehyde_pos_np[n,0]-acetaldehyde_pos_np[m,0])**2)+((acetaldehyde_pos_np[n,1]-acetaldehyde_pos_np[m,1])**2)+((acetaldehyde_pos_np[n,2]-acetaldehyde_pos_np[m,2])**2))\n",
        "    a = (acetaldehyde_pos_np[m] - acetaldehyde_pos_np[n])/x\n",
        "    for o in range(m):\n",
        "      y = math.sqrt(((acetaldehyde_pos_np[o,0]-acetaldehyde_pos_np[m,0])**2)+((acetaldehyde_pos_np[o,1]-acetaldehyde_pos_np[m,1])**2)+((acetaldehyde_pos_np[o,2]-acetaldehyde_pos_np[m,2])**2))\n",
        "      if y < 4 and x < 4:\n",
        "        b = (acetaldehyde_pos_np[m] - acetaldehyde_pos_np[o])/y\n",
        "        print('['+str(n)+','+str(m)+','+str(o)+'] '+str(math.degrees(np.arccos(a@b))))"
      ],
      "execution_count": null,
      "outputs": []
    },
    {
      "cell_type": "markdown",
      "metadata": {
        "id": "d4WkG63kb6Dp"
      },
      "source": [
        "## Step 4: Out-of-plane angles"
      ]
    },
    {
      "cell_type": "markdown",
      "metadata": {
        "id": "TQxhvJ-Rb6Dq"
      },
      "source": [
        "Calculate the out-of-plane angles $\\theta_{ijkl}$ between every quadruple of four atoms $i$, $j$, $k$ and $l$ that are less than 4 Bohr apart. The out-of-plane angles can be calculated using the following formula:\n",
        "\n",
        "$$\\sin \\theta_{ijkl} = \\frac{ \\mathbf{e}_{kj} \\times \\mathbf{e}_{kl}}{ \\sin\\phi_{jkl} } \\cdot \\mathbf{e}_{ki} \\, .$$"
      ]
    },
    {
      "cell_type": "code",
      "metadata": {
        "id": "nL35LFDkb6Dq"
      },
      "source": [
        ""
      ],
      "execution_count": null,
      "outputs": []
    },
    {
      "cell_type": "markdown",
      "metadata": {
        "id": "xTE73dKib6Dt"
      },
      "source": [
        "## Step 5: Torsion/Dihedral angles"
      ]
    },
    {
      "cell_type": "markdown",
      "metadata": {
        "id": "7IkD7uizb6Du"
      },
      "source": [
        "As a last example of molecular angles, calculate the torsion angles $\\tau_{ijkl}$ between every quadruple of four atoms $i$, $j$, $k$ and $l$ that are less than 4 Bohr apart. The torsion angles can be calculated using:\n",
        "\n",
        "$$\\cos \\tau_{ijkl} = \\frac{ (\\mathbf{e}_{ij} \\times \\mathbf{e}_{jk}) \\cdot (\\mathbf{e}_{jk} \\times \\mathbf{e}_{kl}) }{ \\sin \\phi_{ijk} \\, \\sin \\phi_{jkl} } \\, .$$"
      ]
    },
    {
      "cell_type": "code",
      "metadata": {
        "id": "XJxiNJg5b6Dv"
      },
      "source": [
        ""
      ],
      "execution_count": null,
      "outputs": []
    },
    {
      "cell_type": "markdown",
      "metadata": {
        "id": "NrKRjjcEb6Dz"
      },
      "source": [
        "## Step 6: Center-of-mass translation"
      ]
    },
    {
      "cell_type": "markdown",
      "metadata": {
        "id": "BFYHpQgwb6Dz"
      },
      "source": [
        "In this step you will calculate the center of mass of the molecule, whose coordinates are defined as:\n",
        "    \n",
        "$$ \\mathbf{R}_{\\text{COM}} = \\frac{\\sum_i m_i \\mathbf{R}_i}{M} \\, $$\n",
        "\n",
        "where $M$ is the total mass of the molecule and the $i$-th atom has mass $m_i$. In order to prepare yourself for the next exercises, you should should use [atomic mass units (amu)](https://en.wikipedia.org/wiki/Dalton_(unit)) for the masses."
      ]
    },
    {
      "cell_type": "code",
      "metadata": {
        "id": "CtwIPB73b6D1"
      },
      "source": [
        ""
      ],
      "execution_count": null,
      "outputs": []
    },
    {
      "cell_type": "markdown",
      "metadata": {
        "id": "9wPIjy-ob6D3"
      },
      "source": [
        "## Step 7: Principal moments of inertia"
      ]
    },
    {
      "cell_type": "markdown",
      "metadata": {
        "id": "4COJ-xLnb6D4"
      },
      "source": [
        "Calculate all the elements of the moment of inertia tensor. Its diagonal elements are calculated using:\n",
        "\n",
        "$$I_{xx} = \\sum_i m_i \\left( y_i^2 + z_i^2 \\right) \\quad I_{yy} = \\sum_i m_i \\left(x_i^2 + z_i^2 \\right) \\quad I_{zz} = \\sum_i m_i \\left( x_i^2 + y_i^2 \\right)$$\n",
        "\n",
        "and the off-diagonal elements using:\n",
        "\n",
        "$$I_{xy} = \\sum_i m_i x_i y_i,\\ \\ \\ \\ I_{xz} = \\sum_i m_i x_i z_i,\\ \\ \\ \\ I_{yz} = \\sum_i m_i y_i z_i \\, .$$\n",
        "\n",
        "In this step it is important to use the coordinates __relative to the center of mass__. Next, you should find the eigenvalues of this tensor to obtain the principal moments of inertia:\n",
        "\n",
        "$$I_a \\leq I_b \\leq I_c$$\n",
        "\n",
        "Report these moments of inertia in $\\text{amu} \\, \\text{bohr}^2$, $\\text{amu} \\, \\overset{\\circ}{\\text{A}}^2$, and $\\text{g} \\, \\text{cm}^2$."
      ]
    },
    {
      "cell_type": "code",
      "metadata": {
        "id": "mhNmMGiYb6D4"
      },
      "source": [
        ""
      ],
      "execution_count": null,
      "outputs": []
    },
    {
      "cell_type": "markdown",
      "metadata": {
        "id": "FIBe-Yn3b6D7"
      },
      "source": [
        "## Step 8: Rotational constants"
      ]
    },
    {
      "cell_type": "markdown",
      "metadata": {
        "id": "L9FEN71Pb6D7"
      },
      "source": [
        "Finally, using the results from the previous step to calculate the rotational constants $A$, $B$ and $C$ in $\\text{cm}^{-1}$ and MHz:\n",
        "\n",
        "$$ A = \\frac{h}{8{\\pi^2} c I_a} \\quad  B = \\frac{h}{8\\pi^2 c I_b} \\quad C = \\frac{h}{8\\pi^2 c I_c} \\, ,$$\n",
        "\n",
        "with\n",
        "\n",
        "$$A \\geq B \\geq C \\, .$$\n",
        "\n"
      ]
    },
    {
      "cell_type": "code",
      "metadata": {
        "id": "KfbegOaMb6D8"
      },
      "source": [
        ""
      ],
      "execution_count": null,
      "outputs": []
    }
  ]
}