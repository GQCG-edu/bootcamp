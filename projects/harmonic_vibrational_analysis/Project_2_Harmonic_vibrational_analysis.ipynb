{
 "cells": [
  {
   "cell_type": "markdown",
   "metadata": {},
   "source": [
    "# Programming project 2: Harmonic Vibrational analysis"
   ]
  },
  {
   "cell_type": "markdown",
   "metadata": {},
   "source": [
    "In this project you will be doing a harmonic vibrational analysis on water, benzene and 3-chloro-1-butene. All the necessary input files present in the `input` directory, and you can check your answers with the numerical solutions in the `solutions` folder."
   ]
  },
  {
   "cell_type": "markdown",
   "metadata": {},
   "source": [
    "## Step 1: Read the coordinate data"
   ]
  },
  {
   "cell_type": "markdown",
   "metadata": {},
   "source": [
    "You can use 'Step 1' from Project 1 to read in your coordinate data.\n",
    "\n",
    "_(Bonus: Can you write a small Python library that provides this functionality so it can be reused?)_"
   ]
  },
  {
   "cell_type": "code",
   "execution_count": null,
   "metadata": {},
   "outputs": [],
   "source": []
  },
  {
   "cell_type": "markdown",
   "metadata": {},
   "source": [
    "## Step 2: Read the cartesian Hessian data"
   ]
  },
  {
   "cell_type": "markdown",
   "metadata": {},
   "source": [
    "In the directory there are also some `*_hessian.txt` files, which contain a Hessian matrix, which consists of second derivatives of the energy with respect to two atomic positions:\n",
    "\n",
    "$$F_{ij} = \\frac{\\partial^2 V}{\\partial q_i \\partial q_j} \\, .$$\n",
    "\n",
    "The first integer is the number of atoms of the system and the rest of the lines have the following format:\n",
    "\n",
    "$$\\begin{array}{ccc} F_{x_1,x_1} & F_{x_1,y_1} & F_{x_1,z_1} \\\\ F_{x_1,x_2} & F_{x_1,y_2} & F_{x_1,z_2} \\\\ & \\\\ \\ldots & \\ldots & \\dots \\\\ & \\\\ F_{x_2,x_1} & F_{x_2,y_1} & F_{x_2,z_1} \\\\ & \\\\ \\ldots & \\ldots & \\ldots \\end{array} \\, .$$\n",
    "\n",
    "Note that the units of this Hessian matrix are given as $\\text{Hartree} \\, \\text{bohr}^{-2}$."
   ]
  },
  {
   "cell_type": "code",
   "execution_count": null,
   "metadata": {},
   "outputs": [],
   "source": []
  },
  {
   "cell_type": "markdown",
   "metadata": {},
   "source": [
    "## Step 3: Mass-weigh the Hessian matrix"
   ]
  },
  {
   "cell_type": "markdown",
   "metadata": {},
   "source": [
    "The mass-weighted Hessian matrix is calculated by dividing each element of the Hessian matrix by the product of the square roots of the masses of the atoms associated with the given coordinates:\n",
    "\n",
    "$$F^M_{ij} = \\frac{F_{ij}}{\\sqrt{m_i m_j}}$$\n",
    "\n",
    "Like the previous exercise, we are working in amu.\n"
   ]
  },
  {
   "cell_type": "code",
   "execution_count": null,
   "metadata": {},
   "outputs": [],
   "source": []
  },
  {
   "cell_type": "markdown",
   "metadata": {},
   "source": [
    "## Step 4: Diagonalize the mass-weighted Hessian matrix"
   ]
  },
  {
   "cell_type": "markdown",
   "metadata": {},
   "source": [
    "In this step, you should calculate the eigenvalues of the previously calculated mass-weighted Hessian:\n",
    "\n",
    "$$\\mathbf{F}^M \\mathbf{L} = \\mathbf{L} \\Lambda \\, .$$"
   ]
  },
  {
   "cell_type": "code",
   "execution_count": null,
   "metadata": {},
   "outputs": [],
   "source": []
  },
  {
   "cell_type": "markdown",
   "metadata": {},
   "source": [
    "## Step 5: Compute the harmonic vibrational frequencies"
   ]
  },
  {
   "cell_type": "markdown",
   "metadata": {},
   "source": [
    "Finally, the vibrational frequencies are proportional to the square root of the eigenvalues of the mass-weighted Hessian:\n",
    "\n",
    "$$\\omega_i = \\text{constant} \\,  \\sqrt{\\lambda_i} \\, .$$\n",
    "\n",
    "In the solution, frequencies are reported in $\\text{cm}^{-1}$."
   ]
  },
  {
   "cell_type": "code",
   "execution_count": null,
   "metadata": {},
   "outputs": [],
   "source": []
  }
 ],
 "metadata": {
  "kernelspec": {
   "display_name": "Python 3",
   "language": "python",
   "name": "python3"
  },
  "language_info": {
   "codemirror_mode": {
    "name": "ipython",
    "version": 3
   },
   "file_extension": ".py",
   "mimetype": "text/x-python",
   "name": "python",
   "nbconvert_exporter": "python",
   "pygments_lexer": "ipython3",
   "version": "3.7.6"
  }
 },
 "nbformat": 4,
 "nbformat_minor": 4
}