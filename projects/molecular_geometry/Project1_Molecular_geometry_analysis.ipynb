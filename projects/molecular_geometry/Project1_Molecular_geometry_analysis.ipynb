{
 "cells": [
  {
   "cell_type": "markdown",
   "metadata": {},
   "source": [
    "# Programming Project 1: Molecular Geometry Analysis"
   ]
  },
  {
   "cell_type": "markdown",
   "metadata": {},
   "source": [
    "In this project you will be running a molecular geometry analysis on three test systems: acetaldehyde, benzene and allene. The input files and solutions can be found in the directory for project 1."
   ]
  },
  {
   "cell_type": "markdown",
   "metadata": {},
   "source": [
    "## Step 1: Read the Coordinate Data from Input"
   ]
  },
  {
   "cell_type": "markdown",
   "metadata": {},
   "source": [
    "In the `input` directory there are some `.txt` files, which contain the coordinates (in Bohr) of a chemical system. The first line is the total number of atoms in the molecular system and the remaining lines are the Z-values and x-,y-,z-coordinates of each atom. The Z-value is an integer and the three coordinates are floating-point numbers."
   ]
  },
  {
   "cell_type": "code",
   "execution_count": null,
   "metadata": {},
   "outputs": [],
   "source": []
  },
  {
   "cell_type": "markdown",
   "metadata": {},
   "source": [
    "## Step 2: Bond lengths"
   ]
  },
  {
   "cell_type": "markdown",
   "metadata": {},
   "source": [
    "To complete this step, you will need to calculate the interatomic distances $R_{ij}$\n",
    "\n",
    "$$R_{ij}=\\sqrt{(x_i-x_j)^2 + (y_i - y_j)^2 + (z_i - z_j)^2}$$\n",
    "\n",
    "between all pairs of atoms $i$ and $j$."
   ]
  },
  {
   "cell_type": "code",
   "execution_count": null,
   "metadata": {},
   "outputs": [],
   "source": []
  },
  {
   "cell_type": "markdown",
   "metadata": {},
   "source": [
    "## Step 3: Bond angles"
   ]
  },
  {
   "cell_type": "markdown",
   "metadata": {},
   "source": [
    "Calculate the all bond angles $\\phi_{ijk}$ between three atoms, for atoms less than 4 Bohr apart. For the triple of atoms $i$, $j$ (the central atom) and $k$, the bond angle can be calculated by: \n",
    "\n",
    "$$\\cos \\phi_{ijk} = \\mathbf{e}_{ji} \\cdot \\mathbf{e}_{jk} \\,$$\n",
    "\n",
    "with $\\mathbf{e}_{ij}$ the unit vector between the pair of atoms $i$ and $j$:\n",
    "\n",
    "$$\\mathbf{e}_{ij} = \\frac{ \\mathbf{R}_j - \\mathbf{R}_i }{R_{ij}} \\, ,$$\n",
    "\n",
    "where the $i$-th atom has the position vector $\\mathbf{R}_i$."
   ]
  },
  {
   "cell_type": "code",
   "execution_count": null,
   "metadata": {},
   "outputs": [],
   "source": []
  },
  {
   "cell_type": "markdown",
   "metadata": {},
   "source": [
    "## Step 4: Out-of-plane angles"
   ]
  },
  {
   "cell_type": "markdown",
   "metadata": {},
   "source": [
    "Calculate the out-of-plane angles $\\theta_{ijkl}$ between every quadruple of four atoms $i$, $j$, $k$ and $l$ that are less than 4 Bohr apart. The out-of-plane angles can be calculated using the following formula:\n",
    "\n",
    "$$\\sin \\theta_{ijkl} = \\frac{ \\mathbf{e}_{kj} \\times \\mathbf{e}_{kl}}{ \\sin\\phi_{jkl} } \\cdot \\mathbf{e}_{ki} \\, .$$"
   ]
  },
  {
   "cell_type": "code",
   "execution_count": null,
   "metadata": {},
   "outputs": [],
   "source": []
  },
  {
   "cell_type": "markdown",
   "metadata": {},
   "source": [
    "## Step 5: Torsion/Dihedral angles"
   ]
  },
  {
   "cell_type": "markdown",
   "metadata": {},
   "source": [
    "As a last example of molecular angles, calculate the torsion angles $\\tau_{ijkl}$ between every quadruple of four atoms $i$, $j$, $k$ and $l$ that are less than 4 Bohr apart. The torsion angles can be calculated using:\n",
    "\n",
    "$$\\cos \\tau_{ijkl} = \\frac{ (\\mathbf{e}_{ij} \\times \\mathbf{e}_{jk}) \\cdot (\\mathbf{e}_{jk} \\times \\mathbf{e}_{kl}) }{ \\sin \\phi_{ijk} \\, \\sin \\phi_{jkl} } \\, .$$"
   ]
  },
  {
   "cell_type": "code",
   "execution_count": null,
   "metadata": {},
   "outputs": [],
   "source": []
  },
  {
   "cell_type": "markdown",
   "metadata": {},
   "source": [
    "## Step 6: Center-of-mass translation"
   ]
  },
  {
   "cell_type": "markdown",
   "metadata": {},
   "source": [
    "In this step you will calculate the center of mass of the molecule, whose coordinates are defined as:\n",
    "    \n",
    "$$ \\mathbf{R}_{\\text{COM}} = \\frac{\\sum_i m_i \\mathbf{R}_i}{M} \\, $$\n",
    "\n",
    "where $M$ is the total mass of the molecule and the $i$-th atom has mass $m_i$. In order to prepare yourself for the next exercises, you should should use [atomic mass units (amu)](https://en.wikipedia.org/wiki/Dalton_(unit)) for the masses."
   ]
  },
  {
   "cell_type": "code",
   "execution_count": null,
   "metadata": {},
   "outputs": [],
   "source": []
  },
  {
   "cell_type": "markdown",
   "metadata": {},
   "source": [
    "## Step 7: Principal moments of inertia"
   ]
  },
  {
   "cell_type": "markdown",
   "metadata": {},
   "source": [
    "Calculate all the elements of the moment of inertia tensor. Its diagonal elements are calculated using:\n",
    "\n",
    "$$I_{xx} = \\sum_i m_i \\left( y_i^2 + z_i^2 \\right) \\quad I_{yy} = \\sum_i m_i \\left(x_i^2 + z_i^2 \\right) \\quad I_{zz} = \\sum_i m_i \\left( x_i^2 + y_i^2 \\right)$$\n",
    "\n",
    "and the off-diagonal elements using:\n",
    "\n",
    "$$I_{xy} = \\sum_i m_i x_i y_i,\\ \\ \\ \\ I_{xz} = \\sum_i m_i x_i z_i,\\ \\ \\ \\ I_{yz} = \\sum_i m_i y_i z_i \\, .$$\n",
    "\n",
    "In this step it is important to use the coordinates __relative to the center of mass__. Next, you should find the eigenvalues of this tensor to obtain the principal moments of inertia:\n",
    "\n",
    "$$I_a \\leq I_b \\leq I_c$$\n",
    "\n",
    "Report these moments of inertia in $\\text{amu} \\, \\text{bohr}^2$, $\\text{amu} \\, \\overset{\\circ}{\\text{A}}^2$, and $\\text{g} \\, \\text{cm}^2$."
   ]
  },
  {
   "cell_type": "code",
   "execution_count": null,
   "metadata": {},
   "outputs": [],
   "source": []
  },
  {
   "cell_type": "markdown",
   "metadata": {},
   "source": [
    "## Step 8: Rotational constants"
   ]
  },
  {
   "cell_type": "markdown",
   "metadata": {},
   "source": [
    "Finally, using the results from the previous step to calculate the rotational constants $A$, $B$ and $C$ in $\\text{cm}^{-1}$ and MHz:\n",
    "\n",
    "$$ A = \\frac{h}{8{\\pi^2} c I_a} \\quad  B = \\frac{h}{8\\pi^2 c I_b} \\quad C = \\frac{h}{8\\pi^2 c I_c} \\, ,$$\n",
    "\n",
    "with\n",
    "\n",
    "$$A \\geq B \\geq C \\, .$$\n",
    "\n"
   ]
  },
  {
   "cell_type": "code",
   "execution_count": null,
   "metadata": {},
   "outputs": [],
   "source": []
  }
 ],
 "metadata": {
  "kernelspec": {
   "display_name": "Python 3",
   "language": "python",
   "name": "python3"
  },
  "language_info": {
   "codemirror_mode": {
    "name": "ipython",
    "version": 3
   },
   "file_extension": ".py",
   "mimetype": "text/x-python",
   "name": "python",
   "nbconvert_exporter": "python",
   "pygments_lexer": "ipython3",
   "version": "3.7.7"
  }
 },
 "nbformat": 4,
 "nbformat_minor": 4
}