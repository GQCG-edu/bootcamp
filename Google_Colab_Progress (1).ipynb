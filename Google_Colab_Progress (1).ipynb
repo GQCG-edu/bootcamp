{
 "cells": [
  {
   "cell_type": "code",
   "execution_count": 16,
   "metadata": {
    "id": "58Fk8GBUazZ3"
   },
   "outputs": [],
   "source": [
    "import matplotlib.pyplot as plt\r\n",
    "import numpy as np"
   ]
  },
  {
   "cell_type": "markdown",
   "metadata": {
    "id": "Y_JQnCBDawID"
   },
   "source": [
    "## Diagonalising matrices\r\n",
    "\r\n",
    "\r\n",
    "\r\n",
    "\r\n"
   ]
  },
  {
   "cell_type": "code",
   "execution_count": 19,
   "metadata": {
    "colab": {
     "base_uri": "https://localhost:8080/"
    },
    "id": "GLFtqkEBaoar",
    "outputId": "936d7662-29cf-4566-8c8c-1f610b353ae7"
   },
   "outputs": [
    {
     "data": {
      "text/plain": [
       "array([[19881.85964094   +0.j        ,     0.           +0.j        ,\n",
       "            0.           +0.j        , ...,\n",
       "            0.           +0.j        ,     0.           +0.j        ,\n",
       "            0.           +0.j        ],\n",
       "       [    0.           +0.j        ,   497.00435519+1909.23051504j,\n",
       "            0.           +0.j        , ...,\n",
       "            0.           +0.j        ,     0.           +0.j        ,\n",
       "            0.           +0.j        ],\n",
       "       [    0.           +0.j        ,     0.           +0.j        ,\n",
       "          497.00435519-1909.23051504j, ...,\n",
       "            0.           +0.j        ,     0.           +0.j        ,\n",
       "            0.           +0.j        ],\n",
       "       ...,\n",
       "       [    0.           +0.j        ,     0.           +0.j        ,\n",
       "            0.           +0.j        , ...,\n",
       "         -759.88591529   +0.j        ,     0.           +0.j        ,\n",
       "            0.           +0.j        ],\n",
       "       [    0.           +0.j        ,     0.           +0.j        ,\n",
       "            0.           +0.j        , ...,\n",
       "            0.           +0.j        ,  -429.86433054   +0.j        ,\n",
       "            0.           +0.j        ],\n",
       "       [    0.           +0.j        ,     0.           +0.j        ,\n",
       "            0.           +0.j        , ...,\n",
       "            0.           +0.j        ,     0.           +0.j        ,\n",
       "         -336.76625528   +0.j        ]])"
      ]
     },
     "execution_count": 19,
     "metadata": {
      "tags": []
     },
     "output_type": "execute_result"
    }
   ],
   "source": [
    "monsterMatrix = np.random.randint(0, 1000, (40, 40)) \r\n",
    "monsterValues = np.linalg.eigvals(monsterMatrix)\r\n",
    "diagonalMatrix = np.diag(monsterValues)\r\n",
    "diagonalMatrix # since the diagonal matrix holds the eigenvalues in its diagonal"
   ]
  },
  {
   "cell_type": "code",
   "execution_count": 33,
   "metadata": {
    "colab": {
     "base_uri": "https://localhost:8080/"
    },
    "id": "yLLBq8bxbdBs",
    "outputId": "f316fe70-402a-4779-f89a-1c4be5e70ae4"
   },
   "outputs": [
    {
     "data": {
      "text/plain": [
       "array([[2., 1., 1., ..., 1., 1., 1.],\n",
       "       [1., 2., 1., ..., 1., 1., 1.],\n",
       "       [1., 1., 2., ..., 1., 1., 1.],\n",
       "       ...,\n",
       "       [1., 1., 1., ..., 2., 1., 1.],\n",
       "       [1., 1., 1., ..., 1., 2., 1.],\n",
       "       [1., 1., 1., ..., 1., 1., 2.]])"
      ]
     },
     "execution_count": 33,
     "metadata": {
      "tags": []
     },
     "output_type": "execute_result"
    }
   ],
   "source": [
    "symMatrix = np.triu(np.ones(40)) + np.tril(np.ones(40))\r\n",
    "symMatrix"
   ]
  },
  {
   "cell_type": "code",
   "execution_count": 34,
   "metadata": {
    "colab": {
     "base_uri": "https://localhost:8080/"
    },
    "id": "3hVCh2AgbcU0",
    "outputId": "b8bba98c-26c4-485d-848b-d457f6deff46"
   },
   "outputs": [
    {
     "data": {
      "text/plain": [
       "array([[ 1.,  0.,  0., ...,  0.,  0.,  0.],\n",
       "       [ 0.,  1.,  0., ...,  0.,  0.,  0.],\n",
       "       [ 0.,  0.,  1., ...,  0.,  0.,  0.],\n",
       "       ...,\n",
       "       [ 0.,  0.,  0., ...,  1.,  0.,  0.],\n",
       "       [ 0.,  0.,  0., ...,  0.,  1.,  0.],\n",
       "       [ 0.,  0.,  0., ...,  0.,  0., 41.]])"
      ]
     },
     "execution_count": 34,
     "metadata": {
      "tags": []
     },
     "output_type": "execute_result"
    }
   ],
   "source": [
    "symValues = np.linalg.eigvalsh(symMatrix)\r\n",
    "symDiagMatrix = np.diag(symValues)\r\n",
    "symDiagMatrix"
   ]
  },
  {
   "cell_type": "markdown",
   "metadata": {
    "id": "aVnWAG7MariI"
   },
   "source": [
    "## plotting\r\n"
   ]
  },
  {
   "cell_type": "code",
   "execution_count": 38,
   "metadata": {
    "colab": {
     "base_uri": "https://localhost:8080/",
     "height": 255.0
    },
    "id": "yAJ3L0LEkWNp",
    "outputId": "6ebf6c45-2218-4bbb-8b87-7ebc2238ab0d"
   },
   "outputs": [
    {
     "data": {
      "image/png": "[encoded data removed]",
      "text/plain": [
       "<Figure size 432x288 with 1 Axes>"
      ]
     },
     "metadata": {
      "tags": [],
      "needs_background": "light"
     },
     "output_type": "display_data"
    }
   ],
   "source": [
    "fig, ax = plt.subplots() \r\n",
    "X = np.linspace (-np.pi, np.pi, 256) # creates array in one line\r\n",
    "ax.plot(X, np.cos(X), color='b',label='cosine', linewidth=2 ) # provide a tag for recognition\r\n",
    "ax.plot(X, np.sin(X), color='r', label='sine', linewidth=2)\r\n",
    "plt.xticks([-np.pi, -np.pi/2, np.pi/2, np.pi], # takes list as argument\r\n",
    "           ['$-\\pi$', '$-\\pi/2$', '$\\pi/2$', '$\\pi$']) # takes second list argument => name your own ticks (do not forget dollars when using special symbols) \r\n",
    "plt.yticks([-1,0,1])\r\n",
    "ax = plt.gca() # there are more axes, treat as array\r\n",
    "ax.spines['right'].set_color('none')\r\n",
    "ax.spines['top'].set_color('none')\r\n",
    "ax.spines['bottom'].set_position('center') # look out! the axes are now moved to the center of the plot, this does not have to be the origin! (use position_tuple ('data', 0))\r\n",
    "ax.spines['left'].set_position('center')\r\n",
    "plt.legend(loc='upper left')\r\n",
    "pointOfInterest =  2*np.pi/3\r\n",
    "# shows points\r\n",
    "plt.scatter([pointOfInterest,], [np.cos(pointOfInterest),], 50, color='b')\r\n",
    "plt.scatter([pointOfInterest,], [np.sin(pointOfInterest),], 50, color='r')\r\n",
    "# draws lines\r\n",
    "plt.plot([pointOfInterest, pointOfInterest], [0, np.cos(pointOfInterest)], linestyle='--', color='b')\r\n",
    "plt.plot([pointOfInterest, pointOfInterest], [0, np.sin(pointOfInterest)], linestyle='--', color='r')\r\n",
    "#annotates\r\n",
    "plt.annotate(r'$cos(\\frac{2\\pi}{3})=-\\frac{1}{2}$', xy=(pointOfInterest, np.cos(pointOfInterest)), arrowprops=dict(arrowstyle=\"->\", connectionstyle=\"arc3,rad=.2\"), xytext=(-70,-50), xycoords = 'data', textcoords = 'offset points')\r\n",
    "plt.annotate(r\"$sin(\\frac{2\\pi}{3})=-\\frac{\\sqrt{3}}{2}$\", xy=(pointOfInterest, np.sin(pointOfInterest)), arrowprops=dict(arrowstyle=\"->\", connectionstyle=\"arc3,rad=.2\"), xytext=(20,15), xycoords = 'data', textcoords = 'offset points')\r\n",
    "\r\n",
    "plt.show()"
   ]
  },
  {
   "cell_type": "code",
   "execution_count": null,
   "metadata": {
    "id": "TVP22MSEkgIl"
   },
   "outputs": [],
   "source": [
    ""
   ]
  }
 ],
 "metadata": {
  "colab": {
   "name": "Google Colab Progress",
   "provenance": []
  },
  "kernelspec": {
   "name": "python3",
   "display_name": "Python 3"
  }
 },
 "nbformat": 4,
 "nbformat_minor": 0
}
