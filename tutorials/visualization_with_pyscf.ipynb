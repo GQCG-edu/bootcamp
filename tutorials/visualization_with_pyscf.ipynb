{
 "cells": [
  {
   "cell_type": "markdown",
   "metadata": {},
   "source": [
    "# Visualization with PYSCF\n",
    "In this notebook, you will learn how to visualize orbitals using pyscf and [IQMOL](http://iqmol.org/index.html) (freely available)."
   ]
  },
  {
   "cell_type": "code",
   "execution_count": 1,
   "metadata": {},
   "outputs": [],
   "source": [
    "# import packages\n",
    "import pyscf"
   ]
  },
  {
   "cell_type": "code",
   "execution_count": 2,
   "metadata": {},
   "outputs": [
    {
     "name": "stdout",
     "output_type": "stream",
     "text": [
      "converged SCF energy = -1.11750588420433\n"
     ]
    },
    {
     "data": {
      "text/plain": [
       "-1.117505884204331"
      ]
     },
     "execution_count": 2,
     "metadata": {},
     "output_type": "execute_result"
    }
   ],
   "source": [
    "# create molecule and run RHF calculation\n",
    "mol = pyscf.gto.Mole()\n",
    "mol.build(\n",
    "    atom = \"\"\"H 0 0 0; H 0 0 0.7122\"\"\",\n",
    "    basis = \"sto-3g\",\n",
    "    symmetry=\"Coov\"\n",
    ")\n",
    "mf = pyscf.scf.RHF(mol)\n",
    "mf.kernel()"
   ]
  },
  {
   "cell_type": "code",
   "execution_count": 4,
   "metadata": {},
   "outputs": [],
   "source": [
    "# select an orbital and generate a cube file for it, here the first orbital (0) is selected\n",
    "# pyscf stores the MOs as rows in the mo_coeff property of the mf object\n",
    "from pyscf.tools import cubegen\n",
    "a = cubegen.orbital(mol, f\"cube_files/MO_H2.cube\", mf.mo_coeff[0, :])"
   ]
  },
  {
   "cell_type": "markdown",
   "metadata": {},
   "source": [
    "The resulting cube file can be visualized using the IQMOL package (and many more, it is a common file extension). Follow these steps:\n",
    "1. open IQMOL\n",
    "2. got to File > Open and navigate to the .cube file\n",
    "3. on the left side of the screen you should see a drop down menu appear with the same name as your .cube file. click on it and find the button Cube Data\n",
    "4. double click on Cube Data. This will open a GUI window where you can specify the details of your MO surface. Clich calculate to visualize the selected orbital.\n",
    "\n",
    "### TIPS\n",
    "- It is possible to visualize other orbitals (for example natural orbitals) using this same method. However, keep in mind that all orbitals must be given in the AO basis that pyscf is using (with the same ordering of the basis functions)."
   ]
  }
 ],
 "metadata": {
  "kernelspec": {
   "display_name": "Python 3",
   "language": "python",
   "name": "python3"
  },
  "language_info": {
   "codemirror_mode": {
    "name": "ipython",
    "version": 3
   },
   "file_extension": ".py",
   "mimetype": "text/x-python",
   "name": "python",
   "nbconvert_exporter": "python",
   "pygments_lexer": "ipython3",
   "version": "3.8.10"
  }
 },
 "nbformat": 4,
 "nbformat_minor": 2
}
