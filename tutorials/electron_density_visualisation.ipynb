{
 "cells": [
  {
   "cell_type": "markdown",
   "metadata": {},
   "source": [
    "## Electron density visualisation"
   ]
  },
  {
   "cell_type": "code",
   "execution_count": 17,
   "metadata": {},
   "outputs": [],
   "source": [
    "# import packages\n",
    "import pyscf\n",
    "import numpy as np"
   ]
  },
  {
   "cell_type": "code",
   "execution_count": 18,
   "metadata": {},
   "outputs": [
    {
     "name": "stdout",
     "output_type": "stream",
     "text": [
      "converged SCF energy = -1.12675331969834\n"
     ]
    },
    {
     "data": {
      "text/plain": [
       "-1.1267533196983441"
      ]
     },
     "execution_count": 18,
     "metadata": {},
     "output_type": "execute_result"
    }
   ],
   "source": [
    "# create molecule and run RHF calculation\n",
    "mol = pyscf.gto.Mole()\n",
    "mol.build(\n",
    "    atom = \"\"\"H -0.36 0 0; H 0.36 0 0\"\"\", # default distance unit is angstrom\n",
    "    basis = \"6-31g\",\n",
    "    symmetry=\"C1\"\n",
    ")\n",
    "mf = pyscf.scf.RHF(mol) # init HF object\n",
    "mf.kernel() # run SCF"
   ]
  },
  {
   "cell_type": "markdown",
   "metadata": {},
   "source": [
    "The first-order electron density operator $\\hat{\\rho}(\\mathbf{r})$ is defined in first quantisation as\n",
    "$$\n",
    "\\hat{\\rho}(\\mathbf{r}) = \\sum_{i}^N \\delta(\\mathbf{r_i} - \\mathbf{r}).\n",
    "$$\n",
    "\n",
    "We define the Hartree-Fock Slater determinant $\\ket{\\Phi} = |\\phi_1 \\phi_2 ... \\phi_N|$ as \n",
    "$$\n",
    " \\prod_i a_i^\\dag \\ket{0},\n",
    " $$\n",
    "such that we can define the density operator in second quantisation (cf. Helgaker CH1) as\n",
    "$$\\hat{\\rho}(\\mathbf{r}) = \\sum_{pq}^K \\rho(\\mathbf{r})_{pq} a_p^\\dag a_q$$\n",
    "with\n",
    "$$\n",
    "\\rho(\\mathbf{r})_{pq} = \\int d\\mathbf{r}' \\phi_p^*(\\mathbf{r}') \\delta(\\mathbf{r}' - \\mathbf{r}) \\phi_q(\\mathbf{r}') =\n",
    " \\phi_p^*(\\mathbf{r})\\phi_q(\\mathbf{r})\n",
    " $$\n",
    "\n",
    "This gives us the first-order electron density\n",
    "$$\n",
    " \\bra{\\Phi}\\hat{\\rho}(\\mathbf{r})\\ket{\\Phi} = \\sum_{pq}^K \\phi_p^*(\\mathbf{r})\\phi_q(\\mathbf{r}) \\bra{\\Phi}a_p^\\dag a_q\\ket{\\Phi} = \n",
    "\\sum_{pq}^K \\phi_p^*(\\mathbf{r})\\phi_q(\\mathbf{r}) \\gamma_{pq} = \\sum_i^{N_{occ}} \\phi_i^*(\\mathbf{r})\\phi_i(\\mathbf{r}).\n",
    "$$\n",
    "Expanding the MOs in a basis of atomic orbitals $\\chi$\n",
    "$$\n",
    "\\ket{\\phi_p} = \\sum_\\mu C_{\\mu i} \\ket{\\chi_\\mu}\n",
    "$$\n",
    "and defining the first order density matrix (1-RDM)\n",
    "$$\n",
    "D_{\\mu\\nu} = \\sum_i^{N_{occ}} C_{\\mu i} C_{\\nu i}^*\n",
    "$$\n",
    "we find\n",
    "$$\n",
    "\\bra{\\Phi}\\hat{\\rho}(\\mathbf{r})\\ket{\\Phi} = \\sum_{\\mu \\nu} D_{\\nu\\mu} \\chi_\\mu^*(\\mathbf{r}) \\chi_\\nu(\\mathbf{r}).\n",
    "$$"
   ]
  },
  {
   "cell_type": "markdown",
   "metadata": {},
   "source": [
    "We thus need to obtain the values of each AO for each point in space."
   ]
  },
  {
   "cell_type": "code",
   "execution_count": 19,
   "metadata": {},
   "outputs": [
    {
     "data": {
      "text/plain": [
       "0.3227939211804519"
      ]
     },
     "execution_count": 19,
     "metadata": {},
     "output_type": "execute_result"
    }
   ],
   "source": [
    "def get_basis_set_data(mol):\n",
    "    # number of AOs in basis\n",
    "    nao = mol.nao\n",
    "    nel = mol.nelectron\n",
    "    ao_coords = []\n",
    "    for atom_coord in mol.atom_coords():\n",
    "        # add coords as many times as there are ao's for each atom\n",
    "        # this way, ao_coords can be indexed by each AO index\n",
    "        for i in range(nao//nel):\n",
    "            ao_coords.append(atom_coord)\n",
    "\n",
    "\n",
    "    # get contraction coeffs and exponents of each AO basis function\n",
    "    grouped_ctr_coeffs = []\n",
    "    grouped_exps = []\n",
    "    grouped_angulars = []\n",
    "\n",
    "    # set up different counters to access data for degenerate (p, d, ...) AOs\n",
    "    counter_compr = 0 # counter for counting the number of ao's, seeing degenerate orbitals (cf p) as one\n",
    "    counter_tot = 0 # counter for counting the total number of unique ao's\n",
    "\n",
    "    while counter_tot < nao:\n",
    "        grouped_ctr_coeffs.append(mol.bas_ctr_coeff(counter_compr))\n",
    "        grouped_exps.append(mol.bas_exp(counter_compr))\n",
    "        angular_mom = mol.bas_angular(counter_compr)\n",
    "        grouped_angulars.append(angular_mom)\n",
    "        degen = 2*angular_mom + 1\n",
    "        counter_compr += 1\n",
    "        counter_tot += degen\n",
    "    return nao, grouped_ctr_coeffs, grouped_exps, grouped_angulars, ao_coords\n",
    "\n",
    "def get_AO_val_at_r(r_vec, ao_number, ctr_coeffs, exps, angulars, ao_coords):\n",
    "    \"\"\"Get the value of a gaussian AO at a specific cartesian coord.\n",
    "    Currently only works for s orbitals. (need to deal with x/y/z/xx/xy/... for larger orbitals)\n",
    "    \"\"\"\n",
    "    for angular in angulars:\n",
    "        assert angular == 0, 'this function currently only supports s orbitals.'\n",
    "    x, y, z = r_vec\n",
    "    atom_x, atom_y, atom_z = ao_coords[ao_number]\n",
    "    # build GTO expression\n",
    "    def GTO(x, y, z):\n",
    "        value = 0\n",
    "        for i, ctr_coeff in enumerate(ctr_coeffs[ao_number]):\n",
    "            value += ctr_coeff * np.exp(-exps[ao_number][i] * ((x - atom_x)**2 + (y - atom_y)**2 + (z - atom_z)**2))\n",
    "        return value\n",
    "    return GTO(x, y, z)\n",
    "\n",
    "# example:\n",
    "nao, grouped_ctr_coeffs, grouped_exps, grouped_angulars, ao_coords = get_basis_set_data(mol)\n",
    "get_AO_val_at_r([0, 1, 0], 0, grouped_ctr_coeffs, grouped_exps, grouped_angulars, ao_coords)[0]"
   ]
  },
  {
   "cell_type": "code",
   "execution_count": 20,
   "metadata": {},
   "outputs": [
    {
     "data": {
      "text/plain": [
       "array([[-0.6803014,  0.       ,  0.       ],\n",
       "       [ 0.6803014,  0.       ,  0.       ]])"
      ]
     },
     "execution_count": 20,
     "metadata": {},
     "output_type": "execute_result"
    }
   ],
   "source": [
    "mol.atom_coords()"
   ]
  },
  {
   "cell_type": "code",
   "execution_count": 24,
   "metadata": {},
   "outputs": [],
   "source": [
    "def get_el_density_at_r(r_vec, mol, hf_obj):\n",
    "    # get density matrix\n",
    "    density_matrix = mf.make_rdm1()\n",
    "    # get value of each AO at location r\n",
    "    AO_values = []\n",
    "    for AO in range(mol.nao):\n",
    "        nao, grouped_ctr_coeffs, grouped_exps, grouped_angulars, ao_coords = get_basis_set_data(mol)\n",
    "        AO_values.append(get_AO_val_at_r(r_vec, AO, grouped_ctr_coeffs, grouped_exps, grouped_angulars, ao_coords)[0])\n",
    "    # gather into one matrix\n",
    "    AO_values = np.array(AO_values)\n",
    "    AO_values_matrix = np.einsum('i, j -> ij', AO_values.conj(), AO_values)\n",
    "\n",
    "    # perform contraction\n",
    "    return np.einsum('ij, ij ->', density_matrix, AO_values_matrix)"
   ]
  },
  {
   "cell_type": "code",
   "execution_count": 27,
   "metadata": {},
   "outputs": [],
   "source": [
    "# Define the grid resolution and range\n",
    "x_min, x_max = -1.0, 1.0  # Angstrom\n",
    "y_min, y_max = -1.0, 1.0  # Angstrom\n",
    "grid_points = 100  # Number of points along each axis\n",
    "\n",
    "# Create the x and y coordinates for the grid\n",
    "x_coords = np.linspace(x_min, x_max, grid_points)\n",
    "y_coords = np.linspace(y_min, y_max, grid_points)\n",
    "\n",
    "# Initialize the 2D array to store electron densities\n",
    "electron_density = np.zeros((grid_points, grid_points))\n",
    "\n",
    "# Compute electron density at each point in the xy-plane\n",
    "for i, x in enumerate(x_coords):\n",
    "    for j, y in enumerate(y_coords):\n",
    "        # Create the r_vec for the xy-plane, z = 0\n",
    "        r_vec = np.array([x, y, 0.0])\n",
    "        # Compute electron density at this point\n",
    "        electron_density[i, j] = get_el_density_at_r(r_vec, mol, mf)\n",
    "\n",
    "# electron_density is now a 2D numpy array with the electron densities\n"
   ]
  },
  {
   "cell_type": "code",
   "execution_count": 28,
   "metadata": {},
   "outputs": [
    {
     "data": {
      "image/png": "[encoded data removed]",
      "text/plain": [
       "<Figure size 576x432 with 2 Axes>"
      ]
     },
     "metadata": {
      "needs_background": "light"
     },
     "output_type": "display_data"
    }
   ],
   "source": [
    "import matplotlib.pyplot as plt\n",
    "\n",
    "# Create a meshgrid for plotting\n",
    "X, Y = np.meshgrid(x_coords, y_coords)\n",
    "\n",
    "# Plot the electron density using contour plot\n",
    "plt.figure(figsize=(8, 6))\n",
    "cp = plt.contourf(X, Y, electron_density, cmap='viridis')\n",
    "plt.colorbar(cp, label='Electron Density')\n",
    "plt.xlabel('x (Å)')\n",
    "plt.ylabel('y (Å)')\n",
    "plt.title('Electron Density on xy-plane')\n",
    "plt.show()\n"
   ]
  }
 ],
 "metadata": {
  "kernelspec": {
   "display_name": "Python 3",
   "language": "python",
   "name": "python3"
  },
  "language_info": {
   "codemirror_mode": {
    "name": "ipython",
    "version": 3
   },
   "file_extension": ".py",
   "mimetype": "text/x-python",
   "name": "python",
   "nbconvert_exporter": "python",
   "pygments_lexer": "ipython3",
   "version": "3.8.10"
  }
 },
 "nbformat": 4,
 "nbformat_minor": 2
}
