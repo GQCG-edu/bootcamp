{
 "cells": [
  {
   "cell_type": "markdown",
   "metadata": {},
   "source": [
    "## Electron density visualisation"
   ]
  },
  {
   "cell_type": "code",
   "execution_count": 38,
   "metadata": {},
   "outputs": [],
   "source": [
    "# import packages\n",
    "import pyscf\n",
    "import numpy as np"
   ]
  },
  {
   "cell_type": "code",
   "execution_count": 42,
   "metadata": {},
   "outputs": [
    {
     "name": "stdout",
     "output_type": "stream",
     "text": [
      "converged SCF energy = -1.12658682459588\n"
     ]
    },
    {
     "data": {
      "text/plain": [
       "-1.1265868245958832"
      ]
     },
     "execution_count": 42,
     "metadata": {},
     "output_type": "execute_result"
    }
   ],
   "source": [
    "# create molecule and run RHF calculation\n",
    "mol = pyscf.gto.Mole()\n",
    "mol.build(\n",
    "    atom = \"\"\"H 0 0 0; H 0 0 0.7122\"\"\", # default distance unit is angstrom\n",
    "    basis = \"6-31g\",\n",
    "    symmetry=\"Coov\"\n",
    ")\n",
    "mf = pyscf.scf.RHF(mol) # init HF object\n",
    "mf.kernel() # run SCF"
   ]
  },
  {
   "cell_type": "markdown",
   "metadata": {},
   "source": [
    "The first-order electron density operator $\\hat{\\rho}(\\mathbf{r})$ is defined in first quantisation as\n",
    "$$\n",
    "\\hat{\\rho}(\\mathbf{r}) = \\sum_{i}^N \\delta(\\mathbf{r_i} - \\mathbf{r}).\n",
    "$$\n",
    "\n",
    "We define the Hartree-Fock Slater determinant $\\ket{\\Phi} = |\\phi_1 \\phi_2 ... \\phi_N|$ as \n",
    "$$\n",
    " \\prod_i a_i^\\dag \\ket{0},\n",
    " $$\n",
    "such that we can define the density operator in second quantisation (cf. Helgaker CH1) as\n",
    "$$\\hat{\\rho}(\\mathbf{r}) = \\sum_{pq}^K \\rho(\\mathbf{r})_{pq} a_p^\\dag a_q$$\n",
    "with\n",
    "$$\n",
    "\\rho(\\mathbf{r})_{pq} = \\int d\\mathbf{r}' \\phi_p^*(\\mathbf{r}') \\delta(\\mathbf{r}' - \\mathbf{r}) \\phi_q(\\mathbf{r}') =\n",
    " \\phi_p^*(\\mathbf{r})\\phi_q(\\mathbf{r})\n",
    " $$\n",
    "\n",
    "This gives us the first-order electron density\n",
    "$$\n",
    " \\bra{\\Phi}\\hat{\\rho}(\\mathbf{r})\\ket{\\Phi} = \\sum_{pq}^K \\phi_p^*(\\mathbf{r})\\phi_q(\\mathbf{r}) \\bra{\\Phi}a_p^\\dag a_q\\ket{\\Phi} = \n",
    "\\sum_{pq}^K \\phi_p^*(\\mathbf{r})\\phi_q(\\mathbf{r}) \\gamma_{pq} = \\sum_i^{N_{occ}} \\phi_i^*(\\mathbf{r})\\phi_i(\\mathbf{r}).\n",
    "$$\n",
    "Expanding the MOs in a basis of atomic orbitals $\\chi$\n",
    "$$\n",
    "\\ket{\\phi_p} = \\sum_\\mu C_{\\mu i} \\ket{\\chi_\\mu}\n",
    "$$\n",
    "and defining the first order density matrix (1-RDM)\n",
    "$$\n",
    "D_{\\mu\\nu} = \\sum_i^{N_{occ}} C_{\\mu i} C_{\\nu i}^*\n",
    "$$\n",
    "we find\n",
    "$$\n",
    "\\bra{\\Phi}\\hat{\\rho}(\\mathbf{r})\\ket{\\Phi} = \\sum_{\\mu \\nu} D_{\\nu\\mu} \\chi_\\mu^*(\\mathbf{r}) \\chi_\\nu(\\mathbf{r}).\n",
    "$$"
   ]
  },
  {
   "cell_type": "markdown",
   "metadata": {},
   "source": [
    "We thus need to obtain the values of each AO for each point in space."
   ]
  },
  {
   "cell_type": "code",
   "execution_count": 81,
   "metadata": {},
   "outputs": [
    {
     "data": {
      "text/plain": [
       "0.44295171258916344"
      ]
     },
     "execution_count": 81,
     "metadata": {},
     "output_type": "execute_result"
    }
   ],
   "source": [
    "def get_basis_set_data(mol):\n",
    "    # number of AOs in basis\n",
    "    nao = mol.nao\n",
    "\n",
    "    # get contraction coeffs and exponents of each AO basis function\n",
    "    grouped_ctr_coeffs = []\n",
    "    grouped_exps = []\n",
    "    grouped_angulars = []\n",
    "\n",
    "    # set up different counters to access data for degenerate (p, d, ...) AOs\n",
    "    counter_compr = 0 # counter for counting the number of ao's, seeing degenerate orbitals (cf p) as one\n",
    "    counter_tot = 0 # counter for counting the total number of unique ao's\n",
    "\n",
    "    while counter_tot < nao:\n",
    "        grouped_ctr_coeffs.append(mol.bas_ctr_coeff(counter_compr))\n",
    "        grouped_exps.append(mol.bas_exp(counter_compr))\n",
    "        angular_mom = mol.bas_angular(counter_compr)\n",
    "        grouped_angulars.append(angular_mom)\n",
    "        degen = 2*angular_mom + 1\n",
    "        counter_compr += 1\n",
    "        counter_tot += degen\n",
    "    return nao, grouped_ctr_coeffs, grouped_exps, grouped_angulars\n",
    "\n",
    "def get_AO_val_at_r(r_vec, ao_number, ctr_coeffs, exps, angulars):\n",
    "    \"\"\"Get the value of a gaussian AO at a specific cartesian coord.\n",
    "    Currently only works for s orbitals. (need to deal with x/y/z/xx/xy/... for larger orbitals)\n",
    "    \"\"\"\n",
    "    for angular in angulars:\n",
    "        assert angular == 0, 'this function currently only supports s orbitals.'\n",
    "    x, y, z = r_vec\n",
    "    # build GTO expression\n",
    "    def GTO(x, y, z):\n",
    "        value = 0\n",
    "        for i, ctr_coeff in enumerate(ctr_coeffs[ao_number]):\n",
    "            value += ctr_coeff * np.exp(-exps[ao_number][i] * (x**2 + y**2 + z**2))\n",
    "        return value\n",
    "    return GTO(x, y, z)\n",
    "\n",
    "# example:\n",
    "nao, grouped_ctr_coeffs, grouped_exps, grouped_angulars = get_basis_set_data(mol)\n",
    "get_AO_val_at_r([0, 1, 0], 0, grouped_ctr_coeffs, grouped_exps, grouped_angulars)[0]"
   ]
  },
  {
   "cell_type": "code",
   "execution_count": 86,
   "metadata": {},
   "outputs": [],
   "source": [
    "def get_el_density_at_r(r_vec, mol, hf_obj):\n",
    "    # get density matrix\n",
    "    density_matrix = mf.make_rdm1()\n",
    "    # get value of each AO at location r\n",
    "    AO_values = []\n",
    "    for AO in range(mol.nao):\n",
    "        nao, grouped_ctr_coeffs, grouped_exps, grouped_angulars = get_basis_set_data(mol)\n",
    "        AO_values.append(get_AO_val_at_r(r_vec, AO, grouped_ctr_coeffs, grouped_exps, grouped_angulars)[0])\n",
    "    # gather into one matrix\n",
    "    AO_values = np.array(AO_values)\n",
    "    AO_values_matrix = np.einsum('i, j -> ij', AO_values.conj(), AO_values)\n",
    "\n",
    "    # perform contraction\n",
    "    return np.einsum('ij, ij ->', density_matrix, AO_values_matrix)"
   ]
  },
  {
   "cell_type": "code",
   "execution_count": null,
   "metadata": {},
   "outputs": [],
   "source": []
  }
 ],
 "metadata": {
  "kernelspec": {
   "display_name": "Python 3",
   "language": "python",
   "name": "python3"
  },
  "language_info": {
   "codemirror_mode": {
    "name": "ipython",
    "version": 3
   },
   "file_extension": ".py",
   "mimetype": "text/x-python",
   "name": "python",
   "nbconvert_exporter": "python",
   "pygments_lexer": "ipython3",
   "version": "3.8.10"
  }
 },
 "nbformat": 4,
 "nbformat_minor": 2
}
