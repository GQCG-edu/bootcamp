{
 "cells": [
  {
   "cell_type": "markdown",
   "metadata": {},
   "source": [
    "## Electron density visualisation"
   ]
  },
  {
   "cell_type": "code",
   "execution_count": 95,
   "metadata": {},
   "outputs": [],
   "source": [
    "# import packages\n",
    "import pyscf\n",
    "import numpy as np"
   ]
  },
  {
   "cell_type": "code",
   "execution_count": 96,
   "metadata": {},
   "outputs": [
    {
     "name": "stdout",
     "output_type": "stream",
     "text": [
      "converged SCF energy = -1.12675331969834\n"
     ]
    },
    {
     "data": {
      "text/plain": [
       "-1.1267533196983448"
      ]
     },
     "execution_count": 96,
     "metadata": {},
     "output_type": "execute_result"
    }
   ],
   "source": [
    "# create molecule and run RHF calculation\n",
    "mol = pyscf.gto.Mole()\n",
    "mol.build(\n",
    "    atom = \"\"\"H -0.36 0 0; H 0.36 0 0\"\"\", # default distance unit is angstrom\n",
    "    basis = \"6-31g\",\n",
    "    symmetry=\"C1\"\n",
    ")\n",
    "mf = pyscf.scf.RHF(mol) # init HF object\n",
    "mf.kernel() # run SCF"
   ]
  },
  {
   "cell_type": "markdown",
   "metadata": {},
   "source": [
    "The first-order electron density operator $\\hat{\\rho}(\\mathbf{r})$ is defined in first quantisation as\n",
    "$$\n",
    "\\hat{\\rho}(\\mathbf{r}) = \\sum_{i}^N \\delta(\\mathbf{r_i} - \\mathbf{r}).\n",
    "$$\n",
    "\n",
    "We define the Hartree-Fock Slater determinant $\\ket{\\Phi} = |\\phi_1 \\phi_2 ... \\phi_N|$ as \n",
    "$$\n",
    " \\prod_i a_i^\\dag \\ket{0},\n",
    " $$\n",
    "such that we can define the density operator in second quantisation (cf. Helgaker CH1) as\n",
    "$$\\hat{\\rho}(\\mathbf{r}) = \\sum_{pq}^K \\rho(\\mathbf{r})_{pq} a_p^\\dag a_q$$\n",
    "with\n",
    "$$\n",
    "\\rho(\\mathbf{r})_{pq} = \\int d\\mathbf{r}' \\phi_p^*(\\mathbf{r}') \\delta(\\mathbf{r}' - \\mathbf{r}) \\phi_q(\\mathbf{r}') =\n",
    " \\phi_p^*(\\mathbf{r})\\phi_q(\\mathbf{r})\n",
    " $$\n",
    "\n",
    "This gives us the first-order electron density\n",
    "$$\n",
    " \\bra{\\Phi}\\hat{\\rho}(\\mathbf{r})\\ket{\\Phi} = \\sum_{pq}^K \\phi_p^*(\\mathbf{r})\\phi_q(\\mathbf{r}) \\bra{\\Phi}a_p^\\dag a_q\\ket{\\Phi} = \n",
    "\\sum_{pq}^K \\phi_p^*(\\mathbf{r})\\phi_q(\\mathbf{r}) \\gamma_{pq} = \\sum_i^{N_{occ}} \\phi_i^*(\\mathbf{r})\\phi_i(\\mathbf{r}).\n",
    "$$\n",
    "Expanding the MOs in a basis of atomic orbitals $\\chi$\n",
    "$$\n",
    "\\ket{\\phi_p} = \\sum_\\mu C_{\\mu i} \\ket{\\chi_\\mu}\n",
    "$$\n",
    "and defining the first order density matrix (1-RDM)\n",
    "$$\n",
    "D_{\\mu\\nu} = \\sum_i^{N_{occ}} C_{\\mu i} C_{\\nu i}^*\n",
    "$$\n",
    "we find\n",
    "$$\n",
    "\\bra{\\Phi}\\hat{\\rho}(\\mathbf{r})\\ket{\\Phi} = \\sum_{\\mu \\nu} D_{\\nu\\mu} \\chi_\\mu^*(\\mathbf{r}) \\chi_\\nu(\\mathbf{r}).\n",
    "$$"
   ]
  },
  {
   "cell_type": "markdown",
   "metadata": {},
   "source": [
    "We thus need to obtain the values of each AO for each point in space."
   ]
  },
  {
   "cell_type": "code",
   "execution_count": 105,
   "metadata": {},
   "outputs": [
    {
     "data": {
      "text/plain": [
       "0.44295171258916344"
      ]
     },
     "execution_count": 105,
     "metadata": {},
     "output_type": "execute_result"
    }
   ],
   "source": [
    "def get_basis_set_data(mol):\n",
    "    # number of AOs in basis\n",
    "    nao = mol.nao\n",
    "    atom_coords = mol.atom_coords()\n",
    "\n",
    "    # get contraction coeffs and exponents of each AO basis function\n",
    "    grouped_ctr_coeffs = []\n",
    "    grouped_exps = []\n",
    "    grouped_angulars = []\n",
    "\n",
    "    # set up different counters to access data for degenerate (p, d, ...) AOs\n",
    "    counter_compr = 0 # counter for counting the number of ao's, seeing degenerate orbitals (cf p) as one\n",
    "    counter_tot = 0 # counter for counting the total number of unique ao's\n",
    "\n",
    "    while counter_tot < nao:\n",
    "        grouped_ctr_coeffs.append(mol.bas_ctr_coeff(counter_compr))\n",
    "        grouped_exps.append(mol.bas_exp(counter_compr))\n",
    "        angular_mom = mol.bas_angular(counter_compr)\n",
    "        grouped_angulars.append(angular_mom)\n",
    "        degen = 2*angular_mom + 1\n",
    "        counter_compr += 1\n",
    "        counter_tot += degen\n",
    "    return nao, grouped_ctr_coeffs, grouped_exps, grouped_angulars, atom_coords\n",
    "\n",
    "def get_AO_val_at_r(r_vec, ao_number, ctr_coeffs, exps, angulars, atom_coords):\n",
    "    \"\"\"Get the value of a gaussian AO at a specific cartesian coord.\n",
    "    Currently only works for s orbitals. (need to deal with x/y/z/xx/xy/... for larger orbitals)\n",
    "    \"\"\"\n",
    "    for angular in angulars:\n",
    "        assert angular == 0, 'this function currently only supports s orbitals.'\n",
    "    x, y, z = r_vec\n",
    "    atom_x, atom_y, atom_z = atom_coords[ao_number]\n",
    "    # build GTO expression\n",
    "    def GTO(x, y, z):\n",
    "        value = 0\n",
    "        for i, ctr_coeff in enumerate(ctr_coeffs[ao_number]):\n",
    "            value += ctr_coeff * np.exp(-exps[ao_number][i] * (x**2 + y**2 + z**2))\n",
    "        return value\n",
    "    return GTO(x, y, z)\n",
    "\n",
    "# example:\n",
    "nao, grouped_ctr_coeffs, grouped_exps, grouped_angulars = get_basis_set_data(mol)\n",
    "get_AO_val_at_r([0, 1, 0], 0, grouped_ctr_coeffs, grouped_exps, grouped_angulars)[0]"
   ]
  },
  {
   "cell_type": "code",
   "execution_count": 104,
   "metadata": {},
   "outputs": [
    {
     "data": {
      "text/plain": [
       "array([[-0.6803014,  0.       ,  0.       ],\n",
       "       [ 0.6803014,  0.       ,  0.       ]])"
      ]
     },
     "execution_count": 104,
     "metadata": {},
     "output_type": "execute_result"
    }
   ],
   "source": [
    "mol.atom_coords()"
   ]
  },
  {
   "cell_type": "code",
   "execution_count": 102,
   "metadata": {},
   "outputs": [
    {
     "data": {
      "text/plain": [
       "['_TemporaryMoleContext',\n",
       " '__add__',\n",
       " '__call__',\n",
       " '__class__',\n",
       " '__delattr__',\n",
       " '__dict__',\n",
       " '__dir__',\n",
       " '__doc__',\n",
       " '__eq__',\n",
       " '__format__',\n",
       " '__ge__',\n",
       " '__getattr__',\n",
       " '__getattribute__',\n",
       " '__gt__',\n",
       " '__hash__',\n",
       " '__init__',\n",
       " '__init_subclass__',\n",
       " '__le__',\n",
       " '__lt__',\n",
       " '__module__',\n",
       " '__ne__',\n",
       " '__new__',\n",
       " '__reduce__',\n",
       " '__reduce_ex__',\n",
       " '__repr__',\n",
       " '__setattr__',\n",
       " '__sizeof__',\n",
       " '__str__',\n",
       " '__subclasshook__',\n",
       " '__weakref__',\n",
       " '_add_suffix',\n",
       " '_atm',\n",
       " '_atom',\n",
       " '_bas',\n",
       " '_basis',\n",
       " '_build_symmetry',\n",
       " '_built',\n",
       " '_ecp',\n",
       " '_ecpbas',\n",
       " '_enuc',\n",
       " '_env',\n",
       " '_keys',\n",
       " '_libcint_ctr_coeff',\n",
       " '_nao',\n",
       " '_nelectron',\n",
       " '_pseudo',\n",
       " '_symm_axes',\n",
       " '_symm_orig',\n",
       " 'ao2mo',\n",
       " 'ao_labels',\n",
       " 'ao_loc',\n",
       " 'ao_loc_2c',\n",
       " 'ao_loc_nr',\n",
       " 'aoslice_2c_by_atom',\n",
       " 'aoslice_by_atom',\n",
       " 'aoslice_nr_by_atom',\n",
       " 'apply',\n",
       " 'atom',\n",
       " 'atom_charge',\n",
       " 'atom_charges',\n",
       " 'atom_coord',\n",
       " 'atom_coords',\n",
       " 'atom_mass_list',\n",
       " 'atom_nelec_core',\n",
       " 'atom_nshells',\n",
       " 'atom_pure_symbol',\n",
       " 'atom_shell_ids',\n",
       " 'atom_symbol',\n",
       " 'bas_angular',\n",
       " 'bas_atom',\n",
       " 'bas_coord',\n",
       " 'bas_ctr_coeff',\n",
       " 'bas_exp',\n",
       " 'bas_kappa',\n",
       " 'bas_len_cart',\n",
       " 'bas_len_spinor',\n",
       " 'bas_nctr',\n",
       " 'bas_nprim',\n",
       " 'basis',\n",
       " 'build',\n",
       " 'cart',\n",
       " 'cart2sph_coeff',\n",
       " 'cart_labels',\n",
       " 'charge',\n",
       " 'check_sanity',\n",
       " 'condense_to_shell',\n",
       " 'copy',\n",
       " 'dump_input',\n",
       " 'dumps',\n",
       " 'ecp',\n",
       " 'elements',\n",
       " 'energy_nuc',\n",
       " 'etbs',\n",
       " 'eval_ao',\n",
       " 'eval_gto',\n",
       " 'expand_etb',\n",
       " 'expand_etbs',\n",
       " 'format_atom',\n",
       " 'format_basis',\n",
       " 'format_ecp',\n",
       " 'fromfile',\n",
       " 'fromstring',\n",
       " 'get_enuc',\n",
       " 'groupname',\n",
       " 'gto_norm',\n",
       " 'has_ecp',\n",
       " 'has_ecp_soc',\n",
       " 'incore_anyway',\n",
       " 'inertia_moment',\n",
       " 'intor',\n",
       " 'intor_asymmetric',\n",
       " 'intor_by_shell',\n",
       " 'intor_symmetric',\n",
       " 'irrep_id',\n",
       " 'irrep_name',\n",
       " 'kernel',\n",
       " 'loads',\n",
       " 'loads_',\n",
       " 'make_atm_env',\n",
       " 'make_bas_env',\n",
       " 'make_ecp_env',\n",
       " 'make_env',\n",
       " 'max_memory',\n",
       " 'ms',\n",
       " 'multiplicity',\n",
       " 'nao',\n",
       " 'nao_2c',\n",
       " 'nao_2c_range',\n",
       " 'nao_cart',\n",
       " 'nao_nr',\n",
       " 'nao_nr_range',\n",
       " 'natm',\n",
       " 'nbas',\n",
       " 'nelec',\n",
       " 'nelectron',\n",
       " 'npgto_nr',\n",
       " 'nucmod',\n",
       " 'nucprop',\n",
       " 'offset_2c_by_atom',\n",
       " 'offset_ao_by_atom',\n",
       " 'offset_nr_by_atom',\n",
       " 'omega',\n",
       " 'output',\n",
       " 'pack',\n",
       " 'post_kernel',\n",
       " 'pre_kernel',\n",
       " 'run',\n",
       " 'search_ao_label',\n",
       " 'search_ao_nr',\n",
       " 'search_ao_r',\n",
       " 'search_shell_id',\n",
       " 'set',\n",
       " 'set_common_orig',\n",
       " 'set_common_orig_',\n",
       " 'set_common_origin',\n",
       " 'set_common_origin_',\n",
       " 'set_f12_zeta',\n",
       " 'set_geom_',\n",
       " 'set_nuc_mod',\n",
       " 'set_nuc_mod_',\n",
       " 'set_range_coulomb',\n",
       " 'set_range_coulomb_',\n",
       " 'set_rinv_orig',\n",
       " 'set_rinv_orig_',\n",
       " 'set_rinv_origin',\n",
       " 'set_rinv_origin_',\n",
       " 'set_rinv_zeta',\n",
       " 'set_rinv_zeta_',\n",
       " 'sph2spinor_coeff',\n",
       " 'sph_labels',\n",
       " 'spheric_labels',\n",
       " 'spin',\n",
       " 'spinor_labels',\n",
       " 'stdout',\n",
       " 'symm_orb',\n",
       " 'symmetry',\n",
       " 'symmetry_subgroup',\n",
       " 'time_reversal_map',\n",
       " 'tmap',\n",
       " 'to_uncontracted_cartesian_basis',\n",
       " 'tofile',\n",
       " 'topgroup',\n",
       " 'tostring',\n",
       " 'tot_electrons',\n",
       " 'unit',\n",
       " 'unpack',\n",
       " 'unpack_',\n",
       " 'update',\n",
       " 'update_from_chk',\n",
       " 'verbose',\n",
       " 'view',\n",
       " 'with_common_orig',\n",
       " 'with_common_origin',\n",
       " 'with_integral_screen',\n",
       " 'with_long_range_coulomb',\n",
       " 'with_range_coulomb',\n",
       " 'with_rinv_as_nucleus',\n",
       " 'with_rinv_at_nucleus',\n",
       " 'with_rinv_orig',\n",
       " 'with_rinv_origin',\n",
       " 'with_rinv_zeta',\n",
       " 'with_short_range_coulomb']"
      ]
     },
     "execution_count": 102,
     "metadata": {},
     "output_type": "execute_result"
    }
   ],
   "source": [
    "dir(mol)"
   ]
  },
  {
   "cell_type": "code",
   "execution_count": 98,
   "metadata": {},
   "outputs": [],
   "source": [
    "def get_el_density_at_r(r_vec, mol, hf_obj):\n",
    "    # get density matrix\n",
    "    density_matrix = mf.make_rdm1()\n",
    "    # get value of each AO at location r\n",
    "    AO_values = []\n",
    "    for AO in range(mol.nao):\n",
    "        nao, grouped_ctr_coeffs, grouped_exps, grouped_angulars = get_basis_set_data(mol)\n",
    "        AO_values.append(get_AO_val_at_r(r_vec, AO, grouped_ctr_coeffs, grouped_exps, grouped_angulars)[0])\n",
    "    # gather into one matrix\n",
    "    AO_values = np.array(AO_values)\n",
    "    AO_values_matrix = np.einsum('i, j -> ij', AO_values.conj(), AO_values)\n",
    "\n",
    "    # perform contraction\n",
    "    return np.einsum('ij, ij ->', density_matrix, AO_values_matrix)"
   ]
  },
  {
   "cell_type": "code",
   "execution_count": 99,
   "metadata": {},
   "outputs": [],
   "source": [
    "# Define the grid resolution and range\n",
    "x_min, x_max = 0.0, 1.0  # Angstrom\n",
    "y_min, y_max = 0.0, 1.0  # Angstrom\n",
    "grid_points = 100  # Number of points along each axis\n",
    "\n",
    "# Create the x and y coordinates for the grid\n",
    "x_coords = np.linspace(x_min, x_max, grid_points)\n",
    "y_coords = np.linspace(y_min, y_max, grid_points)\n",
    "\n",
    "# Initialize the 2D array to store electron densities\n",
    "electron_density = np.zeros((grid_points, grid_points))\n",
    "\n",
    "# Compute electron density at each point in the xy-plane\n",
    "for i, x in enumerate(x_coords):\n",
    "    for j, y in enumerate(y_coords):\n",
    "        # Create the r_vec for the xy-plane, z = 0\n",
    "        r_vec = np.array([x, y, 0.0])\n",
    "        # Compute electron density at this point\n",
    "        electron_density[i, j] = get_el_density_at_r(r_vec, mol, mf)\n",
    "\n",
    "# electron_density is now a 2D numpy array with the electron densities\n"
   ]
  },
  {
   "cell_type": "code",
   "execution_count": 100,
   "metadata": {},
   "outputs": [
    {
     "data": {
      "image/png": "[encoded data removed]",
      "text/plain": [
       "<Figure size 576x432 with 2 Axes>"
      ]
     },
     "metadata": {
      "needs_background": "light"
     },
     "output_type": "display_data"
    }
   ],
   "source": [
    "import matplotlib.pyplot as plt\n",
    "\n",
    "# Create a meshgrid for plotting\n",
    "X, Y = np.meshgrid(x_coords, y_coords)\n",
    "\n",
    "# Plot the electron density using contour plot\n",
    "plt.figure(figsize=(8, 6))\n",
    "cp = plt.contourf(X, Y, electron_density, cmap='viridis')\n",
    "plt.colorbar(cp, label='Electron Density')\n",
    "plt.xlabel('x (Å)')\n",
    "plt.ylabel('y (Å)')\n",
    "plt.title('Electron Density on xy-plane')\n",
    "plt.show()\n"
   ]
  }
 ],
 "metadata": {
  "kernelspec": {
   "display_name": "Python 3",
   "language": "python",
   "name": "python3"
  },
  "language_info": {
   "codemirror_mode": {
    "name": "ipython",
    "version": 3
   },
   "file_extension": ".py",
   "mimetype": "text/x-python",
   "name": "python",
   "nbconvert_exporter": "python",
   "pygments_lexer": "ipython3",
   "version": "3.8.10"
  }
 },
 "nbformat": 4,
 "nbformat_minor": 2
}
