{
 "cells": [
  {
   "cell_type": "markdown",
   "metadata": {},
   "source": [
    "## Electron density visualisation"
   ]
  },
  {
   "cell_type": "markdown",
   "metadata": {},
   "source": [
    "The first-order electron density operator $\\hat{\\rho}(\\mathbf{r})$ is defined in first quantisation as\n",
    "$$\n",
    "\\hat{\\rho}(\\mathbf{r}) = \\sum_{i}^N \\delta(\\mathbf{r_i} - \\mathbf{r}).\n",
    "$$\n",
    "\n",
    "We define the Hartree-Fock Slater determinant $\\ket{\\Phi} = |\\phi_1 \\phi_2 ... \\phi_N|$ as \n",
    "$$\n",
    " \\prod_i a_i^\\dag \\ket{0},\n",
    " $$\n",
    "such that we can define the density operator in second quantisation (cf. Helgaker CH1) as\n",
    "$$\\hat{\\rho}(\\mathbf{r}) = \\sum_{pq}^K \\rho(\\mathbf{r})_{pq} a_p^\\dag a_q$$\n",
    "with\n",
    "$$\n",
    "\\rho(\\mathbf{r})_{pq} = \\int d\\mathbf{r}' \\phi_p^*(\\mathbf{r}') \\delta(\\mathbf{r}' - \\mathbf{r}) \\phi_q(\\mathbf{r}') =\n",
    " \\phi_p^*(\\mathbf{r})\\phi_q(\\mathbf{r})\n",
    " $$\n",
    "\n",
    "This gives us the first-order electron density\n",
    "$$\n",
    " \\bra{\\Phi}\\hat{\\rho}(\\mathbf{r})\\ket{\\Phi} = \\sum_{pq}^K \\phi_p^*(\\mathbf{r})\\phi_q(\\mathbf{r}) \\bra{\\Phi}a_p^\\dag a_q\\ket{\\Phi} = \n",
    "\\sum_{pq}^K \\phi_p^*(\\mathbf{r})\\phi_q(\\mathbf{r}) \\gamma_{pq} = \\sum_i^{N_{occ}} \\phi_i^*(\\mathbf{r})\\phi_i(\\mathbf{r}).\n",
    "$$\n",
    "Expanding the MOs in a basis of atomic orbitals $\\chi$\n",
    "$$\n",
    "\\ket{\\phi_p} = \\sum_\\mu C_{\\mu i} \\ket{\\chi_\\mu}\n",
    "$$\n",
    "and defining the first order density matrix (1-RDM)\n",
    "$$\n",
    "D_{\\mu\\nu} = \\sum_i^{N_{occ}} C_{\\mu i} C_{\\nu i}^*\n",
    "$$\n",
    "we find\n",
    "$$\n",
    "\\bra{\\Phi}\\hat{\\rho}(\\mathbf{r})\\ket{\\Phi} = \\sum_{\\mu \\nu} D_{\\nu\\mu} \\chi_\\mu^*(\\mathbf{r}) \\chi_\\nu(\\mathbf{r}).\n",
    "$$"
   ]
  },
  {
   "cell_type": "code",
   "execution_count": 1,
   "metadata": {},
   "outputs": [],
   "source": [
    "# import packages\n",
    "import pyscf\n",
    "import numpy as np"
   ]
  },
  {
   "cell_type": "code",
   "execution_count": 2,
   "metadata": {},
   "outputs": [
    {
     "name": "stdout",
     "output_type": "stream",
     "text": [
      "converged SCF energy = -1.11744993198047\n"
     ]
    },
    {
     "data": {
      "text/plain": [
       "-1.1174499319804712"
      ]
     },
     "execution_count": 2,
     "metadata": {},
     "output_type": "execute_result"
    }
   ],
   "source": [
    "# create molecule and run RHF calculation\n",
    "mol = pyscf.gto.Mole()\n",
    "mol.build(\n",
    "    atom = \"\"\"H -0.68 0 0; H 0.68 0 0\"\"\", # default distance unit is angstrom\n",
    "    basis = \"sto-3g\",\n",
    "    unit = 'bohr',  # specify Bohr units: default is A but underlying calculations of AO stuff is in Bohr.\n",
    "    symmetry=\"C1\"\n",
    ")\n",
    "mf = pyscf.scf.RHF(mol) # init HF object\n",
    "mf.kernel() # run SCF"
   ]
  },
  {
   "cell_type": "markdown",
   "metadata": {},
   "source": [
    "We need to obtain the values of each AO for each point in space. This can be done using the `eval_gto` method. The cartesian point in question must be input as a `np.array`:"
   ]
  },
  {
   "cell_type": "code",
   "execution_count": 3,
   "metadata": {},
   "outputs": [
    {
     "name": "stdout",
     "output_type": "stream",
     "text": [
      "nao:  2\n"
     ]
    },
    {
     "data": {
      "text/plain": [
       "array([0.17461002, 0.17461002])"
      ]
     },
     "execution_count": 3,
     "metadata": {},
     "output_type": "execute_result"
    }
   ],
   "source": [
    "print('nao: ', mol.nao)\n",
    "ao_values = mol.eval_gto('GTOval_cart', np.array([[0, 1, 0]]))\n",
    "ao_values[0]"
   ]
  },
  {
   "cell_type": "markdown",
   "metadata": {},
   "source": [
    "This provides the value of each separate AO at the specified point $r$.\n",
    "To perform the contraction with the 1-RDM in AO basis, we need to perform the outer product of the vector describing each AO's value to obtain a matrix specifying all pairwise combinations of the AOs."
   ]
  },
  {
   "cell_type": "code",
   "execution_count": 4,
   "metadata": {},
   "outputs": [
    {
     "data": {
      "text/plain": [
       "array([[0.03048866, 0.03048866],\n",
       "       [0.03048866, 0.03048866]])"
      ]
     },
     "execution_count": 4,
     "metadata": {},
     "output_type": "execute_result"
    }
   ],
   "source": [
    "ao_values_matrix = np.einsum('i, j -> ij', ao_values[0], ao_values[0])\n",
    "ao_values_matrix"
   ]
  },
  {
   "cell_type": "markdown",
   "metadata": {},
   "source": [
    "Now we can contract this with the density matrix:"
   ]
  },
  {
   "cell_type": "code",
   "execution_count": 5,
   "metadata": {},
   "outputs": [
    {
     "data": {
      "text/plain": [
       "0.07288785033779126"
      ]
     },
     "execution_count": 5,
     "metadata": {},
     "output_type": "execute_result"
    }
   ],
   "source": [
    "density_matrix = mf.make_rdm1()\n",
    "np.einsum('ij, ij ->', density_matrix, ao_values_matrix)"
   ]
  },
  {
   "cell_type": "markdown",
   "metadata": {},
   "source": [
    "Let's perform this for a whole grid to get the final visualisation:"
   ]
  },
  {
   "cell_type": "code",
   "execution_count": 6,
   "metadata": {},
   "outputs": [],
   "source": [
    "def get_el_density_at_r(r_vec, mol, hf_obj):\n",
    "    # get density matrix\n",
    "    density_matrix = hf_obj.make_rdm1()\n",
    "    # get value of each AO at location r\n",
    "    ao_values = mol.eval_gto('GTOval_cart', np.array([r_vec]))\n",
    "    ao_values_matrix = np.einsum('i, j -> ij', ao_values[0], ao_values[0])\n",
    "\n",
    "    # perform contraction\n",
    "    return np.einsum('ij, ij ->', density_matrix, ao_values_matrix)"
   ]
  },
  {
   "cell_type": "code",
   "execution_count": 7,
   "metadata": {},
   "outputs": [],
   "source": [
    "# Define the grid resolution and range\n",
    "x_min, x_max = -3.0, 3.0  # Bohr\n",
    "y_min, y_max = -3.0, 3.0  # Bohr\n",
    "grid_points = 144  # Number of points along each axis\n",
    "\n",
    "# Create the x and y coordinates for the grid\n",
    "x_coords = np.linspace(x_min, x_max, grid_points)\n",
    "y_coords = np.linspace(y_min, y_max, grid_points)\n",
    "\n",
    "# Initialize the 2D array to store electron densities\n",
    "electron_density = np.zeros((grid_points, grid_points))\n",
    "\n",
    "# Compute electron density at each point in the xy-plane\n",
    "for i, x in enumerate(x_coords):\n",
    "    for j, y in enumerate(y_coords):\n",
    "        # Create the r_vec for the xy-plane, z = 0\n",
    "        r_vec = [x, y, 0.0]\n",
    "        # Compute electron density at this point\n",
    "        electron_density[i, j] = get_el_density_at_r(r_vec, mol, mf)"
   ]
  },
  {
   "cell_type": "code",
   "execution_count": 8,
   "metadata": {},
   "outputs": [
    {
     "data": {
      "image/png": "[encoded data removed]",
      "text/plain": [
       "<Figure size 576x432 with 2 Axes>"
      ]
     },
     "metadata": {
      "needs_background": "light"
     },
     "output_type": "display_data"
    }
   ],
   "source": [
    "import matplotlib.pyplot as plt\n",
    "\n",
    "# Create a meshgrid for plotting\n",
    "X, Y = np.meshgrid(x_coords, y_coords)\n",
    "\n",
    "# Plot the electron density using contour plot\n",
    "plt.figure(figsize=(8, 6))\n",
    "cp = plt.contourf(X, Y, electron_density, cmap='viridis')\n",
    "plt.colorbar(cp, label='Electron Density')\n",
    "plt.xlabel('x (au)')\n",
    "plt.ylabel('y (au)')\n",
    "plt.title('Electron Density on xy-plane')\n",
    "plt.show()\n"
   ]
  },
  {
   "cell_type": "markdown",
   "metadata": {},
   "source": [
    "## Benzene"
   ]
  },
  {
   "cell_type": "code",
   "execution_count": 12,
   "metadata": {},
   "outputs": [
    {
     "name": "stdout",
     "output_type": "stream",
     "text": [
      "converged SCF energy = -227.890632747652\n"
     ]
    },
    {
     "data": {
      "text/plain": [
       "-227.89063274765155"
      ]
     },
     "execution_count": 12,
     "metadata": {},
     "output_type": "execute_result"
    }
   ],
   "source": [
    "# benzene\n",
    "mol = pyscf.gto.Mole()\n",
    "mol.build(\n",
    "    atom = \"\"\"\n",
    "    C   0.000000   1.396792   0.000000\n",
    "    H   0.000000   2.481081   0.000000\n",
    "    C  -1.209657   0.698396   0.000000\n",
    "    H  -2.147732   1.240540   0.000000\n",
    "    C  -1.209657  -0.698396   0.000000\n",
    "    H  -2.147732  -1.240540   0.000000\n",
    "    C   0.000000  -1.396792   0.000000\n",
    "    H   0.000000  -2.481081   0.000000\n",
    "    C   1.209657  -0.698396   0.000000\n",
    "    H   2.147732  -1.240540   0.000000\n",
    "    C   1.209657   0.698396   0.000000\n",
    "    H   2.147732   1.240540   0.000000\n",
    "    \"\"\",  # Coordinates are in angstroms by default\n",
    "    basis = \"sto-3g\",\n",
    "    unit = 'angstrom',\n",
    "    symmetry = \"C1\" \n",
    ")\n",
    "\n",
    "# Initialize the RHF object\n",
    "mf = pyscf.scf.RHF(mol)\n",
    "\n",
    "# Run the SCF calculation\n",
    "mf.kernel()\n"
   ]
  },
  {
   "cell_type": "code",
   "execution_count": 13,
   "metadata": {},
   "outputs": [],
   "source": [
    "# Define the grid resolution and range\n",
    "x_min, x_max = -4.5, 4.5  # Bohr\n",
    "y_min, y_max = -4.5, 4.5  # Bohr\n",
    "grid_points = 144  # Number of points along each axis\n",
    "\n",
    "# Create the x and y coordinates for the grid\n",
    "x_coords = np.linspace(x_min, x_max, grid_points)\n",
    "y_coords = np.linspace(y_min, y_max, grid_points)\n",
    "\n",
    "# Initialize the 2D array to store electron densities\n",
    "electron_density = np.zeros((grid_points, grid_points))\n",
    "\n",
    "# Compute electron density at each point in the xy-plane\n",
    "for i, x in enumerate(x_coords):\n",
    "    for j, y in enumerate(y_coords):\n",
    "        # Create the r_vec for the xy-plane, z = 0\n",
    "        r_vec = [x, y, 0.0]\n",
    "        # Compute electron density at this point\n",
    "        electron_density[i, j] = get_el_density_at_r(r_vec, mol, mf)"
   ]
  },
  {
   "cell_type": "code",
   "execution_count": 17,
   "metadata": {},
   "outputs": [
    {
     "data": {
      "image/png": "[encoded data removed]",
      "text/plain": [
       "<Figure size 720x576 with 2 Axes>"
      ]
     },
     "metadata": {
      "needs_background": "light"
     },
     "output_type": "display_data"
    }
   ],
   "source": [
    "# Create a meshgrid for plotting\n",
    "X, Y = np.meshgrid(x_coords, y_coords)\n",
    "\n",
    "# Plot the electron density using contour plot\n",
    "plt.figure(figsize=(10, 8))\n",
    "cp = plt.contourf(X, Y, electron_density, cmap='viridis')\n",
    "plt.colorbar(cp, label='Electron Density')\n",
    "plt.xlabel('x (au)')\n",
    "plt.ylabel('y (au)')\n",
    "plt.title('Electron Density on xy-plane')\n",
    "plt.show()\n"
   ]
  },
  {
   "cell_type": "markdown",
   "metadata": {},
   "source": [
    "We don't see any electron density near the hydrogen atoms. This is because the density around the higher charge carbon atoms is much larger. We can see their presence when we plot the logarithm."
   ]
  },
  {
   "cell_type": "code",
   "execution_count": 18,
   "metadata": {},
   "outputs": [
    {
     "data": {
      "image/png": "[encoded data removed]",
      "text/plain": [
       "<Figure size 720x576 with 2 Axes>"
      ]
     },
     "metadata": {
      "needs_background": "light"
     },
     "output_type": "display_data"
    }
   ],
   "source": [
    "# Plot the electron density using contour plot\n",
    "plt.figure(figsize=(10, 8))\n",
    "cp = plt.contourf(X, Y, np.log(electron_density), cmap='viridis')\n",
    "plt.colorbar(cp, label='log(electron density)')\n",
    "plt.xlabel('x (au)')\n",
    "plt.ylabel('y (au)')\n",
    "plt.title('Electron Density on xy-plane')\n",
    "plt.show()\n"
   ]
  }
 ],
 "metadata": {
  "kernelspec": {
   "display_name": "Python 3",
   "language": "python",
   "name": "python3"
  },
  "language_info": {
   "codemirror_mode": {
    "name": "ipython",
    "version": 3
   },
   "file_extension": ".py",
   "mimetype": "text/x-python",
   "name": "python",
   "nbconvert_exporter": "python",
   "pygments_lexer": "ipython3",
   "version": "3.8.10"
  }
 },
 "nbformat": 4,
 "nbformat_minor": 2
}
