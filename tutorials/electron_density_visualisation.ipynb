{
 "cells": [
  {
   "cell_type": "markdown",
   "metadata": {},
   "source": [
    "## Electron density visualisation"
   ]
  },
  {
   "cell_type": "code",
   "execution_count": 1,
   "metadata": {},
   "outputs": [],
   "source": [
    "# import packages\n",
    "import pyscf\n",
    "import numpy as np"
   ]
  },
  {
   "cell_type": "code",
   "execution_count": 2,
   "metadata": {},
   "outputs": [
    {
     "name": "stdout",
     "output_type": "stream",
     "text": [
      "converged SCF energy = -0.907689765843393\n"
     ]
    },
    {
     "data": {
      "text/plain": [
       "-0.9076897658433929"
      ]
     },
     "execution_count": 2,
     "metadata": {},
     "output_type": "execute_result"
    }
   ],
   "source": [
    "# create molecule and run RHF calculation\n",
    "mol = pyscf.gto.Mole()\n",
    "mol.build(\n",
    "    atom = \"\"\"H -2 0 0; H 2 0 0\"\"\", # default distance unit is angstrom\n",
    "    basis = \"6-31++g\",\n",
    "    unit = 'bohr',  # specify Bohr units: default is A but underlying calculations of AO stuff is in Bohr.\n",
    "    symmetry=\"C1\"\n",
    ")\n",
    "mf = pyscf.scf.RHF(mol) # init HF object\n",
    "mf.kernel() # run SCF"
   ]
  },
  {
   "cell_type": "code",
   "execution_count": 3,
   "metadata": {},
   "outputs": [],
   "source": [
    "# # benzene\n",
    "# mol = pyscf.gto.Mole()\n",
    "# mol.build(\n",
    "#     atom = \"\"\"\n",
    "#     C   0.000000   1.396792   0.000000\n",
    "#     H   0.000000   2.481081   0.000000\n",
    "#     C  -1.209657   0.698396   0.000000\n",
    "#     H  -2.147732   1.240540   0.000000\n",
    "#     C  -1.209657  -0.698396   0.000000\n",
    "#     H  -2.147732  -1.240540   0.000000\n",
    "#     C   0.000000  -1.396792   0.000000\n",
    "#     H   0.000000  -2.481081   0.000000\n",
    "#     C   1.209657  -0.698396   0.000000\n",
    "#     H   2.147732  -1.240540   0.000000\n",
    "#     C   1.209657   0.698396   0.000000\n",
    "#     H   2.147732   1.240540   0.000000\n",
    "#     \"\"\",  # Coordinates are in angstroms by default\n",
    "#     basis = \"sto-3g\",\n",
    "#     unit = 'angstrom',  # specifying angstrom units for coordinates\n",
    "#     symmetry = \"C1\"  # No symmetry, can be set to 'D6h' for benzene but set to C1 for RHF\n",
    "# )\n",
    "\n",
    "# # Initialize the RHF object\n",
    "# mf = pyscf.scf.RHF(mol)\n",
    "\n",
    "# # Run the SCF calculation\n",
    "# mf.kernel()\n"
   ]
  },
  {
   "cell_type": "markdown",
   "metadata": {},
   "source": [
    "The first-order electron density operator $\\hat{\\rho}(\\mathbf{r})$ is defined in first quantisation as\n",
    "$$\n",
    "\\hat{\\rho}(\\mathbf{r}) = \\sum_{i}^N \\delta(\\mathbf{r_i} - \\mathbf{r}).\n",
    "$$\n",
    "\n",
    "We define the Hartree-Fock Slater determinant $\\ket{\\Phi} = |\\phi_1 \\phi_2 ... \\phi_N|$ as \n",
    "$$\n",
    " \\prod_i a_i^\\dag \\ket{0},\n",
    " $$\n",
    "such that we can define the density operator in second quantisation (cf. Helgaker CH1) as\n",
    "$$\\hat{\\rho}(\\mathbf{r}) = \\sum_{pq}^K \\rho(\\mathbf{r})_{pq} a_p^\\dag a_q$$\n",
    "with\n",
    "$$\n",
    "\\rho(\\mathbf{r})_{pq} = \\int d\\mathbf{r}' \\phi_p^*(\\mathbf{r}') \\delta(\\mathbf{r}' - \\mathbf{r}) \\phi_q(\\mathbf{r}') =\n",
    " \\phi_p^*(\\mathbf{r})\\phi_q(\\mathbf{r})\n",
    " $$\n",
    "\n",
    "This gives us the first-order electron density\n",
    "$$\n",
    " \\bra{\\Phi}\\hat{\\rho}(\\mathbf{r})\\ket{\\Phi} = \\sum_{pq}^K \\phi_p^*(\\mathbf{r})\\phi_q(\\mathbf{r}) \\bra{\\Phi}a_p^\\dag a_q\\ket{\\Phi} = \n",
    "\\sum_{pq}^K \\phi_p^*(\\mathbf{r})\\phi_q(\\mathbf{r}) \\gamma_{pq} = \\sum_i^{N_{occ}} \\phi_i^*(\\mathbf{r})\\phi_i(\\mathbf{r}).\n",
    "$$\n",
    "Expanding the MOs in a basis of atomic orbitals $\\chi$\n",
    "$$\n",
    "\\ket{\\phi_p} = \\sum_\\mu C_{\\mu i} \\ket{\\chi_\\mu}\n",
    "$$\n",
    "and defining the first order density matrix (1-RDM)\n",
    "$$\n",
    "D_{\\mu\\nu} = \\sum_i^{N_{occ}} C_{\\mu i} C_{\\nu i}^*\n",
    "$$\n",
    "we find\n",
    "$$\n",
    "\\bra{\\Phi}\\hat{\\rho}(\\mathbf{r})\\ket{\\Phi} = \\sum_{\\mu \\nu} D_{\\nu\\mu} \\chi_\\mu^*(\\mathbf{r}) \\chi_\\nu(\\mathbf{r}).\n",
    "$$"
   ]
  },
  {
   "cell_type": "markdown",
   "metadata": {},
   "source": [
    "We thus need to obtain the values of each AO for each point in space."
   ]
  },
  {
   "cell_type": "code",
   "execution_count": 4,
   "metadata": {},
   "outputs": [
    {
     "data": {
      "text/plain": [
       "0.033150535576136904"
      ]
     },
     "execution_count": 4,
     "metadata": {},
     "output_type": "execute_result"
    }
   ],
   "source": [
    "def get_basis_set_data(mol):\n",
    "    # number of AOs in basis\n",
    "    nao = mol.nao\n",
    "    nel = mol.nelectron\n",
    "    ao_coords = mol.atom_coords()\n",
    "\n",
    "    # get contraction coeffs and exponents of each AO basis function\n",
    "    grouped_ctr_coeffs = []\n",
    "    grouped_exps = []\n",
    "    angulars = []\n",
    "\n",
    "    # set up different counters to access data for degenerate (p, d, ...) AOs\n",
    "    counter_compr = 0 # counter for counting the number of ao's, seeing degenerate orbitals (cf p) as one\n",
    "    counter_tot = 0 # counter for counting the total number of unique ao's\n",
    "\n",
    "    while counter_tot < nao:\n",
    "        grouped_ctr_coeffs.append(mol.bas_ctr_coeff(counter_compr))\n",
    "        grouped_exps.append(mol.bas_exp(counter_compr))\n",
    "        angular_mom = mol.bas_angular(counter_compr)\n",
    "        angulars.append(angular_mom)\n",
    "        degen = 2*angular_mom + 1\n",
    "        counter_compr += 1\n",
    "        counter_tot += degen\n",
    "\n",
    "    return nao, nel, grouped_ctr_coeffs, grouped_exps, angulars, ao_coords\n",
    "\n",
    "def unpack_degen_aos(nao, nel, grouped_ctr_coeffs, grouped_exps, angulars, ao_coords):\n",
    "    \"\"\"Unpack AO metadata for each degenerate AO also. (E.g. one gruoped ctr coeffs, exps) for each p_i orbital, and specified angular direction for each\"\"\"\n",
    "    # ctr coeffs and exponents\n",
    "    unpacked_ctr_coeffs = []\n",
    "    unpacked_exps = []\n",
    "    unpacked_angular_functions = []\n",
    "    for i, am in enumerate(angulars):\n",
    "        degen = 2*am + 1\n",
    "        for _ in range(degen):\n",
    "            unpacked_ctr_coeffs.append(grouped_ctr_coeffs[i])\n",
    "            unpacked_exps.append(grouped_exps[i])\n",
    "        # for am: save angular function\n",
    "        if am == 0:\n",
    "            unpacked_angular_functions.append(lambda r: 1) # return 1\n",
    "        if am == 1:\n",
    "            unpacked_angular_functions.append(lambda r: r[0]) # return x\n",
    "            unpacked_angular_functions.append(lambda r: r[1]) # return y\n",
    "            unpacked_angular_functions.append(lambda r: r[2]) # return z\n",
    "        if am == 2:\n",
    "            unpacked_angular_functions.append(lambda r: r[0] * r[1]) # return xy\n",
    "            unpacked_angular_functions.append(lambda r: r[1] * r[2]) # return yz\n",
    "            unpacked_angular_functions.append(lambda r: r[2] * r[0]) # return zx\n",
    "            unpacked_angular_functions.append(lambda r: r[0]**2 - r[1]**2) # return x**2 - y**2\n",
    "            unpacked_angular_functions.append(lambda r: 2*r[2]**2 - r[0]**2 - r[1]**2) # return 2z**2 - x**2 - y**2\n",
    "\n",
    "    # ao coords\n",
    "    unpacked_ao_coords = []\n",
    "    for atom_coord in ao_coords:\n",
    "        # add coords as many times as there are ao's for each atom\n",
    "        for i in range(nao//nel):\n",
    "            unpacked_ao_coords.append(atom_coord)\n",
    "\n",
    "    assert nao == len(unpacked_ctr_coeffs) == len(unpacked_exps) == len(unpacked_angular_functions) == len(unpacked_ao_coords), 'lengths of each unpacked list should be identical'\n",
    "\n",
    "    return unpacked_ctr_coeffs, unpacked_exps, unpacked_angular_functions, unpacked_ao_coords\n",
    "\n",
    "\n",
    "def get_AO_val_at_r(r_vec, ao_id, unpacked_ctr_coeffs, unpacked_exps, unpacked_angular_functions, unpacked_ao_coords):\n",
    "    \"\"\"Get the value of a gaussian AO at a specific cartesian coord.\n",
    "    input:\n",
    "    r_vec: (list) cartesian coordinates of the requested point, eg [1.2, 0, 0]\n",
    "    ao_id: (int) index of the ao you're accessing\n",
    "    others: see output of unpack_degen_aos\n",
    "    \"\"\"\n",
    "    # check that AM is supported\n",
    "    for angular in angulars:\n",
    "        assert angular < 2, 'this function currently only supports s, p, and d orbitals.'\n",
    "\n",
    "    # set up cartesian coordinates\n",
    "    x, y, z = r_vec # requested point\n",
    "    atom_x, atom_y, atom_z = unpacked_ao_coords[ao_id] # centre of this AO\n",
    "\n",
    "    # build GTO expression\n",
    "    def GTO(x, y, z):\n",
    "        value = 0\n",
    "        # add weighted value of each uncontracted GTO to final output\n",
    "        for i, ctr_coeff in enumerate(unpacked_ctr_coeffs[ao_id]):\n",
    "            # c * AM(r_vec) * radial_part(r_vec)\n",
    "            value += ctr_coeff * unpacked_angular_functions[ao_id](r_vec) * np.exp(- unpacked_exps[ao_id][i] * ((x - atom_x)**2 + (y - atom_y)**2 + (z - atom_z)**2)) # unpacked_exps contain unique exp for each uncontracted gaussian\n",
    "        return value\n",
    "    \n",
    "    return GTO(x, y, z)[0] # GTO output is 0D array, need content as float\n",
    "\n",
    "# example:\n",
    "nao, nel, grouped_ctr_coeffs, grouped_exps, angulars, ao_coords = get_basis_set_data(mol)\n",
    "unpacked_ctr_coeffs, unpacked_exps, unpacked_angular_functions, unpacked_ao_coords = unpack_degen_aos(nao, nel, grouped_ctr_coeffs, grouped_exps, angulars, ao_coords)\n",
    "get_AO_val_at_r([0, 1, 0], 0, unpacked_ctr_coeffs, unpacked_exps, unpacked_angular_functions, unpacked_ao_coords)"
   ]
  },
  {
   "cell_type": "code",
   "execution_count": 5,
   "metadata": {},
   "outputs": [],
   "source": [
    "def get_el_density_at_r(r_vec, mol, hf_obj):\n",
    "    # get density matrix\n",
    "    density_matrix = mf.make_rdm1()\n",
    "    # get value of each AO at location r\n",
    "    AO_values = []\n",
    "    for ao_id in range(mol.nao):\n",
    "        nao, nel, grouped_ctr_coeffs, grouped_exps, angulars, ao_coords = get_basis_set_data(mol)\n",
    "        unpacked_ctr_coeffs, unpacked_exps, unpacked_angular_functions, unpacked_ao_coords = unpack_degen_aos(nao, nel, grouped_ctr_coeffs, grouped_exps, angulars, ao_coords)\n",
    "        AO_values.append(get_AO_val_at_r(r_vec, ao_id, unpacked_ctr_coeffs, unpacked_exps, unpacked_angular_functions, unpacked_ao_coords))\n",
    "    # gather into one matrix\n",
    "    AO_values = np.array(AO_values)\n",
    "    AO_values_matrix = np.einsum('i, j -> ij', AO_values.conj(), AO_values)\n",
    "\n",
    "    # perform contraction\n",
    "    return np.einsum('ij, ij ->', density_matrix, AO_values_matrix)"
   ]
  },
  {
   "cell_type": "code",
   "execution_count": 6,
   "metadata": {},
   "outputs": [],
   "source": [
    "# Define the grid resolution and range\n",
    "x_min, x_max = -3.0, 3.0  # Bohr\n",
    "y_min, y_max = -3.0, 3.0  # Bohr\n",
    "grid_points = 100  # Number of points along each axis\n",
    "\n",
    "# Create the x and y coordinates for the grid\n",
    "x_coords = np.linspace(x_min, x_max, grid_points)\n",
    "y_coords = np.linspace(y_min, y_max, grid_points)\n",
    "\n",
    "# Initialize the 2D array to store electron densities\n",
    "electron_density = np.zeros((grid_points, grid_points))\n",
    "\n",
    "# Compute electron density at each point in the xy-plane\n",
    "for i, x in enumerate(x_coords):\n",
    "    for j, y in enumerate(y_coords):\n",
    "        # Create the r_vec for the xy-plane, z = 0\n",
    "        r_vec = np.array([x, y, 0.0])\n",
    "        # Compute electron density at this point\n",
    "        electron_density[i, j] = get_el_density_at_r(r_vec, mol, mf)"
   ]
  },
  {
   "cell_type": "code",
   "execution_count": 7,
   "metadata": {},
   "outputs": [
    {
     "data": {
      "image/png": "[encoded data removed]",
      "text/plain": [
       "<Figure size 576x432 with 2 Axes>"
      ]
     },
     "metadata": {
      "needs_background": "light"
     },
     "output_type": "display_data"
    }
   ],
   "source": [
    "import matplotlib.pyplot as plt\n",
    "\n",
    "# Create a meshgrid for plotting\n",
    "X, Y = np.meshgrid(x_coords, y_coords)\n",
    "\n",
    "# Plot the electron density using contour plot\n",
    "plt.figure(figsize=(8, 6))\n",
    "cp = plt.contourf(X, Y, electron_density, cmap='viridis')\n",
    "plt.colorbar(cp, label='Electron Density')\n",
    "plt.xlabel('x (au)')\n",
    "plt.ylabel('y (au)')\n",
    "plt.title('Electron Density on xy-plane')\n",
    "plt.show()\n"
   ]
  }
 ],
 "metadata": {
  "kernelspec": {
   "display_name": "Python 3",
   "language": "python",
   "name": "python3"
  },
  "language_info": {
   "codemirror_mode": {
    "name": "ipython",
    "version": 3
   },
   "file_extension": ".py",
   "mimetype": "text/x-python",
   "name": "python",
   "nbconvert_exporter": "python",
   "pygments_lexer": "ipython3",
   "version": "3.8.10"
  }
 },
 "nbformat": 4,
 "nbformat_minor": 2
}
